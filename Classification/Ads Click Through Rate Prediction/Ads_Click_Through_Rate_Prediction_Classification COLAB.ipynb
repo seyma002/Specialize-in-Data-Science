{
 "cells": [
  {
   "cell_type": "markdown",
   "id": "385c0628",
   "metadata": {
    "id": "385c0628"
   },
   "source": [
    "## Ads Click-Through Rate Prediction - Classification"
   ]
  },
  {
   "cell_type": "markdown",
   "id": "6cf4c250",
   "metadata": {
    "id": "6cf4c250"
   },
   "source": [
    "Click-through rate (CTR) is an important digital marketing metric that represents the ratio of the number of users who clicked on an ad to the total number of times the ad was viewed. CTR is used to evaluate the effectiveness of online advertising campaigns and measures how much a user is interested in an ad. The \"Clicked on Ad\" column shows whether a user clicked on an ad, while other variables (such as the user's daily internet usage, age, gender, income level) provide information about factors that may affect the click-through rate.\n",
    "\n",
    "* Daily Time Spent on Site: Shows how much time a user spends on a site daily.\n",
    "* Age: The user's age.\n",
    "* Area Income: The average income level of the user's region.\n",
    "* Daily Internet Usage: The time the user spends on the internet daily.\n",
    "* Ad Topic Line: Brief information about the title or content of the ad.\n",
    "* City: The city where the user lives.\n",
    "* Gender: The gender of the user.\n",
    "* Country: The country where the user lives.\n",
    "* Timestamp: The timestamp of the moment the user saw or clicked on the ad.\n",
    "* Clicked on Ad: A binary variable indicating whether the user clicked on the ad (1: Clicked, 0: Did not click).\n",
    "\n",
    "Using this dataset, it is possible to analyze which demographic factors and internet usage habits affect the ad click-through rate. In particular, the relationships between the \"Clicked on Ad\" column and other variables can help develop strategies to improve ad performance.\n",
    "\n",
    "In this case, the Clicked on Ad column will be the target variable (label) of the classification model. Our goal is to predict whether users will click on an ad, which is a binary classification problem.\n",
    "\n",
    "The model you will obtain in this process will allow us to predict whether users will click on an ad in the future based on new data."
   ]
  },
  {
   "cell_type": "markdown",
   "id": "f10df34e",
   "metadata": {
    "id": "f10df34e"
   },
   "source": [
    "<img src='ads.png' width=550 >"
   ]
  },
  {
   "cell_type": "markdown",
   "id": "c90234c3",
   "metadata": {
    "id": "c90234c3"
   },
   "source": [
    "## Import Libraries"
   ]
  },
  {
   "cell_type": "code",
   "execution_count": 1,
   "id": "99b00e7e",
   "metadata": {
    "id": "99b00e7e"
   },
   "outputs": [],
   "source": [
    "import pandas as pd\n",
    "import seaborn as sns\n",
    "import matplotlib.pyplot as plt\n",
    "import warnings\n",
    "warnings.filterwarnings('ignore')\n",
    "import datetime\n",
    "from sklearn.model_selection import train_test_split\n",
    "from sklearn.naive_bayes import GaussianNB\n",
    "from sklearn.naive_bayes import BernoulliNB\n",
    "from sklearn.metrics import accuracy_score, confusion_matrix, classification_report\n",
    "from sklearn.metrics import roc_curve, auc\n",
    "from sklearn.model_selection import KFold, cross_val_score\n",
    "from sklearn.ensemble import RandomForestClassifier\n",
    "from sklearn.datasets import make_classification"
   ]
  },
  {
   "cell_type": "code",
   "execution_count": 2,
   "id": "a2212c3f",
   "metadata": {
    "id": "a2212c3f"
   },
   "outputs": [],
   "source": [
    "df=pd.read_csv('ad_10000records.csv')\n",
    "#Read the file."
   ]
  },
  {
   "cell_type": "markdown",
   "id": "5bbe0431",
   "metadata": {
    "id": "5bbe0431"
   },
   "source": [
    "## EDA - Exploratory Data Analysis"
   ]
  },
  {
   "cell_type": "code",
   "execution_count": 3,
   "id": "0974f5cf",
   "metadata": {
    "colab": {
     "base_uri": "https://localhost:8080/",
     "height": 206
    },
    "id": "0974f5cf",
    "outputId": "4bdecdaa-9796-48ae-91a6-2c819a812df3"
   },
   "outputs": [
    {
     "data": {
      "application/vnd.google.colaboratory.intrinsic+json": {
       "summary": "{\n  \"name\": \"df\",\n  \"rows\": 10000,\n  \"fields\": [\n    {\n      \"column\": \"Daily Time Spent on Site\",\n      \"properties\": {\n        \"dtype\": \"number\",\n        \"std\": 15.704141935309405,\n        \"min\": 32.6,\n        \"max\": 90.97,\n        \"num_unique_values\": 460,\n        \"samples\": [\n          81.58,\n          57.24,\n          74.07\n        ],\n        \"semantic_type\": \"\",\n        \"description\": \"\"\n      }\n    },\n    {\n      \"column\": \"Age\",\n      \"properties\": {\n        \"dtype\": \"number\",\n        \"std\": 8.572972738563772,\n        \"min\": 19.0,\n        \"max\": 60.0,\n        \"num_unique_values\": 39,\n        \"samples\": [\n          60.0,\n          48.0,\n          26.0\n        ],\n        \"semantic_type\": \"\",\n        \"description\": \"\"\n      }\n    },\n    {\n      \"column\": \"Area Income\",\n      \"properties\": {\n        \"dtype\": \"number\",\n        \"std\": 13343.708717688587,\n        \"min\": 13996.5,\n        \"max\": 79332.33,\n        \"num_unique_values\": 524,\n        \"samples\": [\n          42760.22,\n          56593.8,\n          73538.09\n        ],\n        \"semantic_type\": \"\",\n        \"description\": \"\"\n      }\n    },\n    {\n      \"column\": \"Daily Internet Usage\",\n      \"properties\": {\n        \"dtype\": \"number\",\n        \"std\": 40.820951456932306,\n        \"min\": 105.22,\n        \"max\": 269.96,\n        \"num_unique_values\": 505,\n        \"samples\": [\n          223.03,\n          124.54,\n          171.9\n        ],\n        \"semantic_type\": \"\",\n        \"description\": \"\"\n      }\n    },\n    {\n      \"column\": \"Ad Topic Line\",\n      \"properties\": {\n        \"dtype\": \"category\",\n        \"num_unique_values\": 559,\n        \"samples\": [\n          \"Extended systemic policy\",\n          \"Organic bottom-line service-desk\",\n          \"Enhanced homogeneous moderator\"\n        ],\n        \"semantic_type\": \"\",\n        \"description\": \"\"\n      }\n    },\n    {\n      \"column\": \"City\",\n      \"properties\": {\n        \"dtype\": \"category\",\n        \"num_unique_values\": 521,\n        \"samples\": [\n          \"North Garyhaven\",\n          \"Port Jodi\",\n          \"Port Jeffrey\"\n        ],\n        \"semantic_type\": \"\",\n        \"description\": \"\"\n      }\n    },\n    {\n      \"column\": \"Gender\",\n      \"properties\": {\n        \"dtype\": \"category\",\n        \"num_unique_values\": 2,\n        \"samples\": [\n          \"Female\",\n          \"Male\"\n        ],\n        \"semantic_type\": \"\",\n        \"description\": \"\"\n      }\n    },\n    {\n      \"column\": \"Country\",\n      \"properties\": {\n        \"dtype\": \"category\",\n        \"num_unique_values\": 207,\n        \"samples\": [\n          \"Central African Republic\",\n          \"Saint Pierre and Miquelon\"\n        ],\n        \"semantic_type\": \"\",\n        \"description\": \"\"\n      }\n    },\n    {\n      \"column\": \"Timestamp\",\n      \"properties\": {\n        \"dtype\": \"object\",\n        \"num_unique_values\": 567,\n        \"samples\": [\n          \"2016-02-14 22:23:30\",\n          \"2016-07-07 13:37:34\"\n        ],\n        \"semantic_type\": \"\",\n        \"description\": \"\"\n      }\n    },\n    {\n      \"column\": \"Clicked on Ad\",\n      \"properties\": {\n        \"dtype\": \"number\",\n        \"std\": 0,\n        \"min\": 0,\n        \"max\": 1,\n        \"num_unique_values\": 2,\n        \"samples\": [\n          1,\n          0\n        ],\n        \"semantic_type\": \"\",\n        \"description\": \"\"\n      }\n    }\n  ]\n}",
       "type": "dataframe",
       "variable_name": "df"
      },
      "text/html": [
       "\n",
       "  <div id=\"df-e928e832-0483-4cc5-9d5b-cbe35fb41dc7\" class=\"colab-df-container\">\n",
       "    <div>\n",
       "<style scoped>\n",
       "    .dataframe tbody tr th:only-of-type {\n",
       "        vertical-align: middle;\n",
       "    }\n",
       "\n",
       "    .dataframe tbody tr th {\n",
       "        vertical-align: top;\n",
       "    }\n",
       "\n",
       "    .dataframe thead th {\n",
       "        text-align: right;\n",
       "    }\n",
       "</style>\n",
       "<table border=\"1\" class=\"dataframe\">\n",
       "  <thead>\n",
       "    <tr style=\"text-align: right;\">\n",
       "      <th></th>\n",
       "      <th>Daily Time Spent on Site</th>\n",
       "      <th>Age</th>\n",
       "      <th>Area Income</th>\n",
       "      <th>Daily Internet Usage</th>\n",
       "      <th>Ad Topic Line</th>\n",
       "      <th>City</th>\n",
       "      <th>Gender</th>\n",
       "      <th>Country</th>\n",
       "      <th>Timestamp</th>\n",
       "      <th>Clicked on Ad</th>\n",
       "    </tr>\n",
       "  </thead>\n",
       "  <tbody>\n",
       "    <tr>\n",
       "      <th>0</th>\n",
       "      <td>62.26</td>\n",
       "      <td>32.0</td>\n",
       "      <td>69481.85</td>\n",
       "      <td>172.83</td>\n",
       "      <td>Decentralized real-time circuit</td>\n",
       "      <td>Lisafort</td>\n",
       "      <td>Male</td>\n",
       "      <td>Svalbard &amp; Jan Mayen Islands</td>\n",
       "      <td>2016-06-09 21:43:05</td>\n",
       "      <td>0</td>\n",
       "    </tr>\n",
       "    <tr>\n",
       "      <th>1</th>\n",
       "      <td>41.73</td>\n",
       "      <td>31.0</td>\n",
       "      <td>61840.26</td>\n",
       "      <td>207.17</td>\n",
       "      <td>Optional full-range projection</td>\n",
       "      <td>West Angelabury</td>\n",
       "      <td>Male</td>\n",
       "      <td>Singapore</td>\n",
       "      <td>2016-01-16 17:56:05</td>\n",
       "      <td>0</td>\n",
       "    </tr>\n",
       "    <tr>\n",
       "      <th>2</th>\n",
       "      <td>44.40</td>\n",
       "      <td>30.0</td>\n",
       "      <td>57877.15</td>\n",
       "      <td>172.83</td>\n",
       "      <td>Total 5thgeneration standardization</td>\n",
       "      <td>Reyesfurt</td>\n",
       "      <td>Female</td>\n",
       "      <td>Guadeloupe</td>\n",
       "      <td>2016-06-29 10:50:45</td>\n",
       "      <td>0</td>\n",
       "    </tr>\n",
       "    <tr>\n",
       "      <th>3</th>\n",
       "      <td>59.88</td>\n",
       "      <td>28.0</td>\n",
       "      <td>56180.93</td>\n",
       "      <td>207.17</td>\n",
       "      <td>Balanced empowering success</td>\n",
       "      <td>New Michael</td>\n",
       "      <td>Female</td>\n",
       "      <td>Zambia</td>\n",
       "      <td>2016-06-21 14:32:32</td>\n",
       "      <td>0</td>\n",
       "    </tr>\n",
       "    <tr>\n",
       "      <th>4</th>\n",
       "      <td>49.21</td>\n",
       "      <td>30.0</td>\n",
       "      <td>54324.73</td>\n",
       "      <td>201.58</td>\n",
       "      <td>Total 5thgeneration standardization</td>\n",
       "      <td>West Richard</td>\n",
       "      <td>Female</td>\n",
       "      <td>Qatar</td>\n",
       "      <td>2016-07-21 10:54:35</td>\n",
       "      <td>1</td>\n",
       "    </tr>\n",
       "  </tbody>\n",
       "</table>\n",
       "</div>\n",
       "    <div class=\"colab-df-buttons\">\n",
       "\n",
       "  <div class=\"colab-df-container\">\n",
       "    <button class=\"colab-df-convert\" onclick=\"convertToInteractive('df-e928e832-0483-4cc5-9d5b-cbe35fb41dc7')\"\n",
       "            title=\"Convert this dataframe to an interactive table.\"\n",
       "            style=\"display:none;\">\n",
       "\n",
       "  <svg xmlns=\"http://www.w3.org/2000/svg\" height=\"24px\" viewBox=\"0 -960 960 960\">\n",
       "    <path d=\"M120-120v-720h720v720H120Zm60-500h600v-160H180v160Zm220 220h160v-160H400v160Zm0 220h160v-160H400v160ZM180-400h160v-160H180v160Zm440 0h160v-160H620v160ZM180-180h160v-160H180v160Zm440 0h160v-160H620v160Z\"/>\n",
       "  </svg>\n",
       "    </button>\n",
       "\n",
       "  <style>\n",
       "    .colab-df-container {\n",
       "      display:flex;\n",
       "      gap: 12px;\n",
       "    }\n",
       "\n",
       "    .colab-df-convert {\n",
       "      background-color: #E8F0FE;\n",
       "      border: none;\n",
       "      border-radius: 50%;\n",
       "      cursor: pointer;\n",
       "      display: none;\n",
       "      fill: #1967D2;\n",
       "      height: 32px;\n",
       "      padding: 0 0 0 0;\n",
       "      width: 32px;\n",
       "    }\n",
       "\n",
       "    .colab-df-convert:hover {\n",
       "      background-color: #E2EBFA;\n",
       "      box-shadow: 0px 1px 2px rgba(60, 64, 67, 0.3), 0px 1px 3px 1px rgba(60, 64, 67, 0.15);\n",
       "      fill: #174EA6;\n",
       "    }\n",
       "\n",
       "    .colab-df-buttons div {\n",
       "      margin-bottom: 4px;\n",
       "    }\n",
       "\n",
       "    [theme=dark] .colab-df-convert {\n",
       "      background-color: #3B4455;\n",
       "      fill: #D2E3FC;\n",
       "    }\n",
       "\n",
       "    [theme=dark] .colab-df-convert:hover {\n",
       "      background-color: #434B5C;\n",
       "      box-shadow: 0px 1px 3px 1px rgba(0, 0, 0, 0.15);\n",
       "      filter: drop-shadow(0px 1px 2px rgba(0, 0, 0, 0.3));\n",
       "      fill: #FFFFFF;\n",
       "    }\n",
       "  </style>\n",
       "\n",
       "    <script>\n",
       "      const buttonEl =\n",
       "        document.querySelector('#df-e928e832-0483-4cc5-9d5b-cbe35fb41dc7 button.colab-df-convert');\n",
       "      buttonEl.style.display =\n",
       "        google.colab.kernel.accessAllowed ? 'block' : 'none';\n",
       "\n",
       "      async function convertToInteractive(key) {\n",
       "        const element = document.querySelector('#df-e928e832-0483-4cc5-9d5b-cbe35fb41dc7');\n",
       "        const dataTable =\n",
       "          await google.colab.kernel.invokeFunction('convertToInteractive',\n",
       "                                                    [key], {});\n",
       "        if (!dataTable) return;\n",
       "\n",
       "        const docLinkHtml = 'Like what you see? Visit the ' +\n",
       "          '<a target=\"_blank\" href=https://colab.research.google.com/notebooks/data_table.ipynb>data table notebook</a>'\n",
       "          + ' to learn more about interactive tables.';\n",
       "        element.innerHTML = '';\n",
       "        dataTable['output_type'] = 'display_data';\n",
       "        await google.colab.output.renderOutput(dataTable, element);\n",
       "        const docLink = document.createElement('div');\n",
       "        docLink.innerHTML = docLinkHtml;\n",
       "        element.appendChild(docLink);\n",
       "      }\n",
       "    </script>\n",
       "  </div>\n",
       "\n",
       "\n",
       "<div id=\"df-d898ab53-f599-4896-a81e-ecbd9e961a32\">\n",
       "  <button class=\"colab-df-quickchart\" onclick=\"quickchart('df-d898ab53-f599-4896-a81e-ecbd9e961a32')\"\n",
       "            title=\"Suggest charts\"\n",
       "            style=\"display:none;\">\n",
       "\n",
       "<svg xmlns=\"http://www.w3.org/2000/svg\" height=\"24px\"viewBox=\"0 0 24 24\"\n",
       "     width=\"24px\">\n",
       "    <g>\n",
       "        <path d=\"M19 3H5c-1.1 0-2 .9-2 2v14c0 1.1.9 2 2 2h14c1.1 0 2-.9 2-2V5c0-1.1-.9-2-2-2zM9 17H7v-7h2v7zm4 0h-2V7h2v10zm4 0h-2v-4h2v4z\"/>\n",
       "    </g>\n",
       "</svg>\n",
       "  </button>\n",
       "\n",
       "<style>\n",
       "  .colab-df-quickchart {\n",
       "      --bg-color: #E8F0FE;\n",
       "      --fill-color: #1967D2;\n",
       "      --hover-bg-color: #E2EBFA;\n",
       "      --hover-fill-color: #174EA6;\n",
       "      --disabled-fill-color: #AAA;\n",
       "      --disabled-bg-color: #DDD;\n",
       "  }\n",
       "\n",
       "  [theme=dark] .colab-df-quickchart {\n",
       "      --bg-color: #3B4455;\n",
       "      --fill-color: #D2E3FC;\n",
       "      --hover-bg-color: #434B5C;\n",
       "      --hover-fill-color: #FFFFFF;\n",
       "      --disabled-bg-color: #3B4455;\n",
       "      --disabled-fill-color: #666;\n",
       "  }\n",
       "\n",
       "  .colab-df-quickchart {\n",
       "    background-color: var(--bg-color);\n",
       "    border: none;\n",
       "    border-radius: 50%;\n",
       "    cursor: pointer;\n",
       "    display: none;\n",
       "    fill: var(--fill-color);\n",
       "    height: 32px;\n",
       "    padding: 0;\n",
       "    width: 32px;\n",
       "  }\n",
       "\n",
       "  .colab-df-quickchart:hover {\n",
       "    background-color: var(--hover-bg-color);\n",
       "    box-shadow: 0 1px 2px rgba(60, 64, 67, 0.3), 0 1px 3px 1px rgba(60, 64, 67, 0.15);\n",
       "    fill: var(--button-hover-fill-color);\n",
       "  }\n",
       "\n",
       "  .colab-df-quickchart-complete:disabled,\n",
       "  .colab-df-quickchart-complete:disabled:hover {\n",
       "    background-color: var(--disabled-bg-color);\n",
       "    fill: var(--disabled-fill-color);\n",
       "    box-shadow: none;\n",
       "  }\n",
       "\n",
       "  .colab-df-spinner {\n",
       "    border: 2px solid var(--fill-color);\n",
       "    border-color: transparent;\n",
       "    border-bottom-color: var(--fill-color);\n",
       "    animation:\n",
       "      spin 1s steps(1) infinite;\n",
       "  }\n",
       "\n",
       "  @keyframes spin {\n",
       "    0% {\n",
       "      border-color: transparent;\n",
       "      border-bottom-color: var(--fill-color);\n",
       "      border-left-color: var(--fill-color);\n",
       "    }\n",
       "    20% {\n",
       "      border-color: transparent;\n",
       "      border-left-color: var(--fill-color);\n",
       "      border-top-color: var(--fill-color);\n",
       "    }\n",
       "    30% {\n",
       "      border-color: transparent;\n",
       "      border-left-color: var(--fill-color);\n",
       "      border-top-color: var(--fill-color);\n",
       "      border-right-color: var(--fill-color);\n",
       "    }\n",
       "    40% {\n",
       "      border-color: transparent;\n",
       "      border-right-color: var(--fill-color);\n",
       "      border-top-color: var(--fill-color);\n",
       "    }\n",
       "    60% {\n",
       "      border-color: transparent;\n",
       "      border-right-color: var(--fill-color);\n",
       "    }\n",
       "    80% {\n",
       "      border-color: transparent;\n",
       "      border-right-color: var(--fill-color);\n",
       "      border-bottom-color: var(--fill-color);\n",
       "    }\n",
       "    90% {\n",
       "      border-color: transparent;\n",
       "      border-bottom-color: var(--fill-color);\n",
       "    }\n",
       "  }\n",
       "</style>\n",
       "\n",
       "  <script>\n",
       "    async function quickchart(key) {\n",
       "      const quickchartButtonEl =\n",
       "        document.querySelector('#' + key + ' button');\n",
       "      quickchartButtonEl.disabled = true;  // To prevent multiple clicks.\n",
       "      quickchartButtonEl.classList.add('colab-df-spinner');\n",
       "      try {\n",
       "        const charts = await google.colab.kernel.invokeFunction(\n",
       "            'suggestCharts', [key], {});\n",
       "      } catch (error) {\n",
       "        console.error('Error during call to suggestCharts:', error);\n",
       "      }\n",
       "      quickchartButtonEl.classList.remove('colab-df-spinner');\n",
       "      quickchartButtonEl.classList.add('colab-df-quickchart-complete');\n",
       "    }\n",
       "    (() => {\n",
       "      let quickchartButtonEl =\n",
       "        document.querySelector('#df-d898ab53-f599-4896-a81e-ecbd9e961a32 button');\n",
       "      quickchartButtonEl.style.display =\n",
       "        google.colab.kernel.accessAllowed ? 'block' : 'none';\n",
       "    })();\n",
       "  </script>\n",
       "</div>\n",
       "\n",
       "    </div>\n",
       "  </div>\n"
      ],
      "text/plain": [
       "   Daily Time Spent on Site   Age  Area Income  Daily Internet Usage  \\\n",
       "0                     62.26  32.0     69481.85                172.83   \n",
       "1                     41.73  31.0     61840.26                207.17   \n",
       "2                     44.40  30.0     57877.15                172.83   \n",
       "3                     59.88  28.0     56180.93                207.17   \n",
       "4                     49.21  30.0     54324.73                201.58   \n",
       "\n",
       "                         Ad Topic Line             City  Gender  \\\n",
       "0      Decentralized real-time circuit         Lisafort    Male   \n",
       "1       Optional full-range projection  West Angelabury    Male   \n",
       "2  Total 5thgeneration standardization        Reyesfurt  Female   \n",
       "3          Balanced empowering success      New Michael  Female   \n",
       "4  Total 5thgeneration standardization     West Richard  Female   \n",
       "\n",
       "                        Country            Timestamp  Clicked on Ad  \n",
       "0  Svalbard & Jan Mayen Islands  2016-06-09 21:43:05              0  \n",
       "1                     Singapore  2016-01-16 17:56:05              0  \n",
       "2                    Guadeloupe  2016-06-29 10:50:45              0  \n",
       "3                        Zambia  2016-06-21 14:32:32              0  \n",
       "4                         Qatar  2016-07-21 10:54:35              1  "
      ]
     },
     "execution_count": 3,
     "metadata": {},
     "output_type": "execute_result"
    }
   ],
   "source": [
    "df.head()"
   ]
  },
  {
   "cell_type": "code",
   "execution_count": 4,
   "id": "5d45deb7",
   "metadata": {
    "colab": {
     "base_uri": "https://localhost:8080/"
    },
    "id": "5d45deb7",
    "outputId": "a6a832c9-1cdb-440c-8b38-5cfefbd9a0e5"
   },
   "outputs": [
    {
     "data": {
      "text/plain": [
       "(10000, 10)"
      ]
     },
     "execution_count": 4,
     "metadata": {},
     "output_type": "execute_result"
    }
   ],
   "source": [
    "df.shape"
   ]
  },
  {
   "cell_type": "code",
   "execution_count": 5,
   "id": "17433f3e",
   "metadata": {
    "colab": {
     "base_uri": "https://localhost:8080/",
     "height": 397
    },
    "id": "17433f3e",
    "outputId": "e4cfb787-759b-495f-f798-3e0ce6991fa8"
   },
   "outputs": [
    {
     "data": {
      "text/html": [
       "<div>\n",
       "<style scoped>\n",
       "    .dataframe tbody tr th:only-of-type {\n",
       "        vertical-align: middle;\n",
       "    }\n",
       "\n",
       "    .dataframe tbody tr th {\n",
       "        vertical-align: top;\n",
       "    }\n",
       "\n",
       "    .dataframe thead th {\n",
       "        text-align: right;\n",
       "    }\n",
       "</style>\n",
       "<table border=\"1\" class=\"dataframe\">\n",
       "  <thead>\n",
       "    <tr style=\"text-align: right;\">\n",
       "      <th></th>\n",
       "      <th>0</th>\n",
       "    </tr>\n",
       "  </thead>\n",
       "  <tbody>\n",
       "    <tr>\n",
       "      <th>Daily Time Spent on Site</th>\n",
       "      <td>0</td>\n",
       "    </tr>\n",
       "    <tr>\n",
       "      <th>Age</th>\n",
       "      <td>0</td>\n",
       "    </tr>\n",
       "    <tr>\n",
       "      <th>Area Income</th>\n",
       "      <td>0</td>\n",
       "    </tr>\n",
       "    <tr>\n",
       "      <th>Daily Internet Usage</th>\n",
       "      <td>0</td>\n",
       "    </tr>\n",
       "    <tr>\n",
       "      <th>Ad Topic Line</th>\n",
       "      <td>0</td>\n",
       "    </tr>\n",
       "    <tr>\n",
       "      <th>City</th>\n",
       "      <td>0</td>\n",
       "    </tr>\n",
       "    <tr>\n",
       "      <th>Gender</th>\n",
       "      <td>0</td>\n",
       "    </tr>\n",
       "    <tr>\n",
       "      <th>Country</th>\n",
       "      <td>0</td>\n",
       "    </tr>\n",
       "    <tr>\n",
       "      <th>Timestamp</th>\n",
       "      <td>0</td>\n",
       "    </tr>\n",
       "    <tr>\n",
       "      <th>Clicked on Ad</th>\n",
       "      <td>0</td>\n",
       "    </tr>\n",
       "  </tbody>\n",
       "</table>\n",
       "</div><br><label><b>dtype:</b> int64</label>"
      ],
      "text/plain": [
       "Daily Time Spent on Site    0\n",
       "Age                         0\n",
       "Area Income                 0\n",
       "Daily Internet Usage        0\n",
       "Ad Topic Line               0\n",
       "City                        0\n",
       "Gender                      0\n",
       "Country                     0\n",
       "Timestamp                   0\n",
       "Clicked on Ad               0\n",
       "dtype: int64"
      ]
     },
     "execution_count": 5,
     "metadata": {},
     "output_type": "execute_result"
    }
   ],
   "source": [
    "df.isnull().sum()"
   ]
  },
  {
   "cell_type": "code",
   "execution_count": 6,
   "id": "fda200d7",
   "metadata": {
    "colab": {
     "base_uri": "https://localhost:8080/"
    },
    "id": "fda200d7",
    "outputId": "6d193c6d-24b3-4996-bbf0-20b556162596"
   },
   "outputs": [
    {
     "name": "stdout",
     "output_type": "stream",
     "text": [
      "<class 'pandas.core.frame.DataFrame'>\n",
      "RangeIndex: 10000 entries, 0 to 9999\n",
      "Data columns (total 10 columns):\n",
      " #   Column                    Non-Null Count  Dtype  \n",
      "---  ------                    --------------  -----  \n",
      " 0   Daily Time Spent on Site  10000 non-null  float64\n",
      " 1   Age                       10000 non-null  float64\n",
      " 2   Area Income               10000 non-null  float64\n",
      " 3   Daily Internet Usage      10000 non-null  float64\n",
      " 4   Ad Topic Line             10000 non-null  object \n",
      " 5   City                      10000 non-null  object \n",
      " 6   Gender                    10000 non-null  object \n",
      " 7   Country                   10000 non-null  object \n",
      " 8   Timestamp                 10000 non-null  object \n",
      " 9   Clicked on Ad             10000 non-null  int64  \n",
      "dtypes: float64(4), int64(1), object(5)\n",
      "memory usage: 781.4+ KB\n"
     ]
    }
   ],
   "source": [
    "df.info()"
   ]
  },
  {
   "cell_type": "code",
   "execution_count": 7,
   "id": "0d7537da",
   "metadata": {
    "colab": {
     "base_uri": "https://localhost:8080/",
     "height": 300
    },
    "id": "0d7537da",
    "outputId": "fda1c5d0-c3d7-435e-b85b-29d2cc716582"
   },
   "outputs": [
    {
     "data": {
      "application/vnd.google.colaboratory.intrinsic+json": {
       "summary": "{\n  \"name\": \"df\",\n  \"rows\": 8,\n  \"fields\": [\n    {\n      \"column\": \"Daily Time Spent on Site\",\n      \"properties\": {\n        \"dtype\": \"number\",\n        \"std\": 3516.1191344554904,\n        \"min\": 15.704141935309405,\n        \"max\": 10000.0,\n        \"num_unique_values\": 8,\n        \"samples\": [\n          61.660757000000004,\n          59.59,\n          10000.0\n        ],\n        \"semantic_type\": \"\",\n        \"description\": \"\"\n      }\n    },\n    {\n      \"column\": \"Age\",\n      \"properties\": {\n        \"dtype\": \"number\",\n        \"std\": 3523.9748047883863,\n        \"min\": 8.572972738563772,\n        \"max\": 10000.0,\n        \"num_unique_values\": 8,\n        \"samples\": [\n          35.9401,\n          35.0,\n          10000.0\n        ],\n        \"semantic_type\": \"\",\n        \"description\": \"\"\n      }\n    },\n    {\n      \"column\": \"Area Income\",\n      \"properties\": {\n        \"dtype\": \"number\",\n        \"std\": 26078.886962797354,\n        \"min\": 10000.0,\n        \"max\": 79332.33,\n        \"num_unique_values\": 8,\n        \"samples\": [\n          53840.047721,\n          56180.93,\n          10000.0\n        ],\n        \"semantic_type\": \"\",\n        \"description\": \"\"\n      }\n    },\n    {\n      \"column\": \"Daily Internet Usage\",\n      \"properties\": {\n        \"dtype\": \"number\",\n        \"std\": 3479.3677898195974,\n        \"min\": 40.820951456932306,\n        \"max\": 10000.0,\n        \"num_unique_values\": 8,\n        \"samples\": [\n          177.75983100000002,\n          178.92,\n          10000.0\n        ],\n        \"semantic_type\": \"\",\n        \"description\": \"\"\n      }\n    },\n    {\n      \"column\": \"Clicked on Ad\",\n      \"properties\": {\n        \"dtype\": \"number\",\n        \"std\": 3535.3828289918924,\n        \"min\": 0.0,\n        \"max\": 10000.0,\n        \"num_unique_values\": 5,\n        \"samples\": [\n          0.4917,\n          1.0,\n          0.4999561036836744\n        ],\n        \"semantic_type\": \"\",\n        \"description\": \"\"\n      }\n    }\n  ]\n}",
       "type": "dataframe"
      },
      "text/html": [
       "\n",
       "  <div id=\"df-1004c7cd-dbfc-47ed-8deb-dc21a6cf3b19\" class=\"colab-df-container\">\n",
       "    <div>\n",
       "<style scoped>\n",
       "    .dataframe tbody tr th:only-of-type {\n",
       "        vertical-align: middle;\n",
       "    }\n",
       "\n",
       "    .dataframe tbody tr th {\n",
       "        vertical-align: top;\n",
       "    }\n",
       "\n",
       "    .dataframe thead th {\n",
       "        text-align: right;\n",
       "    }\n",
       "</style>\n",
       "<table border=\"1\" class=\"dataframe\">\n",
       "  <thead>\n",
       "    <tr style=\"text-align: right;\">\n",
       "      <th></th>\n",
       "      <th>Daily Time Spent on Site</th>\n",
       "      <th>Age</th>\n",
       "      <th>Area Income</th>\n",
       "      <th>Daily Internet Usage</th>\n",
       "      <th>Clicked on Ad</th>\n",
       "    </tr>\n",
       "  </thead>\n",
       "  <tbody>\n",
       "    <tr>\n",
       "      <th>count</th>\n",
       "      <td>10000.000000</td>\n",
       "      <td>10000.000000</td>\n",
       "      <td>10000.000000</td>\n",
       "      <td>10000.000000</td>\n",
       "      <td>10000.000000</td>\n",
       "    </tr>\n",
       "    <tr>\n",
       "      <th>mean</th>\n",
       "      <td>61.660757</td>\n",
       "      <td>35.940100</td>\n",
       "      <td>53840.047721</td>\n",
       "      <td>177.759831</td>\n",
       "      <td>0.491700</td>\n",
       "    </tr>\n",
       "    <tr>\n",
       "      <th>std</th>\n",
       "      <td>15.704142</td>\n",
       "      <td>8.572973</td>\n",
       "      <td>13343.708718</td>\n",
       "      <td>40.820951</td>\n",
       "      <td>0.499956</td>\n",
       "    </tr>\n",
       "    <tr>\n",
       "      <th>min</th>\n",
       "      <td>32.600000</td>\n",
       "      <td>19.000000</td>\n",
       "      <td>13996.500000</td>\n",
       "      <td>105.220000</td>\n",
       "      <td>0.000000</td>\n",
       "    </tr>\n",
       "    <tr>\n",
       "      <th>25%</th>\n",
       "      <td>48.860000</td>\n",
       "      <td>29.000000</td>\n",
       "      <td>44052.302500</td>\n",
       "      <td>140.150000</td>\n",
       "      <td>0.000000</td>\n",
       "    </tr>\n",
       "    <tr>\n",
       "      <th>50%</th>\n",
       "      <td>59.590000</td>\n",
       "      <td>35.000000</td>\n",
       "      <td>56180.930000</td>\n",
       "      <td>178.920000</td>\n",
       "      <td>0.000000</td>\n",
       "    </tr>\n",
       "    <tr>\n",
       "      <th>75%</th>\n",
       "      <td>76.580000</td>\n",
       "      <td>42.000000</td>\n",
       "      <td>61840.260000</td>\n",
       "      <td>212.670000</td>\n",
       "      <td>1.000000</td>\n",
       "    </tr>\n",
       "    <tr>\n",
       "      <th>max</th>\n",
       "      <td>90.970000</td>\n",
       "      <td>60.000000</td>\n",
       "      <td>79332.330000</td>\n",
       "      <td>269.960000</td>\n",
       "      <td>1.000000</td>\n",
       "    </tr>\n",
       "  </tbody>\n",
       "</table>\n",
       "</div>\n",
       "    <div class=\"colab-df-buttons\">\n",
       "\n",
       "  <div class=\"colab-df-container\">\n",
       "    <button class=\"colab-df-convert\" onclick=\"convertToInteractive('df-1004c7cd-dbfc-47ed-8deb-dc21a6cf3b19')\"\n",
       "            title=\"Convert this dataframe to an interactive table.\"\n",
       "            style=\"display:none;\">\n",
       "\n",
       "  <svg xmlns=\"http://www.w3.org/2000/svg\" height=\"24px\" viewBox=\"0 -960 960 960\">\n",
       "    <path d=\"M120-120v-720h720v720H120Zm60-500h600v-160H180v160Zm220 220h160v-160H400v160Zm0 220h160v-160H400v160ZM180-400h160v-160H180v160Zm440 0h160v-160H620v160ZM180-180h160v-160H180v160Zm440 0h160v-160H620v160Z\"/>\n",
       "  </svg>\n",
       "    </button>\n",
       "\n",
       "  <style>\n",
       "    .colab-df-container {\n",
       "      display:flex;\n",
       "      gap: 12px;\n",
       "    }\n",
       "\n",
       "    .colab-df-convert {\n",
       "      background-color: #E8F0FE;\n",
       "      border: none;\n",
       "      border-radius: 50%;\n",
       "      cursor: pointer;\n",
       "      display: none;\n",
       "      fill: #1967D2;\n",
       "      height: 32px;\n",
       "      padding: 0 0 0 0;\n",
       "      width: 32px;\n",
       "    }\n",
       "\n",
       "    .colab-df-convert:hover {\n",
       "      background-color: #E2EBFA;\n",
       "      box-shadow: 0px 1px 2px rgba(60, 64, 67, 0.3), 0px 1px 3px 1px rgba(60, 64, 67, 0.15);\n",
       "      fill: #174EA6;\n",
       "    }\n",
       "\n",
       "    .colab-df-buttons div {\n",
       "      margin-bottom: 4px;\n",
       "    }\n",
       "\n",
       "    [theme=dark] .colab-df-convert {\n",
       "      background-color: #3B4455;\n",
       "      fill: #D2E3FC;\n",
       "    }\n",
       "\n",
       "    [theme=dark] .colab-df-convert:hover {\n",
       "      background-color: #434B5C;\n",
       "      box-shadow: 0px 1px 3px 1px rgba(0, 0, 0, 0.15);\n",
       "      filter: drop-shadow(0px 1px 2px rgba(0, 0, 0, 0.3));\n",
       "      fill: #FFFFFF;\n",
       "    }\n",
       "  </style>\n",
       "\n",
       "    <script>\n",
       "      const buttonEl =\n",
       "        document.querySelector('#df-1004c7cd-dbfc-47ed-8deb-dc21a6cf3b19 button.colab-df-convert');\n",
       "      buttonEl.style.display =\n",
       "        google.colab.kernel.accessAllowed ? 'block' : 'none';\n",
       "\n",
       "      async function convertToInteractive(key) {\n",
       "        const element = document.querySelector('#df-1004c7cd-dbfc-47ed-8deb-dc21a6cf3b19');\n",
       "        const dataTable =\n",
       "          await google.colab.kernel.invokeFunction('convertToInteractive',\n",
       "                                                    [key], {});\n",
       "        if (!dataTable) return;\n",
       "\n",
       "        const docLinkHtml = 'Like what you see? Visit the ' +\n",
       "          '<a target=\"_blank\" href=https://colab.research.google.com/notebooks/data_table.ipynb>data table notebook</a>'\n",
       "          + ' to learn more about interactive tables.';\n",
       "        element.innerHTML = '';\n",
       "        dataTable['output_type'] = 'display_data';\n",
       "        await google.colab.output.renderOutput(dataTable, element);\n",
       "        const docLink = document.createElement('div');\n",
       "        docLink.innerHTML = docLinkHtml;\n",
       "        element.appendChild(docLink);\n",
       "      }\n",
       "    </script>\n",
       "  </div>\n",
       "\n",
       "\n",
       "<div id=\"df-7982394e-fae7-4c28-b78f-a7e4424c2794\">\n",
       "  <button class=\"colab-df-quickchart\" onclick=\"quickchart('df-7982394e-fae7-4c28-b78f-a7e4424c2794')\"\n",
       "            title=\"Suggest charts\"\n",
       "            style=\"display:none;\">\n",
       "\n",
       "<svg xmlns=\"http://www.w3.org/2000/svg\" height=\"24px\"viewBox=\"0 0 24 24\"\n",
       "     width=\"24px\">\n",
       "    <g>\n",
       "        <path d=\"M19 3H5c-1.1 0-2 .9-2 2v14c0 1.1.9 2 2 2h14c1.1 0 2-.9 2-2V5c0-1.1-.9-2-2-2zM9 17H7v-7h2v7zm4 0h-2V7h2v10zm4 0h-2v-4h2v4z\"/>\n",
       "    </g>\n",
       "</svg>\n",
       "  </button>\n",
       "\n",
       "<style>\n",
       "  .colab-df-quickchart {\n",
       "      --bg-color: #E8F0FE;\n",
       "      --fill-color: #1967D2;\n",
       "      --hover-bg-color: #E2EBFA;\n",
       "      --hover-fill-color: #174EA6;\n",
       "      --disabled-fill-color: #AAA;\n",
       "      --disabled-bg-color: #DDD;\n",
       "  }\n",
       "\n",
       "  [theme=dark] .colab-df-quickchart {\n",
       "      --bg-color: #3B4455;\n",
       "      --fill-color: #D2E3FC;\n",
       "      --hover-bg-color: #434B5C;\n",
       "      --hover-fill-color: #FFFFFF;\n",
       "      --disabled-bg-color: #3B4455;\n",
       "      --disabled-fill-color: #666;\n",
       "  }\n",
       "\n",
       "  .colab-df-quickchart {\n",
       "    background-color: var(--bg-color);\n",
       "    border: none;\n",
       "    border-radius: 50%;\n",
       "    cursor: pointer;\n",
       "    display: none;\n",
       "    fill: var(--fill-color);\n",
       "    height: 32px;\n",
       "    padding: 0;\n",
       "    width: 32px;\n",
       "  }\n",
       "\n",
       "  .colab-df-quickchart:hover {\n",
       "    background-color: var(--hover-bg-color);\n",
       "    box-shadow: 0 1px 2px rgba(60, 64, 67, 0.3), 0 1px 3px 1px rgba(60, 64, 67, 0.15);\n",
       "    fill: var(--button-hover-fill-color);\n",
       "  }\n",
       "\n",
       "  .colab-df-quickchart-complete:disabled,\n",
       "  .colab-df-quickchart-complete:disabled:hover {\n",
       "    background-color: var(--disabled-bg-color);\n",
       "    fill: var(--disabled-fill-color);\n",
       "    box-shadow: none;\n",
       "  }\n",
       "\n",
       "  .colab-df-spinner {\n",
       "    border: 2px solid var(--fill-color);\n",
       "    border-color: transparent;\n",
       "    border-bottom-color: var(--fill-color);\n",
       "    animation:\n",
       "      spin 1s steps(1) infinite;\n",
       "  }\n",
       "\n",
       "  @keyframes spin {\n",
       "    0% {\n",
       "      border-color: transparent;\n",
       "      border-bottom-color: var(--fill-color);\n",
       "      border-left-color: var(--fill-color);\n",
       "    }\n",
       "    20% {\n",
       "      border-color: transparent;\n",
       "      border-left-color: var(--fill-color);\n",
       "      border-top-color: var(--fill-color);\n",
       "    }\n",
       "    30% {\n",
       "      border-color: transparent;\n",
       "      border-left-color: var(--fill-color);\n",
       "      border-top-color: var(--fill-color);\n",
       "      border-right-color: var(--fill-color);\n",
       "    }\n",
       "    40% {\n",
       "      border-color: transparent;\n",
       "      border-right-color: var(--fill-color);\n",
       "      border-top-color: var(--fill-color);\n",
       "    }\n",
       "    60% {\n",
       "      border-color: transparent;\n",
       "      border-right-color: var(--fill-color);\n",
       "    }\n",
       "    80% {\n",
       "      border-color: transparent;\n",
       "      border-right-color: var(--fill-color);\n",
       "      border-bottom-color: var(--fill-color);\n",
       "    }\n",
       "    90% {\n",
       "      border-color: transparent;\n",
       "      border-bottom-color: var(--fill-color);\n",
       "    }\n",
       "  }\n",
       "</style>\n",
       "\n",
       "  <script>\n",
       "    async function quickchart(key) {\n",
       "      const quickchartButtonEl =\n",
       "        document.querySelector('#' + key + ' button');\n",
       "      quickchartButtonEl.disabled = true;  // To prevent multiple clicks.\n",
       "      quickchartButtonEl.classList.add('colab-df-spinner');\n",
       "      try {\n",
       "        const charts = await google.colab.kernel.invokeFunction(\n",
       "            'suggestCharts', [key], {});\n",
       "      } catch (error) {\n",
       "        console.error('Error during call to suggestCharts:', error);\n",
       "      }\n",
       "      quickchartButtonEl.classList.remove('colab-df-spinner');\n",
       "      quickchartButtonEl.classList.add('colab-df-quickchart-complete');\n",
       "    }\n",
       "    (() => {\n",
       "      let quickchartButtonEl =\n",
       "        document.querySelector('#df-7982394e-fae7-4c28-b78f-a7e4424c2794 button');\n",
       "      quickchartButtonEl.style.display =\n",
       "        google.colab.kernel.accessAllowed ? 'block' : 'none';\n",
       "    })();\n",
       "  </script>\n",
       "</div>\n",
       "\n",
       "    </div>\n",
       "  </div>\n"
      ],
      "text/plain": [
       "       Daily Time Spent on Site           Age   Area Income  \\\n",
       "count              10000.000000  10000.000000  10000.000000   \n",
       "mean                  61.660757     35.940100  53840.047721   \n",
       "std                   15.704142      8.572973  13343.708718   \n",
       "min                   32.600000     19.000000  13996.500000   \n",
       "25%                   48.860000     29.000000  44052.302500   \n",
       "50%                   59.590000     35.000000  56180.930000   \n",
       "75%                   76.580000     42.000000  61840.260000   \n",
       "max                   90.970000     60.000000  79332.330000   \n",
       "\n",
       "       Daily Internet Usage  Clicked on Ad  \n",
       "count          10000.000000   10000.000000  \n",
       "mean             177.759831       0.491700  \n",
       "std               40.820951       0.499956  \n",
       "min              105.220000       0.000000  \n",
       "25%              140.150000       0.000000  \n",
       "50%              178.920000       0.000000  \n",
       "75%              212.670000       1.000000  \n",
       "max              269.960000       1.000000  "
      ]
     },
     "execution_count": 7,
     "metadata": {},
     "output_type": "execute_result"
    }
   ],
   "source": [
    "df.describe()"
   ]
  },
  {
   "cell_type": "code",
   "execution_count": 8,
   "id": "8c0a9710",
   "metadata": {
    "id": "8c0a9710"
   },
   "outputs": [],
   "source": [
    "df['Timestamp']=pd.to_datetime(df['Timestamp'])"
   ]
  },
  {
   "cell_type": "code",
   "execution_count": 9,
   "id": "43ad5039",
   "metadata": {
    "id": "43ad5039"
   },
   "outputs": [],
   "source": [
    "df['day']=df['Timestamp'].dt.day\n",
    "df['month']=df['Timestamp'].dt.month\n",
    "df['year']=df['Timestamp'].dt.year"
   ]
  },
  {
   "cell_type": "code",
   "execution_count": 10,
   "id": "7123b8ac",
   "metadata": {
    "id": "7123b8ac"
   },
   "outputs": [],
   "source": [
    "df.drop('Timestamp', axis=1,inplace=True)"
   ]
  },
  {
   "cell_type": "markdown",
   "id": "b87858aa",
   "metadata": {
    "id": "b87858aa"
   },
   "source": [
    "## Data Visualization"
   ]
  },
  {
   "cell_type": "code",
   "execution_count": 11,
   "id": "88d4f333",
   "metadata": {
    "colab": {
     "base_uri": "https://localhost:8080/",
     "height": 449
    },
    "id": "88d4f333",
    "outputId": "3efb5a52-8583-4c34-e588-f0f59901850b"
   },
   "outputs": [
    {
     "data": {
      "image/png": "[encoded data removed]",
      "text/plain": [
       "<Figure size 640x480 with 1 Axes>"
      ]
     },
     "metadata": {},
     "output_type": "display_data"
    }
   ],
   "source": [
    "sns.kdeplot(x=df['Daily Time Spent on Site'], fill=True, color='blue');"
   ]
  },
  {
   "cell_type": "code",
   "execution_count": 12,
   "id": "4245e36a",
   "metadata": {
    "colab": {
     "base_uri": "https://localhost:8080/",
     "height": 466
    },
    "id": "4245e36a",
    "outputId": "fe6666ed-4820-40ac-e08e-9cbfa5762220"
   },
   "outputs": [
    {
     "data": {
      "image/png": "[encoded data removed]",
      "text/plain": [
       "<Figure size 640x480 with 1 Axes>"
      ]
     },
     "metadata": {},
     "output_type": "display_data"
    }
   ],
   "source": [
    "sns.countplot(x=df['Age'])\n",
    "plt.xticks(rotation=90);"
   ]
  },
  {
   "cell_type": "code",
   "execution_count": 13,
   "id": "596f45b5",
   "metadata": {
    "colab": {
     "base_uri": "https://localhost:8080/",
     "height": 449
    },
    "id": "596f45b5",
    "outputId": "f00b4bf5-85c6-4bf4-af0c-dcdcdba3b0c1"
   },
   "outputs": [
    {
     "data": {
      "image/png": "[encoded data removed]",
      "text/plain": [
       "<Figure size 640x480 with 1 Axes>"
      ]
     },
     "metadata": {},
     "output_type": "display_data"
    }
   ],
   "source": [
    "sns.histplot(x=df['Area Income'], kde=True, color='blue', bins=100);"
   ]
  },
  {
   "cell_type": "code",
   "execution_count": 14,
   "id": "53607ae8",
   "metadata": {
    "colab": {
     "base_uri": "https://localhost:8080/",
     "height": 449
    },
    "id": "53607ae8",
    "outputId": "e07b8d02-8b99-41a9-d0ef-54b68f57b811"
   },
   "outputs": [
    {
     "data": {
      "image/png": "[encoded data removed]",
      "text/plain": [
       "<Figure size 640x480 with 1 Axes>"
      ]
     },
     "metadata": {},
     "output_type": "display_data"
    }
   ],
   "source": [
    "sns.kdeplot(x=df['Daily Internet Usage'], fill=True, color='blue');"
   ]
  },
  {
   "cell_type": "code",
   "execution_count": 15,
   "id": "79da64c8",
   "metadata": {
    "colab": {
     "base_uri": "https://localhost:8080/",
     "height": 489
    },
    "id": "79da64c8",
    "outputId": "981eb698-825a-42de-85e8-ba274defdf84"
   },
   "outputs": [
    {
     "data": {
      "text/html": [
       "<div>\n",
       "<style scoped>\n",
       "    .dataframe tbody tr th:only-of-type {\n",
       "        vertical-align: middle;\n",
       "    }\n",
       "\n",
       "    .dataframe tbody tr th {\n",
       "        vertical-align: top;\n",
       "    }\n",
       "\n",
       "    .dataframe thead th {\n",
       "        text-align: right;\n",
       "    }\n",
       "</style>\n",
       "<table border=\"1\" class=\"dataframe\">\n",
       "  <thead>\n",
       "    <tr style=\"text-align: right;\">\n",
       "      <th></th>\n",
       "      <th>count</th>\n",
       "    </tr>\n",
       "    <tr>\n",
       "      <th>City</th>\n",
       "      <th></th>\n",
       "    </tr>\n",
       "  </thead>\n",
       "  <tbody>\n",
       "    <tr>\n",
       "      <th>Hubbardmouth</th>\n",
       "      <td>336</td>\n",
       "    </tr>\n",
       "    <tr>\n",
       "      <th>West Brandonton</th>\n",
       "      <td>275</td>\n",
       "    </tr>\n",
       "    <tr>\n",
       "      <th>Lisafort</th>\n",
       "      <td>261</td>\n",
       "    </tr>\n",
       "    <tr>\n",
       "      <th>Wintersfort</th>\n",
       "      <td>230</td>\n",
       "    </tr>\n",
       "    <tr>\n",
       "      <th>Stewartbury</th>\n",
       "      <td>207</td>\n",
       "    </tr>\n",
       "    <tr>\n",
       "      <th>...</th>\n",
       "      <td>...</td>\n",
       "    </tr>\n",
       "    <tr>\n",
       "      <th>Turnerview</th>\n",
       "      <td>1</td>\n",
       "    </tr>\n",
       "    <tr>\n",
       "      <th>North Tiffany</th>\n",
       "      <td>1</td>\n",
       "    </tr>\n",
       "    <tr>\n",
       "      <th>North Kristine</th>\n",
       "      <td>1</td>\n",
       "    </tr>\n",
       "    <tr>\n",
       "      <th>East Troyhaven</th>\n",
       "      <td>1</td>\n",
       "    </tr>\n",
       "    <tr>\n",
       "      <th>Davidview</th>\n",
       "      <td>1</td>\n",
       "    </tr>\n",
       "  </tbody>\n",
       "</table>\n",
       "<p>521 rows × 1 columns</p>\n",
       "</div><br><label><b>dtype:</b> int64</label>"
      ],
      "text/plain": [
       "City\n",
       "Hubbardmouth       336\n",
       "West Brandonton    275\n",
       "Lisafort           261\n",
       "Wintersfort        230\n",
       "Stewartbury        207\n",
       "                  ... \n",
       "Turnerview           1\n",
       "North Tiffany        1\n",
       "North Kristine       1\n",
       "East Troyhaven       1\n",
       "Davidview            1\n",
       "Name: count, Length: 521, dtype: int64"
      ]
     },
     "execution_count": 15,
     "metadata": {},
     "output_type": "execute_result"
    }
   ],
   "source": [
    "df['City'].value_counts()"
   ]
  },
  {
   "cell_type": "code",
   "execution_count": 16,
   "id": "7cddbcd7",
   "metadata": {
    "colab": {
     "base_uri": "https://localhost:8080/",
     "height": 449
    },
    "id": "7cddbcd7",
    "outputId": "ba9cdba2-2b71-4370-c8d2-0ccb492662b7"
   },
   "outputs": [
    {
     "data": {
      "image/png": "[encoded data removed]",
      "text/plain": [
       "<Figure size 640x480 with 1 Axes>"
      ]
     },
     "metadata": {},
     "output_type": "display_data"
    }
   ],
   "source": [
    "sns.countplot(x=df['Gender']);"
   ]
  },
  {
   "cell_type": "code",
   "execution_count": 17,
   "id": "3a1aa4fc",
   "metadata": {
    "colab": {
     "base_uri": "https://localhost:8080/",
     "height": 489
    },
    "id": "3a1aa4fc",
    "outputId": "b3ed378d-b820-43c3-a470-848d3a4b7a60"
   },
   "outputs": [
    {
     "data": {
      "text/html": [
       "<div>\n",
       "<style scoped>\n",
       "    .dataframe tbody tr th:only-of-type {\n",
       "        vertical-align: middle;\n",
       "    }\n",
       "\n",
       "    .dataframe tbody tr th {\n",
       "        vertical-align: top;\n",
       "    }\n",
       "\n",
       "    .dataframe thead th {\n",
       "        text-align: right;\n",
       "    }\n",
       "</style>\n",
       "<table border=\"1\" class=\"dataframe\">\n",
       "  <thead>\n",
       "    <tr style=\"text-align: right;\">\n",
       "      <th></th>\n",
       "      <th>count</th>\n",
       "    </tr>\n",
       "    <tr>\n",
       "      <th>Country</th>\n",
       "      <th></th>\n",
       "    </tr>\n",
       "  </thead>\n",
       "  <tbody>\n",
       "    <tr>\n",
       "      <th>Australia</th>\n",
       "      <td>388</td>\n",
       "    </tr>\n",
       "    <tr>\n",
       "      <th>Czech Republic</th>\n",
       "      <td>330</td>\n",
       "    </tr>\n",
       "    <tr>\n",
       "      <th>Turkey</th>\n",
       "      <td>312</td>\n",
       "    </tr>\n",
       "    <tr>\n",
       "      <th>Qatar</th>\n",
       "      <td>224</td>\n",
       "    </tr>\n",
       "    <tr>\n",
       "      <th>Hong Kong</th>\n",
       "      <td>221</td>\n",
       "    </tr>\n",
       "    <tr>\n",
       "      <th>...</th>\n",
       "      <td>...</td>\n",
       "    </tr>\n",
       "    <tr>\n",
       "      <th>South Georgia and the South Sandwich Islands</th>\n",
       "      <td>1</td>\n",
       "    </tr>\n",
       "    <tr>\n",
       "      <th>Wallis and Futuna</th>\n",
       "      <td>1</td>\n",
       "    </tr>\n",
       "    <tr>\n",
       "      <th>Sierra Leone</th>\n",
       "      <td>1</td>\n",
       "    </tr>\n",
       "    <tr>\n",
       "      <th>Niue</th>\n",
       "      <td>1</td>\n",
       "    </tr>\n",
       "    <tr>\n",
       "      <th>Paraguay</th>\n",
       "      <td>1</td>\n",
       "    </tr>\n",
       "  </tbody>\n",
       "</table>\n",
       "<p>207 rows × 1 columns</p>\n",
       "</div><br><label><b>dtype:</b> int64</label>"
      ],
      "text/plain": [
       "Country\n",
       "Australia                                       388\n",
       "Czech Republic                                  330\n",
       "Turkey                                          312\n",
       "Qatar                                           224\n",
       "Hong Kong                                       221\n",
       "                                               ... \n",
       "South Georgia and the South Sandwich Islands      1\n",
       "Wallis and Futuna                                 1\n",
       "Sierra Leone                                      1\n",
       "Niue                                              1\n",
       "Paraguay                                          1\n",
       "Name: count, Length: 207, dtype: int64"
      ]
     },
     "execution_count": 17,
     "metadata": {},
     "output_type": "execute_result"
    }
   ],
   "source": [
    "df['Country'].value_counts()"
   ]
  },
  {
   "cell_type": "code",
   "execution_count": 18,
   "id": "93f329ab",
   "metadata": {
    "colab": {
     "base_uri": "https://localhost:8080/",
     "height": 449
    },
    "id": "93f329ab",
    "outputId": "ecfe2b0e-8066-4f0c-edbd-9d3f37ff1086"
   },
   "outputs": [
    {
     "data": {
      "image/png": "[encoded data removed]",
      "text/plain": [
       "<Figure size 640x480 with 1 Axes>"
      ]
     },
     "metadata": {},
     "output_type": "display_data"
    }
   ],
   "source": [
    "sns.countplot(x=df['day']);"
   ]
  },
  {
   "cell_type": "code",
   "execution_count": 19,
   "id": "76c62a50",
   "metadata": {
    "colab": {
     "base_uri": "https://localhost:8080/",
     "height": 449
    },
    "id": "76c62a50",
    "outputId": "c6872e20-ab1f-4bd5-ea60-bb51412567ac"
   },
   "outputs": [
    {
     "data": {
      "image/png": "[encoded data removed]",
      "text/plain": [
       "<Figure size 640x480 with 1 Axes>"
      ]
     },
     "metadata": {},
     "output_type": "display_data"
    }
   ],
   "source": [
    "sns.countplot(x=df['month']);"
   ]
  },
  {
   "cell_type": "code",
   "execution_count": 20,
   "id": "c74a21ee",
   "metadata": {
    "colab": {
     "base_uri": "https://localhost:8080/",
     "height": 449
    },
    "id": "c74a21ee",
    "outputId": "1128c3d1-1d8f-4b8c-b18a-81ec92cd43e1"
   },
   "outputs": [
    {
     "data": {
      "image/png": "[encoded data removed]",
      "text/plain": [
       "<Figure size 640x480 with 1 Axes>"
      ]
     },
     "metadata": {},
     "output_type": "display_data"
    }
   ],
   "source": [
    "sns.countplot(x=df['year']);"
   ]
  },
  {
   "cell_type": "code",
   "execution_count": 21,
   "id": "3ce39598",
   "metadata": {
    "colab": {
     "base_uri": "https://localhost:8080/",
     "height": 449
    },
    "id": "3ce39598",
    "outputId": "475d28f1-3477-49c1-c5cd-1578bb7b214f"
   },
   "outputs": [
    {
     "data": {
      "image/png": "[encoded data removed]",
      "text/plain": [
       "<Figure size 640x480 with 1 Axes>"
      ]
     },
     "metadata": {},
     "output_type": "display_data"
    }
   ],
   "source": [
    "sns.countplot(x=df['Clicked on Ad']);"
   ]
  },
  {
   "cell_type": "markdown",
   "id": "fb6cc3d1",
   "metadata": {
    "id": "fb6cc3d1"
   },
   "source": [
    "## Modelling"
   ]
  },
  {
   "cell_type": "code",
   "execution_count": 22,
   "id": "7c8fda5f",
   "metadata": {
    "id": "7c8fda5f"
   },
   "outputs": [],
   "source": [
    "x=df.drop('Clicked on Ad', axis=1)\n",
    "y=df[['Clicked on Ad']]"
   ]
  },
  {
   "cell_type": "code",
   "execution_count": 23,
   "id": "8146fa33",
   "metadata": {
    "id": "8146fa33"
   },
   "outputs": [],
   "source": [
    "x=pd.get_dummies(x, drop_first=True)"
   ]
  },
  {
   "cell_type": "code",
   "execution_count": 24,
   "id": "8ac828fd",
   "metadata": {
    "id": "8ac828fd"
   },
   "outputs": [],
   "source": [
    "x_train,x_test,y_train,y_test=train_test_split(x,y, test_size=.20, random_state=42)"
   ]
  },
  {
   "cell_type": "markdown",
   "id": "8f889398",
   "metadata": {
    "id": "8f889398"
   },
   "source": [
    "### Gaussian"
   ]
  },
  {
   "cell_type": "code",
   "execution_count": 25,
   "id": "c922c938",
   "metadata": {
    "colab": {
     "base_uri": "https://localhost:8080/"
    },
    "id": "c922c938",
    "outputId": "4c13a35d-e131-4b03-ab95-2b802ed4083c"
   },
   "outputs": [
    {
     "data": {
      "text/plain": [
       "0.787"
      ]
     },
     "execution_count": 25,
     "metadata": {},
     "output_type": "execute_result"
    }
   ],
   "source": [
    "g=GaussianNB()\n",
    "g.fit(x_train,y_train)\n",
    "gtahmin=g.predict(x_test)\n",
    "accuracy_score(gtahmin,y_test)"
   ]
  },
  {
   "cell_type": "code",
   "execution_count": 26,
   "id": "68fb4f4e",
   "metadata": {
    "colab": {
     "base_uri": "https://localhost:8080/"
    },
    "id": "68fb4f4e",
    "outputId": "730455d6-c804-40b2-e014-9822bf6031c2"
   },
   "outputs": [
    {
     "data": {
      "text/plain": [
       "array([[863, 275],\n",
       "       [151, 711]])"
      ]
     },
     "execution_count": 26,
     "metadata": {},
     "output_type": "execute_result"
    }
   ],
   "source": [
    "confusion_matrix(gtahmin,y_test)"
   ]
  },
  {
   "cell_type": "code",
   "execution_count": 27,
   "id": "8483c828",
   "metadata": {
    "colab": {
     "base_uri": "https://localhost:8080/",
     "height": 448
    },
    "id": "8483c828",
    "outputId": "21d53c50-fc3e-4463-df90-dcb6c3ab3e91"
   },
   "outputs": [
    {
     "data": {
      "text/plain": [
       "<Axes: >"
      ]
     },
     "execution_count": 27,
     "metadata": {},
     "output_type": "execute_result"
    },
    {
     "data": {
      "image/png": "[encoded data removed]",
      "text/plain": [
       "<Figure size 640x480 with 2 Axes>"
      ]
     },
     "metadata": {},
     "output_type": "display_data"
    }
   ],
   "source": [
    "cm = confusion_matrix(gtahmin, y_test)\n",
    "normalized_cm = cm / cm.sum()\n",
    "sns.heatmap(normalized_cm, annot=True, cmap='Blues')"
   ]
  },
  {
   "cell_type": "code",
   "execution_count": 28,
   "id": "af43f5df",
   "metadata": {
    "colab": {
     "base_uri": "https://localhost:8080/"
    },
    "id": "af43f5df",
    "outputId": "acc20bb6-01df-418d-9c36-b27f5058295c"
   },
   "outputs": [
    {
     "name": "stdout",
     "output_type": "stream",
     "text": [
      "              precision    recall  f1-score   support\n",
      "\n",
      "           0       0.85      0.76      0.80      1138\n",
      "           1       0.72      0.82      0.77       862\n",
      "\n",
      "    accuracy                           0.79      2000\n",
      "   macro avg       0.79      0.79      0.79      2000\n",
      "weighted avg       0.80      0.79      0.79      2000\n",
      "\n"
     ]
    }
   ],
   "source": [
    "print(classification_report(gtahmin,y_test))"
   ]
  },
  {
   "cell_type": "code",
   "execution_count": 29,
   "id": "47df9c1a",
   "metadata": {
    "colab": {
     "base_uri": "https://localhost:8080/"
    },
    "id": "47df9c1a",
    "outputId": "43d0f382-6ca2-4214-e871-902c67cc9696"
   },
   "outputs": [
    {
     "name": "stdout",
     "output_type": "stream",
     "text": [
      "Accuracy Scores: [0.8865 0.8835 0.8645 0.8695 0.874 ]\n",
      "Mean Accuracy: 0.8756\n"
     ]
    }
   ],
   "source": [
    "#K-Fold Cross Validation\n",
    "x=df.drop('Clicked on Ad', axis=1)\n",
    "y=df[['Clicked on Ad']]\n",
    "x=pd.get_dummies(x, drop_first=True)\n",
    "\n",
    "model=RandomForestClassifier()\n",
    "\n",
    "#K-fold cross validation (K=5)\n",
    "kf=KFold(n_splits=5, shuffle=True, random_state=42)\n",
    "\n",
    "#Calculating cross validation results\n",
    "scores = cross_val_score(model, x, y, cv=kf, scoring='accuracy')\n",
    "\n",
    "#Average of results\n",
    "print(f\"Accuracy Scores: {scores}\")\n",
    "print(f\"Mean Accuracy: {scores.mean()}\")"
   ]
  },
  {
   "cell_type": "markdown",
   "id": "b15e8d7f",
   "metadata": {
    "id": "b15e8d7f"
   },
   "source": [
    "* K-fold Results\n",
    "\n",
    "1. (Accuracy Scores):The scores are quite close to each other. The lowest accuracy is 86.4%, and the highest accuracy is 88.6%. This indicates that the model performs quite consistently across different data segments. The minimal performance fluctuations indicate that the model is not overfitting or underfitting.\n",
    "\n",
    "2. Mean Accuracy:A mean accuracy of 87.5% indicates that the model performs well overall. This accuracy suggests that the model has a strong and balanced predictive ability on the dataset.\n",
    "\n",
    "3. Variation:\n",
    "Lowest accuracy: 86.4%\n",
    "Highest accuracy: 88.6%\n",
    "There are very small differences between the scores, indicating that the model is very consistent across different data segments. The small variation indicates that the model performs consistently and has good generalization ability.\n",
    "\n",
    "4. Model Performance:\n",
    "Average accuracy of 87.5% is generally considered acceptable and good performance. Although accuracy alone is not completely sufficient, especially in cases of class imbalance, these results indicate that the model successfully performs the classification task to a large extent.\n",
    "\n",
    "General Comment:\n",
    "Average accuracy of 87.5% of the model is generally considered a good performance level. Also, the very low variation between the scores indicates the consistency and reliability of the model. Since the overall performance of the model is strong and balanced, these results can be evaluated quite positively."
   ]
  },
  {
   "cell_type": "code",
   "execution_count": 30,
   "id": "d89e40a0",
   "metadata": {
    "id": "d89e40a0"
   },
   "outputs": [],
   "source": [
    "#Auc and Roc\n",
    "y_scores = g.predict_proba(x_test)[:, 1]\n",
    "fpr, tpr, thresholds = roc_curve(y_test, y_scores)\n",
    "roc_auc = auc(fpr, tpr)"
   ]
  },
  {
   "cell_type": "code",
   "execution_count": 31,
   "id": "350bb6d1",
   "metadata": {
    "colab": {
     "base_uri": "https://localhost:8080/",
     "height": 472
    },
    "id": "350bb6d1",
    "outputId": "4872f39e-b01f-4afa-9af6-6327e44f5076"
   },
   "outputs": [
    {
     "data": {
      "image/png": "[encoded data removed]",
      "text/plain": [
       "<Figure size 640x480 with 1 Axes>"
      ]
     },
     "metadata": {},
     "output_type": "display_data"
    }
   ],
   "source": [
    "plt.figure()\n",
    "plt.plot(fpr, tpr, color='blue', label='ROC curve (area = %0.2f)' % roc_auc)\n",
    "plt.plot([0, 1], [0, 1], color='red', linestyle='--')\n",
    "plt.xlim([0.0, 1.0])\n",
    "plt.ylim([0.0, 1.05])\n",
    "plt.xlabel('False Positive Rate')\n",
    "plt.ylabel('True Positive Rate')\n",
    "plt.title('Receiver Operating Characteristic')\n",
    "plt.legend(loc='lower right')\n",
    "plt.show()"
   ]
  },
  {
   "cell_type": "markdown",
   "id": "fd26832b",
   "metadata": {
    "id": "fd26832b"
   },
   "source": [
    "This graph displays the ROC curve (Receiver Operating Characteristic) and its corresponding AUC (Area Under the Curve). The ROC curve is used to evaluate the performance of a classification model. The key components of the curve are:\n",
    "\n",
    "* X-axis (False Positive Rate): The proportion of negative cases that were incorrectly classified as positive. It ranges from 0 to 1.\n",
    "* Y-axis (True Positive Rate): The proportion of correctly classified positive cases, also known as sensitivity. It also ranges from 0 to 1.\n",
    "\n",
    "Interpretation of the graph:\n",
    "\n",
    "* The blue line represents the model’s ROC curve. The closer the curve is to the top left corner, the better the model performs.\n",
    "* The red dashed line represents a random classifier’s performance (AUC = 0.5). A model that falls along this line is no better than random guessing.\n",
    "* The AUC value of 0.88 indicates that the model performs well. An AUC of 1 represents perfect classification, while 0.5 represents random performance. A value of 0.88 shows that the model is fairly good at distinguishing between positive and negative classes.\n",
    "Overall, this suggests that the model is quite effective at making correct classifications and is reliable for this classification task."
   ]
  },
  {
   "cell_type": "markdown",
   "id": "dd0f498f",
   "metadata": {
    "id": "dd0f498f"
   },
   "source": [
    "### Bernoulli"
   ]
  },
  {
   "cell_type": "code",
   "execution_count": 32,
   "id": "4935010d",
   "metadata": {
    "colab": {
     "base_uri": "https://localhost:8080/"
    },
    "id": "4935010d",
    "outputId": "d2938e42-e41d-49dd-e5f4-d8d6d35830b2"
   },
   "outputs": [
    {
     "data": {
      "text/plain": [
       "0.8685"
      ]
     },
     "execution_count": 32,
     "metadata": {},
     "output_type": "execute_result"
    }
   ],
   "source": [
    "b=BernoulliNB()\n",
    "b.fit(x_train,y_train)\n",
    "btahmin=b.predict(x_test)\n",
    "accuracy_score(btahmin,y_test)"
   ]
  },
  {
   "cell_type": "code",
   "execution_count": 33,
   "id": "f9b137ea",
   "metadata": {
    "colab": {
     "base_uri": "https://localhost:8080/"
    },
    "id": "f9b137ea",
    "outputId": "ecc83455-09fb-4c4e-c725-55fec3bf1275"
   },
   "outputs": [
    {
     "data": {
      "text/plain": [
       "array([[887, 136],\n",
       "       [127, 850]])"
      ]
     },
     "execution_count": 33,
     "metadata": {},
     "output_type": "execute_result"
    }
   ],
   "source": [
    "confusion_matrix(btahmin,y_test)"
   ]
  },
  {
   "cell_type": "code",
   "execution_count": 34,
   "id": "5454917b",
   "metadata": {
    "colab": {
     "base_uri": "https://localhost:8080/",
     "height": 448
    },
    "id": "5454917b",
    "outputId": "ff8acdf2-67a2-498b-ffb5-833ec4efeb77"
   },
   "outputs": [
    {
     "data": {
      "text/plain": [
       "<Axes: >"
      ]
     },
     "execution_count": 34,
     "metadata": {},
     "output_type": "execute_result"
    },
    {
     "data": {
      "image/png": "[encoded data removed]",
      "text/plain": [
       "<Figure size 640x480 with 2 Axes>"
      ]
     },
     "metadata": {},
     "output_type": "display_data"
    }
   ],
   "source": [
    "cm = confusion_matrix(btahmin, y_test)\n",
    "normalized_cm = cm / cm.sum()\n",
    "sns.heatmap(normalized_cm, annot=True, cmap='Purples')"
   ]
  },
  {
   "cell_type": "code",
   "execution_count": 35,
   "id": "846326be",
   "metadata": {
    "colab": {
     "base_uri": "https://localhost:8080/"
    },
    "id": "846326be",
    "outputId": "9f529a25-2662-489d-a7e9-b21e74ec0532"
   },
   "outputs": [
    {
     "name": "stdout",
     "output_type": "stream",
     "text": [
      "              precision    recall  f1-score   support\n",
      "\n",
      "           0       0.87      0.87      0.87      1023\n",
      "           1       0.86      0.87      0.87       977\n",
      "\n",
      "    accuracy                           0.87      2000\n",
      "   macro avg       0.87      0.87      0.87      2000\n",
      "weighted avg       0.87      0.87      0.87      2000\n",
      "\n"
     ]
    }
   ],
   "source": [
    "print(classification_report(btahmin,y_test))"
   ]
  },
  {
   "cell_type": "code",
   "execution_count": 38,
   "id": "818b9c39",
   "metadata": {
    "id": "818b9c39"
   },
   "outputs": [],
   "source": [
    "import pandas as pd\n",
    "import numpy as np\n",
    "\n",
    "from sklearn.linear_model import LogisticRegression\n",
    "from sklearn.naive_bayes import  BernoulliNB, MultinomialNB\n",
    "from sklearn.neighbors import KNeighborsClassifier\n",
    "from sklearn.tree import DecisionTreeClassifier\n",
    "from sklearn.ensemble import RandomForestClassifier, AdaBoostClassifier, GradientBoostingClassifier\n",
    "from sklearn.svm import SVC\n",
    "from sklearn.neural_network import MLPClassifier\n",
    "\n",
    "from sklearn.model_selection import train_test_split\n",
    "from sklearn.metrics import accuracy_score, precision_score, recall_score, f1_score\n",
    "\n",
    "def algo_test(x, y):\n",
    "\n",
    "    lr = LogisticRegression(max_iter=1000)\n",
    "    b = BernoulliNB()\n",
    "    nb = MultinomialNB()\n",
    "    knn = KNeighborsClassifier()\n",
    "    dt = DecisionTreeClassifier()\n",
    "    rf = RandomForestClassifier()\n",
    "    abc = AdaBoostClassifier()\n",
    "    gbc = GradientBoostingClassifier()\n",
    "    svc = SVC()\n",
    "    mlp = MLPClassifier(max_iter=1000)\n",
    "\n",
    "    algos = [lr,  b, nb, knn, dt, rf, abc, gbc, svc, mlp]\n",
    "    algo_names = ['Logistic Regression', 'BernoulliNB','MultinomialNB','K-Nearest Neighbors',\n",
    "                  'Decision Tree', 'Random Forest', 'AdaBoost', 'Gradient Boosting', 'SVM', 'MLP Classifier']\n",
    "\n",
    "    x_train, x_test, y_train, y_test = train_test_split(x, y, test_size=0.2, random_state=42)\n",
    "\n",
    "    accuracy = []\n",
    "    precision = []\n",
    "    recall = []\n",
    "    f1 = []\n",
    "\n",
    "\n",
    "    result = pd.DataFrame(columns=['Accuracy', 'Precision', 'Recall', 'F1-score'], index=algo_names)\n",
    "\n",
    "    for algo in algos:\n",
    "        algo.fit(x_train, y_train)\n",
    "        y_pred = algo.predict(x_test)\n",
    "        accuracy.append(accuracy_score(y_test, y_pred))\n",
    "        precision.append(precision_score(y_test, y_pred, average='weighted'))\n",
    "        recall.append(recall_score(y_test, y_pred, average='weighted'))\n",
    "        f1.append(f1_score(y_test, y_pred, average='weighted'))\n",
    "\n",
    "    result['Accuracy'] = accuracy\n",
    "    result['Precision'] = precision\n",
    "    result['Recall'] = recall\n",
    "    result['F1-score'] = f1\n",
    "\n",
    "\n",
    "    rtable = result.sort_values('Accuracy', ascending=False)\n",
    "    return rtable\n"
   ]
  },
  {
   "cell_type": "code",
   "execution_count": 39,
   "id": "155ab42a",
   "metadata": {
    "colab": {
     "base_uri": "https://localhost:8080/",
     "height": 363
    },
    "id": "155ab42a",
    "outputId": "a8346ae0-0858-4b7f-807a-22eb11c6a688"
   },
   "outputs": [
    {
     "data": {
      "application/vnd.google.colaboratory.intrinsic+json": {
       "summary": "{\n  \"name\": \"algo_test(x,y)\",\n  \"rows\": 10,\n  \"fields\": [\n    {\n      \"column\": \"Accuracy\",\n      \"properties\": {\n        \"dtype\": \"number\",\n        \"std\": 0.10818632332950204,\n        \"min\": 0.5465,\n        \"max\": 0.8895,\n        \"num_unique_values\": 10,\n        \"samples\": [\n          0.6655,\n          0.8685,\n          0.8335\n        ],\n        \"semantic_type\": \"\",\n        \"description\": \"\"\n      }\n    },\n    {\n      \"column\": \"Precision\",\n      \"properties\": {\n        \"dtype\": \"number\",\n        \"std\": 0.1084976321953204,\n        \"min\": 0.5463438056315483,\n        \"max\": 0.889586349481852,\n        \"num_unique_values\": 10,\n        \"samples\": [\n          0.666561362548438,\n          0.8685132865285736,\n          0.8358453898215699\n        ],\n        \"semantic_type\": \"\",\n        \"description\": \"\"\n      }\n    },\n    {\n      \"column\": \"Recall\",\n      \"properties\": {\n        \"dtype\": \"number\",\n        \"std\": 0.10818632332950204,\n        \"min\": 0.5465,\n        \"max\": 0.8895,\n        \"num_unique_values\": 10,\n        \"samples\": [\n          0.6655,\n          0.8685,\n          0.8335\n        ],\n        \"semantic_type\": \"\",\n        \"description\": \"\"\n      }\n    },\n    {\n      \"column\": \"F1-score\",\n      \"properties\": {\n        \"dtype\": \"number\",\n        \"std\": 0.10865858734497345,\n        \"min\": 0.5449096853560659,\n        \"max\": 0.8894788561709365,\n        \"num_unique_values\": 10,\n        \"samples\": [\n          0.6645191319869578,\n          0.8684890488769781,\n          0.8330821603927986\n        ],\n        \"semantic_type\": \"\",\n        \"description\": \"\"\n      }\n    }\n  ]\n}",
       "type": "dataframe"
      },
      "text/html": [
       "\n",
       "  <div id=\"df-f1a638dd-1c97-499c-99f1-6d9ffe973d1d\" class=\"colab-df-container\">\n",
       "    <div>\n",
       "<style scoped>\n",
       "    .dataframe tbody tr th:only-of-type {\n",
       "        vertical-align: middle;\n",
       "    }\n",
       "\n",
       "    .dataframe tbody tr th {\n",
       "        vertical-align: top;\n",
       "    }\n",
       "\n",
       "    .dataframe thead th {\n",
       "        text-align: right;\n",
       "    }\n",
       "</style>\n",
       "<table border=\"1\" class=\"dataframe\">\n",
       "  <thead>\n",
       "    <tr style=\"text-align: right;\">\n",
       "      <th></th>\n",
       "      <th>Accuracy</th>\n",
       "      <th>Precision</th>\n",
       "      <th>Recall</th>\n",
       "      <th>F1-score</th>\n",
       "    </tr>\n",
       "  </thead>\n",
       "  <tbody>\n",
       "    <tr>\n",
       "      <th>Random Forest</th>\n",
       "      <td>0.8895</td>\n",
       "      <td>0.889586</td>\n",
       "      <td>0.8895</td>\n",
       "      <td>0.889479</td>\n",
       "    </tr>\n",
       "    <tr>\n",
       "      <th>BernoulliNB</th>\n",
       "      <td>0.8685</td>\n",
       "      <td>0.868513</td>\n",
       "      <td>0.8685</td>\n",
       "      <td>0.868489</td>\n",
       "    </tr>\n",
       "    <tr>\n",
       "      <th>Logistic Regression</th>\n",
       "      <td>0.8580</td>\n",
       "      <td>0.858130</td>\n",
       "      <td>0.8580</td>\n",
       "      <td>0.857961</td>\n",
       "    </tr>\n",
       "    <tr>\n",
       "      <th>MLP Classifier</th>\n",
       "      <td>0.8560</td>\n",
       "      <td>0.856390</td>\n",
       "      <td>0.8560</td>\n",
       "      <td>0.855917</td>\n",
       "    </tr>\n",
       "    <tr>\n",
       "      <th>AdaBoost</th>\n",
       "      <td>0.8380</td>\n",
       "      <td>0.843712</td>\n",
       "      <td>0.8380</td>\n",
       "      <td>0.837139</td>\n",
       "    </tr>\n",
       "    <tr>\n",
       "      <th>Gradient Boosting</th>\n",
       "      <td>0.8335</td>\n",
       "      <td>0.835845</td>\n",
       "      <td>0.8335</td>\n",
       "      <td>0.833082</td>\n",
       "    </tr>\n",
       "    <tr>\n",
       "      <th>Decision Tree</th>\n",
       "      <td>0.8235</td>\n",
       "      <td>0.823844</td>\n",
       "      <td>0.8235</td>\n",
       "      <td>0.823499</td>\n",
       "    </tr>\n",
       "    <tr>\n",
       "      <th>K-Nearest Neighbors</th>\n",
       "      <td>0.7695</td>\n",
       "      <td>0.769536</td>\n",
       "      <td>0.7695</td>\n",
       "      <td>0.769449</td>\n",
       "    </tr>\n",
       "    <tr>\n",
       "      <th>MultinomialNB</th>\n",
       "      <td>0.6655</td>\n",
       "      <td>0.666561</td>\n",
       "      <td>0.6655</td>\n",
       "      <td>0.664519</td>\n",
       "    </tr>\n",
       "    <tr>\n",
       "      <th>SVM</th>\n",
       "      <td>0.5465</td>\n",
       "      <td>0.546344</td>\n",
       "      <td>0.5465</td>\n",
       "      <td>0.544910</td>\n",
       "    </tr>\n",
       "  </tbody>\n",
       "</table>\n",
       "</div>\n",
       "    <div class=\"colab-df-buttons\">\n",
       "\n",
       "  <div class=\"colab-df-container\">\n",
       "    <button class=\"colab-df-convert\" onclick=\"convertToInteractive('df-f1a638dd-1c97-499c-99f1-6d9ffe973d1d')\"\n",
       "            title=\"Convert this dataframe to an interactive table.\"\n",
       "            style=\"display:none;\">\n",
       "\n",
       "  <svg xmlns=\"http://www.w3.org/2000/svg\" height=\"24px\" viewBox=\"0 -960 960 960\">\n",
       "    <path d=\"M120-120v-720h720v720H120Zm60-500h600v-160H180v160Zm220 220h160v-160H400v160Zm0 220h160v-160H400v160ZM180-400h160v-160H180v160Zm440 0h160v-160H620v160ZM180-180h160v-160H180v160Zm440 0h160v-160H620v160Z\"/>\n",
       "  </svg>\n",
       "    </button>\n",
       "\n",
       "  <style>\n",
       "    .colab-df-container {\n",
       "      display:flex;\n",
       "      gap: 12px;\n",
       "    }\n",
       "\n",
       "    .colab-df-convert {\n",
       "      background-color: #E8F0FE;\n",
       "      border: none;\n",
       "      border-radius: 50%;\n",
       "      cursor: pointer;\n",
       "      display: none;\n",
       "      fill: #1967D2;\n",
       "      height: 32px;\n",
       "      padding: 0 0 0 0;\n",
       "      width: 32px;\n",
       "    }\n",
       "\n",
       "    .colab-df-convert:hover {\n",
       "      background-color: #E2EBFA;\n",
       "      box-shadow: 0px 1px 2px rgba(60, 64, 67, 0.3), 0px 1px 3px 1px rgba(60, 64, 67, 0.15);\n",
       "      fill: #174EA6;\n",
       "    }\n",
       "\n",
       "    .colab-df-buttons div {\n",
       "      margin-bottom: 4px;\n",
       "    }\n",
       "\n",
       "    [theme=dark] .colab-df-convert {\n",
       "      background-color: #3B4455;\n",
       "      fill: #D2E3FC;\n",
       "    }\n",
       "\n",
       "    [theme=dark] .colab-df-convert:hover {\n",
       "      background-color: #434B5C;\n",
       "      box-shadow: 0px 1px 3px 1px rgba(0, 0, 0, 0.15);\n",
       "      filter: drop-shadow(0px 1px 2px rgba(0, 0, 0, 0.3));\n",
       "      fill: #FFFFFF;\n",
       "    }\n",
       "  </style>\n",
       "\n",
       "    <script>\n",
       "      const buttonEl =\n",
       "        document.querySelector('#df-f1a638dd-1c97-499c-99f1-6d9ffe973d1d button.colab-df-convert');\n",
       "      buttonEl.style.display =\n",
       "        google.colab.kernel.accessAllowed ? 'block' : 'none';\n",
       "\n",
       "      async function convertToInteractive(key) {\n",
       "        const element = document.querySelector('#df-f1a638dd-1c97-499c-99f1-6d9ffe973d1d');\n",
       "        const dataTable =\n",
       "          await google.colab.kernel.invokeFunction('convertToInteractive',\n",
       "                                                    [key], {});\n",
       "        if (!dataTable) return;\n",
       "\n",
       "        const docLinkHtml = 'Like what you see? Visit the ' +\n",
       "          '<a target=\"_blank\" href=https://colab.research.google.com/notebooks/data_table.ipynb>data table notebook</a>'\n",
       "          + ' to learn more about interactive tables.';\n",
       "        element.innerHTML = '';\n",
       "        dataTable['output_type'] = 'display_data';\n",
       "        await google.colab.output.renderOutput(dataTable, element);\n",
       "        const docLink = document.createElement('div');\n",
       "        docLink.innerHTML = docLinkHtml;\n",
       "        element.appendChild(docLink);\n",
       "      }\n",
       "    </script>\n",
       "  </div>\n",
       "\n",
       "\n",
       "<div id=\"df-3df3e389-afb8-47bd-8573-1b9ba3c43b20\">\n",
       "  <button class=\"colab-df-quickchart\" onclick=\"quickchart('df-3df3e389-afb8-47bd-8573-1b9ba3c43b20')\"\n",
       "            title=\"Suggest charts\"\n",
       "            style=\"display:none;\">\n",
       "\n",
       "<svg xmlns=\"http://www.w3.org/2000/svg\" height=\"24px\"viewBox=\"0 0 24 24\"\n",
       "     width=\"24px\">\n",
       "    <g>\n",
       "        <path d=\"M19 3H5c-1.1 0-2 .9-2 2v14c0 1.1.9 2 2 2h14c1.1 0 2-.9 2-2V5c0-1.1-.9-2-2-2zM9 17H7v-7h2v7zm4 0h-2V7h2v10zm4 0h-2v-4h2v4z\"/>\n",
       "    </g>\n",
       "</svg>\n",
       "  </button>\n",
       "\n",
       "<style>\n",
       "  .colab-df-quickchart {\n",
       "      --bg-color: #E8F0FE;\n",
       "      --fill-color: #1967D2;\n",
       "      --hover-bg-color: #E2EBFA;\n",
       "      --hover-fill-color: #174EA6;\n",
       "      --disabled-fill-color: #AAA;\n",
       "      --disabled-bg-color: #DDD;\n",
       "  }\n",
       "\n",
       "  [theme=dark] .colab-df-quickchart {\n",
       "      --bg-color: #3B4455;\n",
       "      --fill-color: #D2E3FC;\n",
       "      --hover-bg-color: #434B5C;\n",
       "      --hover-fill-color: #FFFFFF;\n",
       "      --disabled-bg-color: #3B4455;\n",
       "      --disabled-fill-color: #666;\n",
       "  }\n",
       "\n",
       "  .colab-df-quickchart {\n",
       "    background-color: var(--bg-color);\n",
       "    border: none;\n",
       "    border-radius: 50%;\n",
       "    cursor: pointer;\n",
       "    display: none;\n",
       "    fill: var(--fill-color);\n",
       "    height: 32px;\n",
       "    padding: 0;\n",
       "    width: 32px;\n",
       "  }\n",
       "\n",
       "  .colab-df-quickchart:hover {\n",
       "    background-color: var(--hover-bg-color);\n",
       "    box-shadow: 0 1px 2px rgba(60, 64, 67, 0.3), 0 1px 3px 1px rgba(60, 64, 67, 0.15);\n",
       "    fill: var(--button-hover-fill-color);\n",
       "  }\n",
       "\n",
       "  .colab-df-quickchart-complete:disabled,\n",
       "  .colab-df-quickchart-complete:disabled:hover {\n",
       "    background-color: var(--disabled-bg-color);\n",
       "    fill: var(--disabled-fill-color);\n",
       "    box-shadow: none;\n",
       "  }\n",
       "\n",
       "  .colab-df-spinner {\n",
       "    border: 2px solid var(--fill-color);\n",
       "    border-color: transparent;\n",
       "    border-bottom-color: var(--fill-color);\n",
       "    animation:\n",
       "      spin 1s steps(1) infinite;\n",
       "  }\n",
       "\n",
       "  @keyframes spin {\n",
       "    0% {\n",
       "      border-color: transparent;\n",
       "      border-bottom-color: var(--fill-color);\n",
       "      border-left-color: var(--fill-color);\n",
       "    }\n",
       "    20% {\n",
       "      border-color: transparent;\n",
       "      border-left-color: var(--fill-color);\n",
       "      border-top-color: var(--fill-color);\n",
       "    }\n",
       "    30% {\n",
       "      border-color: transparent;\n",
       "      border-left-color: var(--fill-color);\n",
       "      border-top-color: var(--fill-color);\n",
       "      border-right-color: var(--fill-color);\n",
       "    }\n",
       "    40% {\n",
       "      border-color: transparent;\n",
       "      border-right-color: var(--fill-color);\n",
       "      border-top-color: var(--fill-color);\n",
       "    }\n",
       "    60% {\n",
       "      border-color: transparent;\n",
       "      border-right-color: var(--fill-color);\n",
       "    }\n",
       "    80% {\n",
       "      border-color: transparent;\n",
       "      border-right-color: var(--fill-color);\n",
       "      border-bottom-color: var(--fill-color);\n",
       "    }\n",
       "    90% {\n",
       "      border-color: transparent;\n",
       "      border-bottom-color: var(--fill-color);\n",
       "    }\n",
       "  }\n",
       "</style>\n",
       "\n",
       "  <script>\n",
       "    async function quickchart(key) {\n",
       "      const quickchartButtonEl =\n",
       "        document.querySelector('#' + key + ' button');\n",
       "      quickchartButtonEl.disabled = true;  // To prevent multiple clicks.\n",
       "      quickchartButtonEl.classList.add('colab-df-spinner');\n",
       "      try {\n",
       "        const charts = await google.colab.kernel.invokeFunction(\n",
       "            'suggestCharts', [key], {});\n",
       "      } catch (error) {\n",
       "        console.error('Error during call to suggestCharts:', error);\n",
       "      }\n",
       "      quickchartButtonEl.classList.remove('colab-df-spinner');\n",
       "      quickchartButtonEl.classList.add('colab-df-quickchart-complete');\n",
       "    }\n",
       "    (() => {\n",
       "      let quickchartButtonEl =\n",
       "        document.querySelector('#df-3df3e389-afb8-47bd-8573-1b9ba3c43b20 button');\n",
       "      quickchartButtonEl.style.display =\n",
       "        google.colab.kernel.accessAllowed ? 'block' : 'none';\n",
       "    })();\n",
       "  </script>\n",
       "</div>\n",
       "\n",
       "    </div>\n",
       "  </div>\n"
      ],
      "text/plain": [
       "                     Accuracy  Precision  Recall  F1-score\n",
       "Random Forest          0.8895   0.889586  0.8895  0.889479\n",
       "BernoulliNB            0.8685   0.868513  0.8685  0.868489\n",
       "Logistic Regression    0.8580   0.858130  0.8580  0.857961\n",
       "MLP Classifier         0.8560   0.856390  0.8560  0.855917\n",
       "AdaBoost               0.8380   0.843712  0.8380  0.837139\n",
       "Gradient Boosting      0.8335   0.835845  0.8335  0.833082\n",
       "Decision Tree          0.8235   0.823844  0.8235  0.823499\n",
       "K-Nearest Neighbors    0.7695   0.769536  0.7695  0.769449\n",
       "MultinomialNB          0.6655   0.666561  0.6655  0.664519\n",
       "SVM                    0.5465   0.546344  0.5465  0.544910"
      ]
     },
     "execution_count": 39,
     "metadata": {},
     "output_type": "execute_result"
    }
   ],
   "source": [
    "algo_test(x,y)"
   ]
  },
  {
   "cell_type": "markdown",
   "id": "485b5ac1",
   "metadata": {
    "id": "485b5ac1"
   },
   "source": [
    "## AutoML with PyCaret"
   ]
  },
  {
   "cell_type": "code",
   "execution_count": 44,
   "id": "OA_qf1pH2Xm1",
   "metadata": {
    "id": "OA_qf1pH2Xm1"
   },
   "outputs": [],
   "source": [
    "#pip install pycaret"
   ]
  },
  {
   "cell_type": "code",
   "execution_count": 41,
   "id": "45b03b21",
   "metadata": {
    "id": "45b03b21"
   },
   "outputs": [],
   "source": [
    "from pycaret.classification import*"
   ]
  },
  {
   "cell_type": "code",
   "execution_count": 42,
   "id": "e6ea9e0a",
   "metadata": {
    "colab": {
     "base_uri": "https://localhost:8080/",
     "height": 739
    },
    "id": "e6ea9e0a",
    "outputId": "ddfd55ae-54ad-4726-ecc5-60395ce67984"
   },
   "outputs": [
    {
     "data": {
      "text/html": [
       "<style type=\"text/css\">\n",
       "#T_deb70_row9_col1 {\n",
       "  background-color: lightgreen;\n",
       "}\n",
       "</style>\n",
       "<table id=\"T_deb70\" class=\"dataframe\">\n",
       "  <thead>\n",
       "    <tr>\n",
       "      <th class=\"blank level0\" >&nbsp;</th>\n",
       "      <th id=\"T_deb70_level0_col0\" class=\"col_heading level0 col0\" >Description</th>\n",
       "      <th id=\"T_deb70_level0_col1\" class=\"col_heading level0 col1\" >Value</th>\n",
       "    </tr>\n",
       "  </thead>\n",
       "  <tbody>\n",
       "    <tr>\n",
       "      <th id=\"T_deb70_level0_row0\" class=\"row_heading level0 row0\" >0</th>\n",
       "      <td id=\"T_deb70_row0_col0\" class=\"data row0 col0\" >Session id</td>\n",
       "      <td id=\"T_deb70_row0_col1\" class=\"data row0 col1\" >1598</td>\n",
       "    </tr>\n",
       "    <tr>\n",
       "      <th id=\"T_deb70_level0_row1\" class=\"row_heading level0 row1\" >1</th>\n",
       "      <td id=\"T_deb70_row1_col0\" class=\"data row1 col0\" >Target</td>\n",
       "      <td id=\"T_deb70_row1_col1\" class=\"data row1 col1\" >Clicked on Ad</td>\n",
       "    </tr>\n",
       "    <tr>\n",
       "      <th id=\"T_deb70_level0_row2\" class=\"row_heading level0 row2\" >2</th>\n",
       "      <td id=\"T_deb70_row2_col0\" class=\"data row2 col0\" >Target type</td>\n",
       "      <td id=\"T_deb70_row2_col1\" class=\"data row2 col1\" >Binary</td>\n",
       "    </tr>\n",
       "    <tr>\n",
       "      <th id=\"T_deb70_level0_row3\" class=\"row_heading level0 row3\" >3</th>\n",
       "      <td id=\"T_deb70_row3_col0\" class=\"data row3 col0\" >Original data shape</td>\n",
       "      <td id=\"T_deb70_row3_col1\" class=\"data row3 col1\" >(10000, 12)</td>\n",
       "    </tr>\n",
       "    <tr>\n",
       "      <th id=\"T_deb70_level0_row4\" class=\"row_heading level0 row4\" >4</th>\n",
       "      <td id=\"T_deb70_row4_col0\" class=\"data row4 col0\" >Transformed data shape</td>\n",
       "      <td id=\"T_deb70_row4_col1\" class=\"data row4 col1\" >(10000, 12)</td>\n",
       "    </tr>\n",
       "    <tr>\n",
       "      <th id=\"T_deb70_level0_row5\" class=\"row_heading level0 row5\" >5</th>\n",
       "      <td id=\"T_deb70_row5_col0\" class=\"data row5 col0\" >Transformed train set shape</td>\n",
       "      <td id=\"T_deb70_row5_col1\" class=\"data row5 col1\" >(7000, 12)</td>\n",
       "    </tr>\n",
       "    <tr>\n",
       "      <th id=\"T_deb70_level0_row6\" class=\"row_heading level0 row6\" >6</th>\n",
       "      <td id=\"T_deb70_row6_col0\" class=\"data row6 col0\" >Transformed test set shape</td>\n",
       "      <td id=\"T_deb70_row6_col1\" class=\"data row6 col1\" >(3000, 12)</td>\n",
       "    </tr>\n",
       "    <tr>\n",
       "      <th id=\"T_deb70_level0_row7\" class=\"row_heading level0 row7\" >7</th>\n",
       "      <td id=\"T_deb70_row7_col0\" class=\"data row7 col0\" >Numeric features</td>\n",
       "      <td id=\"T_deb70_row7_col1\" class=\"data row7 col1\" >7</td>\n",
       "    </tr>\n",
       "    <tr>\n",
       "      <th id=\"T_deb70_level0_row8\" class=\"row_heading level0 row8\" >8</th>\n",
       "      <td id=\"T_deb70_row8_col0\" class=\"data row8 col0\" >Categorical features</td>\n",
       "      <td id=\"T_deb70_row8_col1\" class=\"data row8 col1\" >4</td>\n",
       "    </tr>\n",
       "    <tr>\n",
       "      <th id=\"T_deb70_level0_row9\" class=\"row_heading level0 row9\" >9</th>\n",
       "      <td id=\"T_deb70_row9_col0\" class=\"data row9 col0\" >Preprocess</td>\n",
       "      <td id=\"T_deb70_row9_col1\" class=\"data row9 col1\" >True</td>\n",
       "    </tr>\n",
       "    <tr>\n",
       "      <th id=\"T_deb70_level0_row10\" class=\"row_heading level0 row10\" >10</th>\n",
       "      <td id=\"T_deb70_row10_col0\" class=\"data row10 col0\" >Imputation type</td>\n",
       "      <td id=\"T_deb70_row10_col1\" class=\"data row10 col1\" >simple</td>\n",
       "    </tr>\n",
       "    <tr>\n",
       "      <th id=\"T_deb70_level0_row11\" class=\"row_heading level0 row11\" >11</th>\n",
       "      <td id=\"T_deb70_row11_col0\" class=\"data row11 col0\" >Numeric imputation</td>\n",
       "      <td id=\"T_deb70_row11_col1\" class=\"data row11 col1\" >mean</td>\n",
       "    </tr>\n",
       "    <tr>\n",
       "      <th id=\"T_deb70_level0_row12\" class=\"row_heading level0 row12\" >12</th>\n",
       "      <td id=\"T_deb70_row12_col0\" class=\"data row12 col0\" >Categorical imputation</td>\n",
       "      <td id=\"T_deb70_row12_col1\" class=\"data row12 col1\" >mode</td>\n",
       "    </tr>\n",
       "    <tr>\n",
       "      <th id=\"T_deb70_level0_row13\" class=\"row_heading level0 row13\" >13</th>\n",
       "      <td id=\"T_deb70_row13_col0\" class=\"data row13 col0\" >Maximum one-hot encoding</td>\n",
       "      <td id=\"T_deb70_row13_col1\" class=\"data row13 col1\" >25</td>\n",
       "    </tr>\n",
       "    <tr>\n",
       "      <th id=\"T_deb70_level0_row14\" class=\"row_heading level0 row14\" >14</th>\n",
       "      <td id=\"T_deb70_row14_col0\" class=\"data row14 col0\" >Encoding method</td>\n",
       "      <td id=\"T_deb70_row14_col1\" class=\"data row14 col1\" >None</td>\n",
       "    </tr>\n",
       "    <tr>\n",
       "      <th id=\"T_deb70_level0_row15\" class=\"row_heading level0 row15\" >15</th>\n",
       "      <td id=\"T_deb70_row15_col0\" class=\"data row15 col0\" >Fold Generator</td>\n",
       "      <td id=\"T_deb70_row15_col1\" class=\"data row15 col1\" >StratifiedKFold</td>\n",
       "    </tr>\n",
       "    <tr>\n",
       "      <th id=\"T_deb70_level0_row16\" class=\"row_heading level0 row16\" >16</th>\n",
       "      <td id=\"T_deb70_row16_col0\" class=\"data row16 col0\" >Fold Number</td>\n",
       "      <td id=\"T_deb70_row16_col1\" class=\"data row16 col1\" >10</td>\n",
       "    </tr>\n",
       "    <tr>\n",
       "      <th id=\"T_deb70_level0_row17\" class=\"row_heading level0 row17\" >17</th>\n",
       "      <td id=\"T_deb70_row17_col0\" class=\"data row17 col0\" >CPU Jobs</td>\n",
       "      <td id=\"T_deb70_row17_col1\" class=\"data row17 col1\" >-1</td>\n",
       "    </tr>\n",
       "    <tr>\n",
       "      <th id=\"T_deb70_level0_row18\" class=\"row_heading level0 row18\" >18</th>\n",
       "      <td id=\"T_deb70_row18_col0\" class=\"data row18 col0\" >Use GPU</td>\n",
       "      <td id=\"T_deb70_row18_col1\" class=\"data row18 col1\" >False</td>\n",
       "    </tr>\n",
       "    <tr>\n",
       "      <th id=\"T_deb70_level0_row19\" class=\"row_heading level0 row19\" >19</th>\n",
       "      <td id=\"T_deb70_row19_col0\" class=\"data row19 col0\" >Log Experiment</td>\n",
       "      <td id=\"T_deb70_row19_col1\" class=\"data row19 col1\" >False</td>\n",
       "    </tr>\n",
       "    <tr>\n",
       "      <th id=\"T_deb70_level0_row20\" class=\"row_heading level0 row20\" >20</th>\n",
       "      <td id=\"T_deb70_row20_col0\" class=\"data row20 col0\" >Experiment Name</td>\n",
       "      <td id=\"T_deb70_row20_col1\" class=\"data row20 col1\" >clf-default-name</td>\n",
       "    </tr>\n",
       "    <tr>\n",
       "      <th id=\"T_deb70_level0_row21\" class=\"row_heading level0 row21\" >21</th>\n",
       "      <td id=\"T_deb70_row21_col0\" class=\"data row21 col0\" >USI</td>\n",
       "      <td id=\"T_deb70_row21_col1\" class=\"data row21 col1\" >a114</td>\n",
       "    </tr>\n",
       "  </tbody>\n",
       "</table>\n"
      ],
      "text/plain": [
       "<pandas.io.formats.style.Styler at 0x7e7b1093eef0>"
      ]
     },
     "metadata": {},
     "output_type": "display_data"
    }
   ],
   "source": [
    "a=setup(data=df,target=\"Clicked on Ad\")"
   ]
  },
  {
   "cell_type": "code",
   "execution_count": 43,
   "id": "13a4163a",
   "metadata": {
    "colab": {
     "base_uri": "https://localhost:8080/",
     "height": 519,
     "referenced_widgets": [
      "c42b9d5973864bada37a7c5f5493e958",
      "4bfab058406348cd94accff350556b5f",
      "766f9fb0075e4b07a0c9829e7cad013b",
      "80832b61a02847d8861ee3e861663013",
      "41604524401c46acbbafd8f33ec562fb",
      "4102ebccb1144b52b6bd807282b0ad05",
      "55bc1311454e4942b4963a364b74b9ca",
      "71becb5ed1494a0eaccd15bf99cb9119",
      "9c867dca15fb40b9a5b083d55e5ba1ab",
      "b6134873272347dab5d3571cf226fd8f",
      "81002f502e4a41f8b0536e0b123f4629"
     ]
    },
    "id": "13a4163a",
    "outputId": "218a928f-c083-4cb0-9528-93a000ff1d01"
   },
   "outputs": [
    {
     "data": {
      "text/html": [],
      "text/plain": [
       "<IPython.core.display.HTML object>"
      ]
     },
     "metadata": {},
     "output_type": "display_data"
    },
    {
     "data": {
      "text/html": [
       "<style type=\"text/css\">\n",
       "#T_b9feb th {\n",
       "  text-align: left;\n",
       "}\n",
       "#T_b9feb_row0_col0, #T_b9feb_row0_col2, #T_b9feb_row0_col4, #T_b9feb_row1_col0, #T_b9feb_row1_col1, #T_b9feb_row1_col2, #T_b9feb_row1_col3, #T_b9feb_row1_col5, #T_b9feb_row1_col6, #T_b9feb_row1_col7, #T_b9feb_row2_col0, #T_b9feb_row2_col1, #T_b9feb_row2_col3, #T_b9feb_row2_col4, #T_b9feb_row2_col5, #T_b9feb_row2_col6, #T_b9feb_row2_col7, #T_b9feb_row3_col0, #T_b9feb_row3_col1, #T_b9feb_row3_col2, #T_b9feb_row3_col3, #T_b9feb_row3_col4, #T_b9feb_row3_col5, #T_b9feb_row3_col6, #T_b9feb_row3_col7, #T_b9feb_row4_col0, #T_b9feb_row4_col1, #T_b9feb_row4_col2, #T_b9feb_row4_col3, #T_b9feb_row4_col4, #T_b9feb_row4_col5, #T_b9feb_row4_col6, #T_b9feb_row4_col7, #T_b9feb_row5_col0, #T_b9feb_row5_col1, #T_b9feb_row5_col2, #T_b9feb_row5_col3, #T_b9feb_row5_col4, #T_b9feb_row5_col5, #T_b9feb_row5_col6, #T_b9feb_row5_col7, #T_b9feb_row6_col0, #T_b9feb_row6_col1, #T_b9feb_row6_col2, #T_b9feb_row6_col3, #T_b9feb_row6_col4, #T_b9feb_row6_col5, #T_b9feb_row6_col6, #T_b9feb_row6_col7, #T_b9feb_row7_col0, #T_b9feb_row7_col1, #T_b9feb_row7_col2, #T_b9feb_row7_col3, #T_b9feb_row7_col4, #T_b9feb_row7_col5, #T_b9feb_row7_col6, #T_b9feb_row7_col7, #T_b9feb_row8_col0, #T_b9feb_row8_col1, #T_b9feb_row8_col2, #T_b9feb_row8_col3, #T_b9feb_row8_col4, #T_b9feb_row8_col5, #T_b9feb_row8_col6, #T_b9feb_row8_col7, #T_b9feb_row9_col0, #T_b9feb_row9_col1, #T_b9feb_row9_col2, #T_b9feb_row9_col3, #T_b9feb_row9_col4, #T_b9feb_row9_col5, #T_b9feb_row9_col6, #T_b9feb_row9_col7, #T_b9feb_row10_col0, #T_b9feb_row10_col1, #T_b9feb_row10_col2, #T_b9feb_row10_col3, #T_b9feb_row10_col4, #T_b9feb_row10_col5, #T_b9feb_row10_col6, #T_b9feb_row10_col7, #T_b9feb_row11_col0, #T_b9feb_row11_col1, #T_b9feb_row11_col2, #T_b9feb_row11_col3, #T_b9feb_row11_col4, #T_b9feb_row11_col5, #T_b9feb_row11_col6, #T_b9feb_row11_col7, #T_b9feb_row12_col0, #T_b9feb_row12_col1, #T_b9feb_row12_col2, #T_b9feb_row12_col3, #T_b9feb_row12_col4, #T_b9feb_row12_col5, #T_b9feb_row12_col6, #T_b9feb_row12_col7, #T_b9feb_row13_col0, #T_b9feb_row13_col1, #T_b9feb_row13_col2, #T_b9feb_row13_col3, #T_b9feb_row13_col4, #T_b9feb_row13_col5, #T_b9feb_row13_col6, #T_b9feb_row13_col7, #T_b9feb_row14_col0, #T_b9feb_row14_col1, #T_b9feb_row14_col2, #T_b9feb_row14_col3, #T_b9feb_row14_col4, #T_b9feb_row14_col5, #T_b9feb_row14_col6, #T_b9feb_row14_col7 {\n",
       "  text-align: left;\n",
       "}\n",
       "#T_b9feb_row0_col1, #T_b9feb_row0_col3, #T_b9feb_row0_col5, #T_b9feb_row0_col6, #T_b9feb_row0_col7, #T_b9feb_row1_col4, #T_b9feb_row2_col2 {\n",
       "  text-align: left;\n",
       "  background-color: yellow;\n",
       "}\n",
       "#T_b9feb_row0_col8, #T_b9feb_row1_col8, #T_b9feb_row2_col8, #T_b9feb_row3_col8, #T_b9feb_row4_col8, #T_b9feb_row5_col8, #T_b9feb_row6_col8, #T_b9feb_row7_col8, #T_b9feb_row9_col8, #T_b9feb_row10_col8, #T_b9feb_row11_col8, #T_b9feb_row12_col8, #T_b9feb_row13_col8, #T_b9feb_row14_col8 {\n",
       "  text-align: left;\n",
       "  background-color: lightgrey;\n",
       "}\n",
       "#T_b9feb_row8_col8 {\n",
       "  text-align: left;\n",
       "  background-color: yellow;\n",
       "  background-color: lightgrey;\n",
       "}\n",
       "</style>\n",
       "<table id=\"T_b9feb\" class=\"dataframe\">\n",
       "  <thead>\n",
       "    <tr>\n",
       "      <th class=\"blank level0\" >&nbsp;</th>\n",
       "      <th id=\"T_b9feb_level0_col0\" class=\"col_heading level0 col0\" >Model</th>\n",
       "      <th id=\"T_b9feb_level0_col1\" class=\"col_heading level0 col1\" >Accuracy</th>\n",
       "      <th id=\"T_b9feb_level0_col2\" class=\"col_heading level0 col2\" >AUC</th>\n",
       "      <th id=\"T_b9feb_level0_col3\" class=\"col_heading level0 col3\" >Recall</th>\n",
       "      <th id=\"T_b9feb_level0_col4\" class=\"col_heading level0 col4\" >Prec.</th>\n",
       "      <th id=\"T_b9feb_level0_col5\" class=\"col_heading level0 col5\" >F1</th>\n",
       "      <th id=\"T_b9feb_level0_col6\" class=\"col_heading level0 col6\" >Kappa</th>\n",
       "      <th id=\"T_b9feb_level0_col7\" class=\"col_heading level0 col7\" >MCC</th>\n",
       "      <th id=\"T_b9feb_level0_col8\" class=\"col_heading level0 col8\" >TT (Sec)</th>\n",
       "    </tr>\n",
       "  </thead>\n",
       "  <tbody>\n",
       "    <tr>\n",
       "      <th id=\"T_b9feb_level0_row0\" class=\"row_heading level0 row0\" >et</th>\n",
       "      <td id=\"T_b9feb_row0_col0\" class=\"data row0 col0\" >Extra Trees Classifier</td>\n",
       "      <td id=\"T_b9feb_row0_col1\" class=\"data row0 col1\" >0.8746</td>\n",
       "      <td id=\"T_b9feb_row0_col2\" class=\"data row0 col2\" >0.9459</td>\n",
       "      <td id=\"T_b9feb_row0_col3\" class=\"data row0 col3\" >0.8725</td>\n",
       "      <td id=\"T_b9feb_row0_col4\" class=\"data row0 col4\" >0.8726</td>\n",
       "      <td id=\"T_b9feb_row0_col5\" class=\"data row0 col5\" >0.8724</td>\n",
       "      <td id=\"T_b9feb_row0_col6\" class=\"data row0 col6\" >0.7491</td>\n",
       "      <td id=\"T_b9feb_row0_col7\" class=\"data row0 col7\" >0.7493</td>\n",
       "      <td id=\"T_b9feb_row0_col8\" class=\"data row0 col8\" >0.9200</td>\n",
       "    </tr>\n",
       "    <tr>\n",
       "      <th id=\"T_b9feb_level0_row1\" class=\"row_heading level0 row1\" >xgboost</th>\n",
       "      <td id=\"T_b9feb_row1_col0\" class=\"data row1 col0\" >Extreme Gradient Boosting</td>\n",
       "      <td id=\"T_b9feb_row1_col1\" class=\"data row1 col1\" >0.8724</td>\n",
       "      <td id=\"T_b9feb_row1_col2\" class=\"data row1 col2\" >0.9445</td>\n",
       "      <td id=\"T_b9feb_row1_col3\" class=\"data row1 col3\" >0.8672</td>\n",
       "      <td id=\"T_b9feb_row1_col4\" class=\"data row1 col4\" >0.8728</td>\n",
       "      <td id=\"T_b9feb_row1_col5\" class=\"data row1 col5\" >0.8698</td>\n",
       "      <td id=\"T_b9feb_row1_col6\" class=\"data row1 col6\" >0.7448</td>\n",
       "      <td id=\"T_b9feb_row1_col7\" class=\"data row1 col7\" >0.7450</td>\n",
       "      <td id=\"T_b9feb_row1_col8\" class=\"data row1 col8\" >0.2880</td>\n",
       "    </tr>\n",
       "    <tr>\n",
       "      <th id=\"T_b9feb_level0_row2\" class=\"row_heading level0 row2\" >lightgbm</th>\n",
       "      <td id=\"T_b9feb_row2_col0\" class=\"data row2 col0\" >Light Gradient Boosting Machine</td>\n",
       "      <td id=\"T_b9feb_row2_col1\" class=\"data row2 col1\" >0.8719</td>\n",
       "      <td id=\"T_b9feb_row2_col2\" class=\"data row2 col2\" >0.9465</td>\n",
       "      <td id=\"T_b9feb_row2_col3\" class=\"data row2 col3\" >0.8719</td>\n",
       "      <td id=\"T_b9feb_row2_col4\" class=\"data row2 col4\" >0.8684</td>\n",
       "      <td id=\"T_b9feb_row2_col5\" class=\"data row2 col5\" >0.8699</td>\n",
       "      <td id=\"T_b9feb_row2_col6\" class=\"data row2 col6\" >0.7437</td>\n",
       "      <td id=\"T_b9feb_row2_col7\" class=\"data row2 col7\" >0.7440</td>\n",
       "      <td id=\"T_b9feb_row2_col8\" class=\"data row2 col8\" >0.4030</td>\n",
       "    </tr>\n",
       "    <tr>\n",
       "      <th id=\"T_b9feb_level0_row3\" class=\"row_heading level0 row3\" >gbc</th>\n",
       "      <td id=\"T_b9feb_row3_col0\" class=\"data row3 col0\" >Gradient Boosting Classifier</td>\n",
       "      <td id=\"T_b9feb_row3_col1\" class=\"data row3 col1\" >0.8701</td>\n",
       "      <td id=\"T_b9feb_row3_col2\" class=\"data row3 col2\" >0.9445</td>\n",
       "      <td id=\"T_b9feb_row3_col3\" class=\"data row3 col3\" >0.8716</td>\n",
       "      <td id=\"T_b9feb_row3_col4\" class=\"data row3 col4\" >0.8655</td>\n",
       "      <td id=\"T_b9feb_row3_col5\" class=\"data row3 col5\" >0.8683</td>\n",
       "      <td id=\"T_b9feb_row3_col6\" class=\"data row3 col6\" >0.7402</td>\n",
       "      <td id=\"T_b9feb_row3_col7\" class=\"data row3 col7\" >0.7405</td>\n",
       "      <td id=\"T_b9feb_row3_col8\" class=\"data row3 col8\" >1.1590</td>\n",
       "    </tr>\n",
       "    <tr>\n",
       "      <th id=\"T_b9feb_level0_row4\" class=\"row_heading level0 row4\" >ada</th>\n",
       "      <td id=\"T_b9feb_row4_col0\" class=\"data row4 col0\" >Ada Boost Classifier</td>\n",
       "      <td id=\"T_b9feb_row4_col1\" class=\"data row4 col1\" >0.8684</td>\n",
       "      <td id=\"T_b9feb_row4_col2\" class=\"data row4 col2\" >0.9409</td>\n",
       "      <td id=\"T_b9feb_row4_col3\" class=\"data row4 col3\" >0.8629</td>\n",
       "      <td id=\"T_b9feb_row4_col4\" class=\"data row4 col4\" >0.8688</td>\n",
       "      <td id=\"T_b9feb_row4_col5\" class=\"data row4 col5\" >0.8657</td>\n",
       "      <td id=\"T_b9feb_row4_col6\" class=\"data row4 col6\" >0.7368</td>\n",
       "      <td id=\"T_b9feb_row4_col7\" class=\"data row4 col7\" >0.7370</td>\n",
       "      <td id=\"T_b9feb_row4_col8\" class=\"data row4 col8\" >0.3960</td>\n",
       "    </tr>\n",
       "    <tr>\n",
       "      <th id=\"T_b9feb_level0_row5\" class=\"row_heading level0 row5\" >rf</th>\n",
       "      <td id=\"T_b9feb_row5_col0\" class=\"data row5 col0\" >Random Forest Classifier</td>\n",
       "      <td id=\"T_b9feb_row5_col1\" class=\"data row5 col1\" >0.8673</td>\n",
       "      <td id=\"T_b9feb_row5_col2\" class=\"data row5 col2\" >0.9439</td>\n",
       "      <td id=\"T_b9feb_row5_col3\" class=\"data row5 col3\" >0.8655</td>\n",
       "      <td id=\"T_b9feb_row5_col4\" class=\"data row5 col4\" >0.8650</td>\n",
       "      <td id=\"T_b9feb_row5_col5\" class=\"data row5 col5\" >0.8651</td>\n",
       "      <td id=\"T_b9feb_row5_col6\" class=\"data row5 col6\" >0.7345</td>\n",
       "      <td id=\"T_b9feb_row5_col7\" class=\"data row5 col7\" >0.7348</td>\n",
       "      <td id=\"T_b9feb_row5_col8\" class=\"data row5 col8\" >1.2070</td>\n",
       "    </tr>\n",
       "    <tr>\n",
       "      <th id=\"T_b9feb_level0_row6\" class=\"row_heading level0 row6\" >lr</th>\n",
       "      <td id=\"T_b9feb_row6_col0\" class=\"data row6 col0\" >Logistic Regression</td>\n",
       "      <td id=\"T_b9feb_row6_col1\" class=\"data row6 col1\" >0.8640</td>\n",
       "      <td id=\"T_b9feb_row6_col2\" class=\"data row6 col2\" >0.9377</td>\n",
       "      <td id=\"T_b9feb_row6_col3\" class=\"data row6 col3\" >0.8576</td>\n",
       "      <td id=\"T_b9feb_row6_col4\" class=\"data row6 col4\" >0.8648</td>\n",
       "      <td id=\"T_b9feb_row6_col5\" class=\"data row6 col5\" >0.8610</td>\n",
       "      <td id=\"T_b9feb_row6_col6\" class=\"data row6 col6\" >0.7279</td>\n",
       "      <td id=\"T_b9feb_row6_col7\" class=\"data row6 col7\" >0.7282</td>\n",
       "      <td id=\"T_b9feb_row6_col8\" class=\"data row6 col8\" >2.7070</td>\n",
       "    </tr>\n",
       "    <tr>\n",
       "      <th id=\"T_b9feb_level0_row7\" class=\"row_heading level0 row7\" >ridge</th>\n",
       "      <td id=\"T_b9feb_row7_col0\" class=\"data row7 col0\" >Ridge Classifier</td>\n",
       "      <td id=\"T_b9feb_row7_col1\" class=\"data row7 col1\" >0.8624</td>\n",
       "      <td id=\"T_b9feb_row7_col2\" class=\"data row7 col2\" >0.9390</td>\n",
       "      <td id=\"T_b9feb_row7_col3\" class=\"data row7 col3\" >0.8440</td>\n",
       "      <td id=\"T_b9feb_row7_col4\" class=\"data row7 col4\" >0.8722</td>\n",
       "      <td id=\"T_b9feb_row7_col5\" class=\"data row7 col5\" >0.8577</td>\n",
       "      <td id=\"T_b9feb_row7_col6\" class=\"data row7 col6\" >0.7246</td>\n",
       "      <td id=\"T_b9feb_row7_col7\" class=\"data row7 col7\" >0.7252</td>\n",
       "      <td id=\"T_b9feb_row7_col8\" class=\"data row7 col8\" >0.1300</td>\n",
       "    </tr>\n",
       "    <tr>\n",
       "      <th id=\"T_b9feb_level0_row8\" class=\"row_heading level0 row8\" >lda</th>\n",
       "      <td id=\"T_b9feb_row8_col0\" class=\"data row8 col0\" >Linear Discriminant Analysis</td>\n",
       "      <td id=\"T_b9feb_row8_col1\" class=\"data row8 col1\" >0.8624</td>\n",
       "      <td id=\"T_b9feb_row8_col2\" class=\"data row8 col2\" >0.9389</td>\n",
       "      <td id=\"T_b9feb_row8_col3\" class=\"data row8 col3\" >0.8440</td>\n",
       "      <td id=\"T_b9feb_row8_col4\" class=\"data row8 col4\" >0.8722</td>\n",
       "      <td id=\"T_b9feb_row8_col5\" class=\"data row8 col5\" >0.8577</td>\n",
       "      <td id=\"T_b9feb_row8_col6\" class=\"data row8 col6\" >0.7246</td>\n",
       "      <td id=\"T_b9feb_row8_col7\" class=\"data row8 col7\" >0.7252</td>\n",
       "      <td id=\"T_b9feb_row8_col8\" class=\"data row8 col8\" >0.1280</td>\n",
       "    </tr>\n",
       "    <tr>\n",
       "      <th id=\"T_b9feb_level0_row9\" class=\"row_heading level0 row9\" >dt</th>\n",
       "      <td id=\"T_b9feb_row9_col0\" class=\"data row9 col0\" >Decision Tree Classifier</td>\n",
       "      <td id=\"T_b9feb_row9_col1\" class=\"data row9 col1\" >0.8261</td>\n",
       "      <td id=\"T_b9feb_row9_col2\" class=\"data row9 col2\" >0.8261</td>\n",
       "      <td id=\"T_b9feb_row9_col3\" class=\"data row9 col3\" >0.8173</td>\n",
       "      <td id=\"T_b9feb_row9_col4\" class=\"data row9 col4\" >0.8272</td>\n",
       "      <td id=\"T_b9feb_row9_col5\" class=\"data row9 col5\" >0.8221</td>\n",
       "      <td id=\"T_b9feb_row9_col6\" class=\"data row9 col6\" >0.6521</td>\n",
       "      <td id=\"T_b9feb_row9_col7\" class=\"data row9 col7\" >0.6524</td>\n",
       "      <td id=\"T_b9feb_row9_col8\" class=\"data row9 col8\" >0.3120</td>\n",
       "    </tr>\n",
       "    <tr>\n",
       "      <th id=\"T_b9feb_level0_row10\" class=\"row_heading level0 row10\" >nb</th>\n",
       "      <td id=\"T_b9feb_row10_col0\" class=\"data row10 col0\" >Naive Bayes</td>\n",
       "      <td id=\"T_b9feb_row10_col1\" class=\"data row10 col1\" >0.8137</td>\n",
       "      <td id=\"T_b9feb_row10_col2\" class=\"data row10 col2\" >0.9048</td>\n",
       "      <td id=\"T_b9feb_row10_col3\" class=\"data row10 col3\" >0.7501</td>\n",
       "      <td id=\"T_b9feb_row10_col4\" class=\"data row10 col4\" >0.8534</td>\n",
       "      <td id=\"T_b9feb_row10_col5\" class=\"data row10 col5\" >0.7984</td>\n",
       "      <td id=\"T_b9feb_row10_col6\" class=\"data row10 col6\" >0.6266</td>\n",
       "      <td id=\"T_b9feb_row10_col7\" class=\"data row10 col7\" >0.6312</td>\n",
       "      <td id=\"T_b9feb_row10_col8\" class=\"data row10 col8\" >0.4830</td>\n",
       "    </tr>\n",
       "    <tr>\n",
       "      <th id=\"T_b9feb_level0_row11\" class=\"row_heading level0 row11\" >knn</th>\n",
       "      <td id=\"T_b9feb_row11_col0\" class=\"data row11 col0\" >K Neighbors Classifier</td>\n",
       "      <td id=\"T_b9feb_row11_col1\" class=\"data row11 col1\" >0.7543</td>\n",
       "      <td id=\"T_b9feb_row11_col2\" class=\"data row11 col2\" >0.8222</td>\n",
       "      <td id=\"T_b9feb_row11_col3\" class=\"data row11 col3\" >0.7385</td>\n",
       "      <td id=\"T_b9feb_row11_col4\" class=\"data row11 col4\" >0.7561</td>\n",
       "      <td id=\"T_b9feb_row11_col5\" class=\"data row11 col5\" >0.7471</td>\n",
       "      <td id=\"T_b9feb_row11_col6\" class=\"data row11 col6\" >0.5082</td>\n",
       "      <td id=\"T_b9feb_row11_col7\" class=\"data row11 col7\" >0.5085</td>\n",
       "      <td id=\"T_b9feb_row11_col8\" class=\"data row11 col8\" >0.3960</td>\n",
       "    </tr>\n",
       "    <tr>\n",
       "      <th id=\"T_b9feb_level0_row12\" class=\"row_heading level0 row12\" >qda</th>\n",
       "      <td id=\"T_b9feb_row12_col0\" class=\"data row12 col0\" >Quadratic Discriminant Analysis</td>\n",
       "      <td id=\"T_b9feb_row12_col1\" class=\"data row12 col1\" >0.5083</td>\n",
       "      <td id=\"T_b9feb_row12_col2\" class=\"data row12 col2\" >0.0000</td>\n",
       "      <td id=\"T_b9feb_row12_col3\" class=\"data row12 col3\" >0.0000</td>\n",
       "      <td id=\"T_b9feb_row12_col4\" class=\"data row12 col4\" >0.0000</td>\n",
       "      <td id=\"T_b9feb_row12_col5\" class=\"data row12 col5\" >0.0000</td>\n",
       "      <td id=\"T_b9feb_row12_col6\" class=\"data row12 col6\" >0.0000</td>\n",
       "      <td id=\"T_b9feb_row12_col7\" class=\"data row12 col7\" >0.0000</td>\n",
       "      <td id=\"T_b9feb_row12_col8\" class=\"data row12 col8\" >0.1320</td>\n",
       "    </tr>\n",
       "    <tr>\n",
       "      <th id=\"T_b9feb_level0_row13\" class=\"row_heading level0 row13\" >dummy</th>\n",
       "      <td id=\"T_b9feb_row13_col0\" class=\"data row13 col0\" >Dummy Classifier</td>\n",
       "      <td id=\"T_b9feb_row13_col1\" class=\"data row13 col1\" >0.5083</td>\n",
       "      <td id=\"T_b9feb_row13_col2\" class=\"data row13 col2\" >0.5000</td>\n",
       "      <td id=\"T_b9feb_row13_col3\" class=\"data row13 col3\" >0.0000</td>\n",
       "      <td id=\"T_b9feb_row13_col4\" class=\"data row13 col4\" >0.0000</td>\n",
       "      <td id=\"T_b9feb_row13_col5\" class=\"data row13 col5\" >0.0000</td>\n",
       "      <td id=\"T_b9feb_row13_col6\" class=\"data row13 col6\" >0.0000</td>\n",
       "      <td id=\"T_b9feb_row13_col7\" class=\"data row13 col7\" >0.0000</td>\n",
       "      <td id=\"T_b9feb_row13_col8\" class=\"data row13 col8\" >0.1320</td>\n",
       "    </tr>\n",
       "    <tr>\n",
       "      <th id=\"T_b9feb_level0_row14\" class=\"row_heading level0 row14\" >svm</th>\n",
       "      <td id=\"T_b9feb_row14_col0\" class=\"data row14 col0\" >SVM - Linear Kernel</td>\n",
       "      <td id=\"T_b9feb_row14_col1\" class=\"data row14 col1\" >0.5064</td>\n",
       "      <td id=\"T_b9feb_row14_col2\" class=\"data row14 col2\" >0.5532</td>\n",
       "      <td id=\"T_b9feb_row14_col3\" class=\"data row14 col3\" >0.3256</td>\n",
       "      <td id=\"T_b9feb_row14_col4\" class=\"data row14 col4\" >0.3293</td>\n",
       "      <td id=\"T_b9feb_row14_col5\" class=\"data row14 col5\" >0.2387</td>\n",
       "      <td id=\"T_b9feb_row14_col6\" class=\"data row14 col6\" >0.0074</td>\n",
       "      <td id=\"T_b9feb_row14_col7\" class=\"data row14 col7\" >0.0136</td>\n",
       "      <td id=\"T_b9feb_row14_col8\" class=\"data row14 col8\" >0.3750</td>\n",
       "    </tr>\n",
       "  </tbody>\n",
       "</table>\n"
      ],
      "text/plain": [
       "<pandas.io.formats.style.Styler at 0x7e7b107f68f0>"
      ]
     },
     "metadata": {},
     "output_type": "display_data"
    },
    {
     "data": {
      "application/vnd.jupyter.widget-view+json": {
       "model_id": "c42b9d5973864bada37a7c5f5493e958",
       "version_major": 2,
       "version_minor": 0
      },
      "text/plain": [
       "Processing:   0%|          | 0/65 [00:00<?, ?it/s]"
      ]
     },
     "metadata": {
      "application/vnd.jupyter.widget-view+json": {
       "colab": {
        "custom_widget_manager": {
         "url": "https://ssl.gstatic.com/colaboratory-static/widgets/colab-cdn-widget-manager/2b70e893a8ba7c0f/manager.min.js"
        }
       }
      }
     },
     "output_type": "display_data"
    },
    {
     "data": {
      "text/html": [],
      "text/plain": [
       "<IPython.core.display.HTML object>"
      ]
     },
     "metadata": {},
     "output_type": "display_data"
    }
   ],
   "source": [
    "best_model=compare_models()"
   ]
  },
  {
   "cell_type": "markdown",
   "id": "38bec927",
   "metadata": {
    "id": "38bec927"
   },
   "source": [
    "## Summary"
   ]
  },
  {
   "cell_type": "markdown",
   "id": "30263da8",
   "metadata": {
    "id": "30263da8"
   },
   "source": [
    "This project is a classification problem that aims to predict whether users will click on online ads. The data includes features such as users' demographic information (age, income, gender, city, country), internet and site usage habits. The target variable \"Ad Clicked\" is a binary variable indicating whether the user clicked on an ad (clicked/not clicked).\n",
    "\n",
    "Within the scope of the project, firstly the data was cleaned and made suitable for modeling. Then a model was created with classification algorithms such as logistic regression, decision trees, random forests and evaluated with metrics such as performance, accuracy, F1 score, precision, recall, auc and roc. We also made an evaluation with K-fold cross validation. Random Forest gave the best result in terms of accuracy score.We did automl with pycaret.We did not apply deep learning because our success rate was good and we completed our project."
   ]
  }
 ],
 "metadata": {
  "colab": {
   "provenance": []
  },
  "kernelspec": {
   "display_name": "Python 3 (ipykernel)",
   "language": "python",
   "name": "python3"
  },
  "language_info": {
   "codemirror_mode": {
    "name": "ipython",
    "version": 3
   },
   "file_extension": ".py",
   "mimetype": "text/x-python",
   "name": "python",
   "nbconvert_exporter": "python",
   "pygments_lexer": "ipython3",
   "version": "3.11.7"
  },
  "widgets": {
   "application/vnd.jupyter.widget-state+json": {
    "4102ebccb1144b52b6bd807282b0ad05": {
     "model_module": "@jupyter-widgets/base",
     "model_module_version": "1.2.0",
     "model_name": "LayoutModel",
     "state": {
      "_model_module": "@jupyter-widgets/base",
      "_model_module_version": "1.2.0",
      "_model_name": "LayoutModel",
      "_view_count": null,
      "_view_module": "@jupyter-widgets/base",
      "_view_module_version": "1.2.0",
      "_view_name": "LayoutView",
      "align_content": null,
      "align_items": null,
      "align_self": null,
      "border": null,
      "bottom": null,
      "display": null,
      "flex": null,
      "flex_flow": null,
      "grid_area": null,
      "grid_auto_columns": null,
      "grid_auto_flow": null,
      "grid_auto_rows": null,
      "grid_column": null,
      "grid_gap": null,
      "grid_row": null,
      "grid_template_areas": null,
      "grid_template_columns": null,
      "grid_template_rows": null,
      "height": null,
      "justify_content": null,
      "justify_items": null,
      "left": null,
      "margin": null,
      "max_height": null,
      "max_width": null,
      "min_height": null,
      "min_width": null,
      "object_fit": null,
      "object_position": null,
      "order": null,
      "overflow": null,
      "overflow_x": null,
      "overflow_y": null,
      "padding": null,
      "right": null,
      "top": null,
      "visibility": null,
      "width": null
     }
    },
    "41604524401c46acbbafd8f33ec562fb": {
     "model_module": "@jupyter-widgets/base",
     "model_module_version": "1.2.0",
     "model_name": "LayoutModel",
     "state": {
      "_model_module": "@jupyter-widgets/base",
      "_model_module_version": "1.2.0",
      "_model_name": "LayoutModel",
      "_view_count": null,
      "_view_module": "@jupyter-widgets/base",
      "_view_module_version": "1.2.0",
      "_view_name": "LayoutView",
      "align_content": null,
      "align_items": null,
      "align_self": null,
      "border": null,
      "bottom": null,
      "display": null,
      "flex": null,
      "flex_flow": null,
      "grid_area": null,
      "grid_auto_columns": null,
      "grid_auto_flow": null,
      "grid_auto_rows": null,
      "grid_column": null,
      "grid_gap": null,
      "grid_row": null,
      "grid_template_areas": null,
      "grid_template_columns": null,
      "grid_template_rows": null,
      "height": null,
      "justify_content": null,
      "justify_items": null,
      "left": null,
      "margin": null,
      "max_height": null,
      "max_width": null,
      "min_height": null,
      "min_width": null,
      "object_fit": null,
      "object_position": null,
      "order": null,
      "overflow": null,
      "overflow_x": null,
      "overflow_y": null,
      "padding": null,
      "right": null,
      "top": null,
      "visibility": "hidden",
      "width": null
     }
    },
    "4bfab058406348cd94accff350556b5f": {
     "model_module": "@jupyter-widgets/controls",
     "model_module_version": "1.5.0",
     "model_name": "HTMLModel",
     "state": {
      "_dom_classes": [],
      "_model_module": "@jupyter-widgets/controls",
      "_model_module_version": "1.5.0",
      "_model_name": "HTMLModel",
      "_view_count": null,
      "_view_module": "@jupyter-widgets/controls",
      "_view_module_version": "1.5.0",
      "_view_name": "HTMLView",
      "description": "",
      "description_tooltip": null,
      "layout": "IPY_MODEL_4102ebccb1144b52b6bd807282b0ad05",
      "placeholder": "​",
      "style": "IPY_MODEL_55bc1311454e4942b4963a364b74b9ca",
      "value": "Processing: 100%"
     }
    },
    "55bc1311454e4942b4963a364b74b9ca": {
     "model_module": "@jupyter-widgets/controls",
     "model_module_version": "1.5.0",
     "model_name": "DescriptionStyleModel",
     "state": {
      "_model_module": "@jupyter-widgets/controls",
      "_model_module_version": "1.5.0",
      "_model_name": "DescriptionStyleModel",
      "_view_count": null,
      "_view_module": "@jupyter-widgets/base",
      "_view_module_version": "1.2.0",
      "_view_name": "StyleView",
      "description_width": ""
     }
    },
    "71becb5ed1494a0eaccd15bf99cb9119": {
     "model_module": "@jupyter-widgets/base",
     "model_module_version": "1.2.0",
     "model_name": "LayoutModel",
     "state": {
      "_model_module": "@jupyter-widgets/base",
      "_model_module_version": "1.2.0",
      "_model_name": "LayoutModel",
      "_view_count": null,
      "_view_module": "@jupyter-widgets/base",
      "_view_module_version": "1.2.0",
      "_view_name": "LayoutView",
      "align_content": null,
      "align_items": null,
      "align_self": null,
      "border": null,
      "bottom": null,
      "display": null,
      "flex": null,
      "flex_flow": null,
      "grid_area": null,
      "grid_auto_columns": null,
      "grid_auto_flow": null,
      "grid_auto_rows": null,
      "grid_column": null,
      "grid_gap": null,
      "grid_row": null,
      "grid_template_areas": null,
      "grid_template_columns": null,
      "grid_template_rows": null,
      "height": null,
      "justify_content": null,
      "justify_items": null,
      "left": null,
      "margin": null,
      "max_height": null,
      "max_width": null,
      "min_height": null,
      "min_width": null,
      "object_fit": null,
      "object_position": null,
      "order": null,
      "overflow": null,
      "overflow_x": null,
      "overflow_y": null,
      "padding": null,
      "right": null,
      "top": null,
      "visibility": null,
      "width": null
     }
    },
    "766f9fb0075e4b07a0c9829e7cad013b": {
     "model_module": "@jupyter-widgets/controls",
     "model_module_version": "1.5.0",
     "model_name": "FloatProgressModel",
     "state": {
      "_dom_classes": [],
      "_model_module": "@jupyter-widgets/controls",
      "_model_module_version": "1.5.0",
      "_model_name": "FloatProgressModel",
      "_view_count": null,
      "_view_module": "@jupyter-widgets/controls",
      "_view_module_version": "1.5.0",
      "_view_name": "ProgressView",
      "bar_style": "",
      "description": "",
      "description_tooltip": null,
      "layout": "IPY_MODEL_71becb5ed1494a0eaccd15bf99cb9119",
      "max": 65,
      "min": 0,
      "orientation": "horizontal",
      "style": "IPY_MODEL_9c867dca15fb40b9a5b083d55e5ba1ab",
      "value": 65
     }
    },
    "80832b61a02847d8861ee3e861663013": {
     "model_module": "@jupyter-widgets/controls",
     "model_module_version": "1.5.0",
     "model_name": "HTMLModel",
     "state": {
      "_dom_classes": [],
      "_model_module": "@jupyter-widgets/controls",
      "_model_module_version": "1.5.0",
      "_model_name": "HTMLModel",
      "_view_count": null,
      "_view_module": "@jupyter-widgets/controls",
      "_view_module_version": "1.5.0",
      "_view_name": "HTMLView",
      "description": "",
      "description_tooltip": null,
      "layout": "IPY_MODEL_b6134873272347dab5d3571cf226fd8f",
      "placeholder": "​",
      "style": "IPY_MODEL_81002f502e4a41f8b0536e0b123f4629",
      "value": " 65/65 [01:38&lt;00:00,  1.46it/s]"
     }
    },
    "81002f502e4a41f8b0536e0b123f4629": {
     "model_module": "@jupyter-widgets/controls",
     "model_module_version": "1.5.0",
     "model_name": "DescriptionStyleModel",
     "state": {
      "_model_module": "@jupyter-widgets/controls",
      "_model_module_version": "1.5.0",
      "_model_name": "DescriptionStyleModel",
      "_view_count": null,
      "_view_module": "@jupyter-widgets/base",
      "_view_module_version": "1.2.0",
      "_view_name": "StyleView",
      "description_width": ""
     }
    },
    "9c867dca15fb40b9a5b083d55e5ba1ab": {
     "model_module": "@jupyter-widgets/controls",
     "model_module_version": "1.5.0",
     "model_name": "ProgressStyleModel",
     "state": {
      "_model_module": "@jupyter-widgets/controls",
      "_model_module_version": "1.5.0",
      "_model_name": "ProgressStyleModel",
      "_view_count": null,
      "_view_module": "@jupyter-widgets/base",
      "_view_module_version": "1.2.0",
      "_view_name": "StyleView",
      "bar_color": null,
      "description_width": ""
     }
    },
    "b6134873272347dab5d3571cf226fd8f": {
     "model_module": "@jupyter-widgets/base",
     "model_module_version": "1.2.0",
     "model_name": "LayoutModel",
     "state": {
      "_model_module": "@jupyter-widgets/base",
      "_model_module_version": "1.2.0",
      "_model_name": "LayoutModel",
      "_view_count": null,
      "_view_module": "@jupyter-widgets/base",
      "_view_module_version": "1.2.0",
      "_view_name": "LayoutView",
      "align_content": null,
      "align_items": null,
      "align_self": null,
      "border": null,
      "bottom": null,
      "display": null,
      "flex": null,
      "flex_flow": null,
      "grid_area": null,
      "grid_auto_columns": null,
      "grid_auto_flow": null,
      "grid_auto_rows": null,
      "grid_column": null,
      "grid_gap": null,
      "grid_row": null,
      "grid_template_areas": null,
      "grid_template_columns": null,
      "grid_template_rows": null,
      "height": null,
      "justify_content": null,
      "justify_items": null,
      "left": null,
      "margin": null,
      "max_height": null,
      "max_width": null,
      "min_height": null,
      "min_width": null,
      "object_fit": null,
      "object_position": null,
      "order": null,
      "overflow": null,
      "overflow_x": null,
      "overflow_y": null,
      "padding": null,
      "right": null,
      "top": null,
      "visibility": null,
      "width": null
     }
    },
    "c42b9d5973864bada37a7c5f5493e958": {
     "model_module": "@jupyter-widgets/controls",
     "model_module_version": "1.5.0",
     "model_name": "HBoxModel",
     "state": {
      "_dom_classes": [],
      "_model_module": "@jupyter-widgets/controls",
      "_model_module_version": "1.5.0",
      "_model_name": "HBoxModel",
      "_view_count": null,
      "_view_module": "@jupyter-widgets/controls",
      "_view_module_version": "1.5.0",
      "_view_name": "HBoxView",
      "box_style": "",
      "children": [
       "IPY_MODEL_4bfab058406348cd94accff350556b5f",
       "IPY_MODEL_766f9fb0075e4b07a0c9829e7cad013b",
       "IPY_MODEL_80832b61a02847d8861ee3e861663013"
      ],
      "layout": "IPY_MODEL_41604524401c46acbbafd8f33ec562fb"
     }
    }
   }
  }
 },
 "nbformat": 4,
 "nbformat_minor": 5
}
