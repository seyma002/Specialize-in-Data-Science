{
 "cells": [
  {
   "cell_type": "markdown",
   "id": "e935dc3d",
   "metadata": {
    "id": "e935dc3d"
   },
   "source": [
    "## Breast Cancer Survival Prediction - Classification"
   ]
  },
  {
   "cell_type": "markdown",
   "id": "813ff9ca",
   "metadata": {
    "id": "813ff9ca"
   },
   "source": [
    "Breast cancer survival prediction is a crucial task in the healthcare domain, as it helps in identifying patients who are at higher risk of mortality. Using machine learning models for survival prediction can assist oncologists in providing timely interventions, improving patient outcomes. The dataset for this task typically contains information about patients such as age, gender, protein expression levels, tumor stage, histology type, and hormone receptor statuses like ER (Estrogen Receptor), PR (Progesterone Receptor), and HER2 (Human Epidermal Growth Factor Receptor 2).\n",
    "\n",
    "For this specific problem, you have patient-related features like:\n",
    "* Patient_ID: A unique identifier for each patient.\n",
    "* Age: The age of the patient.\n",
    "* Gender: Male or female.\n",
    "* Protein1, Protein2, Protein3, Protein4: Biomarker levels, likely related to cancer progression or treatment response.\n",
    "* Tumour_Stage: Clinical stage of the tumor, a critical factor in prognosis.\n",
    "* Histology: The type of tissue cancer observed under a microscope, which can influence treatment decisions.\n",
    "* ER, PR, HER2 status: Hormone receptor statuses that provide insight into the type of breast cancer and potential treatments.\n",
    "* Surgery_type: Type of surgery the patient underwent.\n",
    "* Date_of_Surgery: The date when the surgery was performed.\n",
    "* Date_of_Last_Visit: The most recent follow-up with the patient.\n",
    "* Patient_Status: Whether the patient is alive, deceased, or has another outcome.\n",
    "\n",
    "This type of data can be leveraged to build a classification model predicting the survival status (alive/deceased) based on patient characteristics and treatment history.\n"
   ]
  },
  {
   "cell_type": "markdown",
   "id": "3d87635c",
   "metadata": {
    "id": "3d87635c"
   },
   "source": [
    "<img src='health.jpg' width=550 >"
   ]
  },
  {
   "cell_type": "markdown",
   "id": "3a3f56a9",
   "metadata": {
    "id": "3a3f56a9"
   },
   "source": [
    "## Import Libraries"
   ]
  },
  {
   "cell_type": "code",
   "execution_count": 1,
   "id": "81b08f34",
   "metadata": {
    "id": "81b08f34"
   },
   "outputs": [],
   "source": [
    "import pandas as pd\n",
    "import seaborn as sns\n",
    "import matplotlib.pyplot as plt\n",
    "import warnings\n",
    "warnings.filterwarnings('ignore')\n",
    "from sklearn.model_selection import train_test_split\n",
    "from sklearn.naive_bayes import GaussianNB\n",
    "from sklearn.naive_bayes import BernoulliNB\n",
    "from sklearn.metrics import accuracy_score, confusion_matrix, classification_report\n",
    "from sklearn.metrics import roc_curve, auc\n",
    "from sklearn.model_selection import KFold, cross_val_score\n",
    "from sklearn.ensemble import RandomForestClassifier\n",
    "from sklearn.datasets import make_classification"
   ]
  },
  {
   "cell_type": "code",
   "execution_count": 2,
   "id": "e7ce38fd",
   "metadata": {
    "id": "e7ce38fd"
   },
   "outputs": [],
   "source": [
    "df=pd.read_csv('BRCA.csv')\n",
    "#Read the file."
   ]
  },
  {
   "cell_type": "markdown",
   "id": "d419a460",
   "metadata": {
    "id": "d419a460"
   },
   "source": [
    "## EDA - Exploratory Data Analysis"
   ]
  },
  {
   "cell_type": "code",
   "execution_count": 3,
   "id": "92a57697",
   "metadata": {
    "colab": {
     "base_uri": "https://localhost:8080/",
     "height": 310
    },
    "id": "92a57697",
    "outputId": "ef4d232a-9278-4a04-8a06-70b1358870b5"
   },
   "outputs": [
    {
     "data": {
      "application/vnd.google.colaboratory.intrinsic+json": {
       "summary": "{\n  \"name\": \"df\",\n  \"rows\": 341,\n  \"fields\": [\n    {\n      \"column\": \"Patient_ID\",\n      \"properties\": {\n        \"dtype\": \"string\",\n        \"num_unique_values\": 334,\n        \"samples\": [\n          \"TCGA-AC-A62Y\",\n          \"TCGA-EW-A423\",\n          \"TCGA-GM-A2DO\"\n        ],\n        \"semantic_type\": \"\",\n        \"description\": \"\"\n      }\n    },\n    {\n      \"column\": \"Age\",\n      \"properties\": {\n        \"dtype\": \"number\",\n        \"std\": 12.961212248978985,\n        \"min\": 29.0,\n        \"max\": 90.0,\n        \"num_unique_values\": 57,\n        \"samples\": [\n          36.0,\n          53.0,\n          44.0\n        ],\n        \"semantic_type\": \"\",\n        \"description\": \"\"\n      }\n    },\n    {\n      \"column\": \"Gender\",\n      \"properties\": {\n        \"dtype\": \"category\",\n        \"num_unique_values\": 2,\n        \"samples\": [\n          \"MALE\",\n          \"FEMALE\"\n        ],\n        \"semantic_type\": \"\",\n        \"description\": \"\"\n      }\n    },\n    {\n      \"column\": \"Protein1\",\n      \"properties\": {\n        \"dtype\": \"number\",\n        \"std\": 0.5635879406321604,\n        \"min\": -2.3409,\n        \"max\": 1.5936,\n        \"num_unique_values\": 333,\n        \"samples\": [\n          -0.036229,\n          -0.089463\n        ],\n        \"semantic_type\": \"\",\n        \"description\": \"\"\n      }\n    },\n    {\n      \"column\": \"Protein2\",\n      \"properties\": {\n        \"dtype\": \"number\",\n        \"std\": 0.9116368651586273,\n        \"min\": -0.97873,\n        \"max\": 3.4022,\n        \"num_unique_values\": 334,\n        \"samples\": [\n          0.79551,\n          2.7056\n        ],\n        \"semantic_type\": \"\",\n        \"description\": \"\"\n      }\n    },\n    {\n      \"column\": \"Protein3\",\n      \"properties\": {\n        \"dtype\": \"number\",\n        \"std\": 0.5851750448966602,\n        \"min\": -1.6274,\n        \"max\": 2.1934,\n        \"num_unique_values\": 334,\n        \"samples\": [\n          -0.013525,\n          -0.33393\n        ],\n        \"semantic_type\": \"\",\n        \"description\": \"\"\n      }\n    },\n    {\n      \"column\": \"Protein4\",\n      \"properties\": {\n        \"dtype\": \"number\",\n        \"std\": 0.6290546860772146,\n        \"min\": -2.0255,\n        \"max\": 1.6299,\n        \"num_unique_values\": 333,\n        \"samples\": [\n          1.6299,\n          -0.25303\n        ],\n        \"semantic_type\": \"\",\n        \"description\": \"\"\n      }\n    },\n    {\n      \"column\": \"Tumour_Stage\",\n      \"properties\": {\n        \"dtype\": \"category\",\n        \"num_unique_values\": 3,\n        \"samples\": [\n          \"III\",\n          \"II\"\n        ],\n        \"semantic_type\": \"\",\n        \"description\": \"\"\n      }\n    },\n    {\n      \"column\": \"Histology\",\n      \"properties\": {\n        \"dtype\": \"category\",\n        \"num_unique_values\": 3,\n        \"samples\": [\n          \"Infiltrating Ductal Carcinoma\",\n          \"Mucinous Carcinoma\"\n        ],\n        \"semantic_type\": \"\",\n        \"description\": \"\"\n      }\n    },\n    {\n      \"column\": \"ER status\",\n      \"properties\": {\n        \"dtype\": \"category\",\n        \"num_unique_values\": 1,\n        \"samples\": [\n          \"Positive\"\n        ],\n        \"semantic_type\": \"\",\n        \"description\": \"\"\n      }\n    },\n    {\n      \"column\": \"PR status\",\n      \"properties\": {\n        \"dtype\": \"category\",\n        \"num_unique_values\": 1,\n        \"samples\": [\n          \"Positive\"\n        ],\n        \"semantic_type\": \"\",\n        \"description\": \"\"\n      }\n    },\n    {\n      \"column\": \"HER2 status\",\n      \"properties\": {\n        \"dtype\": \"category\",\n        \"num_unique_values\": 2,\n        \"samples\": [\n          \"Positive\"\n        ],\n        \"semantic_type\": \"\",\n        \"description\": \"\"\n      }\n    },\n    {\n      \"column\": \"Surgery_type\",\n      \"properties\": {\n        \"dtype\": \"category\",\n        \"num_unique_values\": 4,\n        \"samples\": [\n          \"Lumpectomy\"\n        ],\n        \"semantic_type\": \"\",\n        \"description\": \"\"\n      }\n    },\n    {\n      \"column\": \"Date_of_Surgery\",\n      \"properties\": {\n        \"dtype\": \"object\",\n        \"num_unique_values\": 181,\n        \"samples\": [\n          \"25-Jun-17\"\n        ],\n        \"semantic_type\": \"\",\n        \"description\": \"\"\n      }\n    },\n    {\n      \"column\": \"Date_of_Last_Visit\",\n      \"properties\": {\n        \"dtype\": \"object\",\n        \"num_unique_values\": 285,\n        \"samples\": [\n          \"19-Dec-17\"\n        ],\n        \"semantic_type\": \"\",\n        \"description\": \"\"\n      }\n    },\n    {\n      \"column\": \"Patient_Status\",\n      \"properties\": {\n        \"dtype\": \"category\",\n        \"num_unique_values\": 2,\n        \"samples\": [\n          \"Dead\"\n        ],\n        \"semantic_type\": \"\",\n        \"description\": \"\"\n      }\n    }\n  ]\n}",
       "type": "dataframe",
       "variable_name": "df"
      },
      "text/html": [
       "\n",
       "  <div id=\"df-b0152ea2-3db7-48c5-b8a6-ba03fad0e1c5\" class=\"colab-df-container\">\n",
       "    <div>\n",
       "<style scoped>\n",
       "    .dataframe tbody tr th:only-of-type {\n",
       "        vertical-align: middle;\n",
       "    }\n",
       "\n",
       "    .dataframe tbody tr th {\n",
       "        vertical-align: top;\n",
       "    }\n",
       "\n",
       "    .dataframe thead th {\n",
       "        text-align: right;\n",
       "    }\n",
       "</style>\n",
       "<table border=\"1\" class=\"dataframe\">\n",
       "  <thead>\n",
       "    <tr style=\"text-align: right;\">\n",
       "      <th></th>\n",
       "      <th>Patient_ID</th>\n",
       "      <th>Age</th>\n",
       "      <th>Gender</th>\n",
       "      <th>Protein1</th>\n",
       "      <th>Protein2</th>\n",
       "      <th>Protein3</th>\n",
       "      <th>Protein4</th>\n",
       "      <th>Tumour_Stage</th>\n",
       "      <th>Histology</th>\n",
       "      <th>ER status</th>\n",
       "      <th>PR status</th>\n",
       "      <th>HER2 status</th>\n",
       "      <th>Surgery_type</th>\n",
       "      <th>Date_of_Surgery</th>\n",
       "      <th>Date_of_Last_Visit</th>\n",
       "      <th>Patient_Status</th>\n",
       "    </tr>\n",
       "  </thead>\n",
       "  <tbody>\n",
       "    <tr>\n",
       "      <th>0</th>\n",
       "      <td>TCGA-D8-A1XD</td>\n",
       "      <td>36.0</td>\n",
       "      <td>FEMALE</td>\n",
       "      <td>0.080353</td>\n",
       "      <td>0.42638</td>\n",
       "      <td>0.54715</td>\n",
       "      <td>0.273680</td>\n",
       "      <td>III</td>\n",
       "      <td>Infiltrating Ductal Carcinoma</td>\n",
       "      <td>Positive</td>\n",
       "      <td>Positive</td>\n",
       "      <td>Negative</td>\n",
       "      <td>Modified Radical Mastectomy</td>\n",
       "      <td>15-Jan-17</td>\n",
       "      <td>19-Jun-17</td>\n",
       "      <td>Alive</td>\n",
       "    </tr>\n",
       "    <tr>\n",
       "      <th>1</th>\n",
       "      <td>TCGA-EW-A1OX</td>\n",
       "      <td>43.0</td>\n",
       "      <td>FEMALE</td>\n",
       "      <td>-0.420320</td>\n",
       "      <td>0.57807</td>\n",
       "      <td>0.61447</td>\n",
       "      <td>-0.031505</td>\n",
       "      <td>II</td>\n",
       "      <td>Mucinous Carcinoma</td>\n",
       "      <td>Positive</td>\n",
       "      <td>Positive</td>\n",
       "      <td>Negative</td>\n",
       "      <td>Lumpectomy</td>\n",
       "      <td>26-Apr-17</td>\n",
       "      <td>09-Nov-18</td>\n",
       "      <td>Dead</td>\n",
       "    </tr>\n",
       "    <tr>\n",
       "      <th>2</th>\n",
       "      <td>TCGA-A8-A079</td>\n",
       "      <td>69.0</td>\n",
       "      <td>FEMALE</td>\n",
       "      <td>0.213980</td>\n",
       "      <td>1.31140</td>\n",
       "      <td>-0.32747</td>\n",
       "      <td>-0.234260</td>\n",
       "      <td>III</td>\n",
       "      <td>Infiltrating Ductal Carcinoma</td>\n",
       "      <td>Positive</td>\n",
       "      <td>Positive</td>\n",
       "      <td>Negative</td>\n",
       "      <td>Other</td>\n",
       "      <td>08-Sep-17</td>\n",
       "      <td>09-Jun-18</td>\n",
       "      <td>Alive</td>\n",
       "    </tr>\n",
       "    <tr>\n",
       "      <th>3</th>\n",
       "      <td>TCGA-D8-A1XR</td>\n",
       "      <td>56.0</td>\n",
       "      <td>FEMALE</td>\n",
       "      <td>0.345090</td>\n",
       "      <td>-0.21147</td>\n",
       "      <td>-0.19304</td>\n",
       "      <td>0.124270</td>\n",
       "      <td>II</td>\n",
       "      <td>Infiltrating Ductal Carcinoma</td>\n",
       "      <td>Positive</td>\n",
       "      <td>Positive</td>\n",
       "      <td>Negative</td>\n",
       "      <td>Modified Radical Mastectomy</td>\n",
       "      <td>25-Jan-17</td>\n",
       "      <td>12-Jul-17</td>\n",
       "      <td>Alive</td>\n",
       "    </tr>\n",
       "    <tr>\n",
       "      <th>4</th>\n",
       "      <td>TCGA-BH-A0BF</td>\n",
       "      <td>56.0</td>\n",
       "      <td>FEMALE</td>\n",
       "      <td>0.221550</td>\n",
       "      <td>1.90680</td>\n",
       "      <td>0.52045</td>\n",
       "      <td>-0.311990</td>\n",
       "      <td>II</td>\n",
       "      <td>Infiltrating Ductal Carcinoma</td>\n",
       "      <td>Positive</td>\n",
       "      <td>Positive</td>\n",
       "      <td>Negative</td>\n",
       "      <td>Other</td>\n",
       "      <td>06-May-17</td>\n",
       "      <td>27-Jun-19</td>\n",
       "      <td>Dead</td>\n",
       "    </tr>\n",
       "  </tbody>\n",
       "</table>\n",
       "</div>\n",
       "    <div class=\"colab-df-buttons\">\n",
       "\n",
       "  <div class=\"colab-df-container\">\n",
       "    <button class=\"colab-df-convert\" onclick=\"convertToInteractive('df-b0152ea2-3db7-48c5-b8a6-ba03fad0e1c5')\"\n",
       "            title=\"Convert this dataframe to an interactive table.\"\n",
       "            style=\"display:none;\">\n",
       "\n",
       "  <svg xmlns=\"http://www.w3.org/2000/svg\" height=\"24px\" viewBox=\"0 -960 960 960\">\n",
       "    <path d=\"M120-120v-720h720v720H120Zm60-500h600v-160H180v160Zm220 220h160v-160H400v160Zm0 220h160v-160H400v160ZM180-400h160v-160H180v160Zm440 0h160v-160H620v160ZM180-180h160v-160H180v160Zm440 0h160v-160H620v160Z\"/>\n",
       "  </svg>\n",
       "    </button>\n",
       "\n",
       "  <style>\n",
       "    .colab-df-container {\n",
       "      display:flex;\n",
       "      gap: 12px;\n",
       "    }\n",
       "\n",
       "    .colab-df-convert {\n",
       "      background-color: #E8F0FE;\n",
       "      border: none;\n",
       "      border-radius: 50%;\n",
       "      cursor: pointer;\n",
       "      display: none;\n",
       "      fill: #1967D2;\n",
       "      height: 32px;\n",
       "      padding: 0 0 0 0;\n",
       "      width: 32px;\n",
       "    }\n",
       "\n",
       "    .colab-df-convert:hover {\n",
       "      background-color: #E2EBFA;\n",
       "      box-shadow: 0px 1px 2px rgba(60, 64, 67, 0.3), 0px 1px 3px 1px rgba(60, 64, 67, 0.15);\n",
       "      fill: #174EA6;\n",
       "    }\n",
       "\n",
       "    .colab-df-buttons div {\n",
       "      margin-bottom: 4px;\n",
       "    }\n",
       "\n",
       "    [theme=dark] .colab-df-convert {\n",
       "      background-color: #3B4455;\n",
       "      fill: #D2E3FC;\n",
       "    }\n",
       "\n",
       "    [theme=dark] .colab-df-convert:hover {\n",
       "      background-color: #434B5C;\n",
       "      box-shadow: 0px 1px 3px 1px rgba(0, 0, 0, 0.15);\n",
       "      filter: drop-shadow(0px 1px 2px rgba(0, 0, 0, 0.3));\n",
       "      fill: #FFFFFF;\n",
       "    }\n",
       "  </style>\n",
       "\n",
       "    <script>\n",
       "      const buttonEl =\n",
       "        document.querySelector('#df-b0152ea2-3db7-48c5-b8a6-ba03fad0e1c5 button.colab-df-convert');\n",
       "      buttonEl.style.display =\n",
       "        google.colab.kernel.accessAllowed ? 'block' : 'none';\n",
       "\n",
       "      async function convertToInteractive(key) {\n",
       "        const element = document.querySelector('#df-b0152ea2-3db7-48c5-b8a6-ba03fad0e1c5');\n",
       "        const dataTable =\n",
       "          await google.colab.kernel.invokeFunction('convertToInteractive',\n",
       "                                                    [key], {});\n",
       "        if (!dataTable) return;\n",
       "\n",
       "        const docLinkHtml = 'Like what you see? Visit the ' +\n",
       "          '<a target=\"_blank\" href=https://colab.research.google.com/notebooks/data_table.ipynb>data table notebook</a>'\n",
       "          + ' to learn more about interactive tables.';\n",
       "        element.innerHTML = '';\n",
       "        dataTable['output_type'] = 'display_data';\n",
       "        await google.colab.output.renderOutput(dataTable, element);\n",
       "        const docLink = document.createElement('div');\n",
       "        docLink.innerHTML = docLinkHtml;\n",
       "        element.appendChild(docLink);\n",
       "      }\n",
       "    </script>\n",
       "  </div>\n",
       "\n",
       "\n",
       "<div id=\"df-42cdcf08-effd-4cb4-beb0-b7871ad2483d\">\n",
       "  <button class=\"colab-df-quickchart\" onclick=\"quickchart('df-42cdcf08-effd-4cb4-beb0-b7871ad2483d')\"\n",
       "            title=\"Suggest charts\"\n",
       "            style=\"display:none;\">\n",
       "\n",
       "<svg xmlns=\"http://www.w3.org/2000/svg\" height=\"24px\"viewBox=\"0 0 24 24\"\n",
       "     width=\"24px\">\n",
       "    <g>\n",
       "        <path d=\"M19 3H5c-1.1 0-2 .9-2 2v14c0 1.1.9 2 2 2h14c1.1 0 2-.9 2-2V5c0-1.1-.9-2-2-2zM9 17H7v-7h2v7zm4 0h-2V7h2v10zm4 0h-2v-4h2v4z\"/>\n",
       "    </g>\n",
       "</svg>\n",
       "  </button>\n",
       "\n",
       "<style>\n",
       "  .colab-df-quickchart {\n",
       "      --bg-color: #E8F0FE;\n",
       "      --fill-color: #1967D2;\n",
       "      --hover-bg-color: #E2EBFA;\n",
       "      --hover-fill-color: #174EA6;\n",
       "      --disabled-fill-color: #AAA;\n",
       "      --disabled-bg-color: #DDD;\n",
       "  }\n",
       "\n",
       "  [theme=dark] .colab-df-quickchart {\n",
       "      --bg-color: #3B4455;\n",
       "      --fill-color: #D2E3FC;\n",
       "      --hover-bg-color: #434B5C;\n",
       "      --hover-fill-color: #FFFFFF;\n",
       "      --disabled-bg-color: #3B4455;\n",
       "      --disabled-fill-color: #666;\n",
       "  }\n",
       "\n",
       "  .colab-df-quickchart {\n",
       "    background-color: var(--bg-color);\n",
       "    border: none;\n",
       "    border-radius: 50%;\n",
       "    cursor: pointer;\n",
       "    display: none;\n",
       "    fill: var(--fill-color);\n",
       "    height: 32px;\n",
       "    padding: 0;\n",
       "    width: 32px;\n",
       "  }\n",
       "\n",
       "  .colab-df-quickchart:hover {\n",
       "    background-color: var(--hover-bg-color);\n",
       "    box-shadow: 0 1px 2px rgba(60, 64, 67, 0.3), 0 1px 3px 1px rgba(60, 64, 67, 0.15);\n",
       "    fill: var(--button-hover-fill-color);\n",
       "  }\n",
       "\n",
       "  .colab-df-quickchart-complete:disabled,\n",
       "  .colab-df-quickchart-complete:disabled:hover {\n",
       "    background-color: var(--disabled-bg-color);\n",
       "    fill: var(--disabled-fill-color);\n",
       "    box-shadow: none;\n",
       "  }\n",
       "\n",
       "  .colab-df-spinner {\n",
       "    border: 2px solid var(--fill-color);\n",
       "    border-color: transparent;\n",
       "    border-bottom-color: var(--fill-color);\n",
       "    animation:\n",
       "      spin 1s steps(1) infinite;\n",
       "  }\n",
       "\n",
       "  @keyframes spin {\n",
       "    0% {\n",
       "      border-color: transparent;\n",
       "      border-bottom-color: var(--fill-color);\n",
       "      border-left-color: var(--fill-color);\n",
       "    }\n",
       "    20% {\n",
       "      border-color: transparent;\n",
       "      border-left-color: var(--fill-color);\n",
       "      border-top-color: var(--fill-color);\n",
       "    }\n",
       "    30% {\n",
       "      border-color: transparent;\n",
       "      border-left-color: var(--fill-color);\n",
       "      border-top-color: var(--fill-color);\n",
       "      border-right-color: var(--fill-color);\n",
       "    }\n",
       "    40% {\n",
       "      border-color: transparent;\n",
       "      border-right-color: var(--fill-color);\n",
       "      border-top-color: var(--fill-color);\n",
       "    }\n",
       "    60% {\n",
       "      border-color: transparent;\n",
       "      border-right-color: var(--fill-color);\n",
       "    }\n",
       "    80% {\n",
       "      border-color: transparent;\n",
       "      border-right-color: var(--fill-color);\n",
       "      border-bottom-color: var(--fill-color);\n",
       "    }\n",
       "    90% {\n",
       "      border-color: transparent;\n",
       "      border-bottom-color: var(--fill-color);\n",
       "    }\n",
       "  }\n",
       "</style>\n",
       "\n",
       "  <script>\n",
       "    async function quickchart(key) {\n",
       "      const quickchartButtonEl =\n",
       "        document.querySelector('#' + key + ' button');\n",
       "      quickchartButtonEl.disabled = true;  // To prevent multiple clicks.\n",
       "      quickchartButtonEl.classList.add('colab-df-spinner');\n",
       "      try {\n",
       "        const charts = await google.colab.kernel.invokeFunction(\n",
       "            'suggestCharts', [key], {});\n",
       "      } catch (error) {\n",
       "        console.error('Error during call to suggestCharts:', error);\n",
       "      }\n",
       "      quickchartButtonEl.classList.remove('colab-df-spinner');\n",
       "      quickchartButtonEl.classList.add('colab-df-quickchart-complete');\n",
       "    }\n",
       "    (() => {\n",
       "      let quickchartButtonEl =\n",
       "        document.querySelector('#df-42cdcf08-effd-4cb4-beb0-b7871ad2483d button');\n",
       "      quickchartButtonEl.style.display =\n",
       "        google.colab.kernel.accessAllowed ? 'block' : 'none';\n",
       "    })();\n",
       "  </script>\n",
       "</div>\n",
       "\n",
       "    </div>\n",
       "  </div>\n"
      ],
      "text/plain": [
       "     Patient_ID   Age  Gender  Protein1  Protein2  Protein3  Protein4  \\\n",
       "0  TCGA-D8-A1XD  36.0  FEMALE  0.080353   0.42638   0.54715  0.273680   \n",
       "1  TCGA-EW-A1OX  43.0  FEMALE -0.420320   0.57807   0.61447 -0.031505   \n",
       "2  TCGA-A8-A079  69.0  FEMALE  0.213980   1.31140  -0.32747 -0.234260   \n",
       "3  TCGA-D8-A1XR  56.0  FEMALE  0.345090  -0.21147  -0.19304  0.124270   \n",
       "4  TCGA-BH-A0BF  56.0  FEMALE  0.221550   1.90680   0.52045 -0.311990   \n",
       "\n",
       "  Tumour_Stage                      Histology ER status PR status HER2 status  \\\n",
       "0          III  Infiltrating Ductal Carcinoma  Positive  Positive    Negative   \n",
       "1           II             Mucinous Carcinoma  Positive  Positive    Negative   \n",
       "2          III  Infiltrating Ductal Carcinoma  Positive  Positive    Negative   \n",
       "3           II  Infiltrating Ductal Carcinoma  Positive  Positive    Negative   \n",
       "4           II  Infiltrating Ductal Carcinoma  Positive  Positive    Negative   \n",
       "\n",
       "                  Surgery_type Date_of_Surgery Date_of_Last_Visit  \\\n",
       "0  Modified Radical Mastectomy       15-Jan-17          19-Jun-17   \n",
       "1                   Lumpectomy       26-Apr-17          09-Nov-18   \n",
       "2                        Other       08-Sep-17          09-Jun-18   \n",
       "3  Modified Radical Mastectomy       25-Jan-17          12-Jul-17   \n",
       "4                        Other       06-May-17          27-Jun-19   \n",
       "\n",
       "  Patient_Status  \n",
       "0          Alive  \n",
       "1           Dead  \n",
       "2          Alive  \n",
       "3          Alive  \n",
       "4           Dead  "
      ]
     },
     "execution_count": 3,
     "metadata": {},
     "output_type": "execute_result"
    }
   ],
   "source": [
    "df.head()"
   ]
  },
  {
   "cell_type": "code",
   "execution_count": 4,
   "id": "3adf380b",
   "metadata": {
    "colab": {
     "base_uri": "https://localhost:8080/"
    },
    "id": "3adf380b",
    "outputId": "e032e467-9309-4526-8497-af74a0549c6a"
   },
   "outputs": [
    {
     "data": {
      "text/plain": [
       "(341, 16)"
      ]
     },
     "execution_count": 4,
     "metadata": {},
     "output_type": "execute_result"
    }
   ],
   "source": [
    "df.shape"
   ]
  },
  {
   "cell_type": "code",
   "execution_count": 5,
   "id": "463c6dd0",
   "metadata": {
    "colab": {
     "base_uri": "https://localhost:8080/",
     "height": 585
    },
    "id": "463c6dd0",
    "outputId": "fcb06ed6-f906-47da-98be-09fb96206361"
   },
   "outputs": [
    {
     "data": {
      "text/html": [
       "<div>\n",
       "<style scoped>\n",
       "    .dataframe tbody tr th:only-of-type {\n",
       "        vertical-align: middle;\n",
       "    }\n",
       "\n",
       "    .dataframe tbody tr th {\n",
       "        vertical-align: top;\n",
       "    }\n",
       "\n",
       "    .dataframe thead th {\n",
       "        text-align: right;\n",
       "    }\n",
       "</style>\n",
       "<table border=\"1\" class=\"dataframe\">\n",
       "  <thead>\n",
       "    <tr style=\"text-align: right;\">\n",
       "      <th></th>\n",
       "      <th>0</th>\n",
       "    </tr>\n",
       "  </thead>\n",
       "  <tbody>\n",
       "    <tr>\n",
       "      <th>Patient_ID</th>\n",
       "      <td>7</td>\n",
       "    </tr>\n",
       "    <tr>\n",
       "      <th>Age</th>\n",
       "      <td>7</td>\n",
       "    </tr>\n",
       "    <tr>\n",
       "      <th>Gender</th>\n",
       "      <td>7</td>\n",
       "    </tr>\n",
       "    <tr>\n",
       "      <th>Protein1</th>\n",
       "      <td>7</td>\n",
       "    </tr>\n",
       "    <tr>\n",
       "      <th>Protein2</th>\n",
       "      <td>7</td>\n",
       "    </tr>\n",
       "    <tr>\n",
       "      <th>Protein3</th>\n",
       "      <td>7</td>\n",
       "    </tr>\n",
       "    <tr>\n",
       "      <th>Protein4</th>\n",
       "      <td>7</td>\n",
       "    </tr>\n",
       "    <tr>\n",
       "      <th>Tumour_Stage</th>\n",
       "      <td>7</td>\n",
       "    </tr>\n",
       "    <tr>\n",
       "      <th>Histology</th>\n",
       "      <td>7</td>\n",
       "    </tr>\n",
       "    <tr>\n",
       "      <th>ER status</th>\n",
       "      <td>7</td>\n",
       "    </tr>\n",
       "    <tr>\n",
       "      <th>PR status</th>\n",
       "      <td>7</td>\n",
       "    </tr>\n",
       "    <tr>\n",
       "      <th>HER2 status</th>\n",
       "      <td>7</td>\n",
       "    </tr>\n",
       "    <tr>\n",
       "      <th>Surgery_type</th>\n",
       "      <td>7</td>\n",
       "    </tr>\n",
       "    <tr>\n",
       "      <th>Date_of_Surgery</th>\n",
       "      <td>7</td>\n",
       "    </tr>\n",
       "    <tr>\n",
       "      <th>Date_of_Last_Visit</th>\n",
       "      <td>24</td>\n",
       "    </tr>\n",
       "    <tr>\n",
       "      <th>Patient_Status</th>\n",
       "      <td>20</td>\n",
       "    </tr>\n",
       "  </tbody>\n",
       "</table>\n",
       "</div><br><label><b>dtype:</b> int64</label>"
      ],
      "text/plain": [
       "Patient_ID             7\n",
       "Age                    7\n",
       "Gender                 7\n",
       "Protein1               7\n",
       "Protein2               7\n",
       "Protein3               7\n",
       "Protein4               7\n",
       "Tumour_Stage           7\n",
       "Histology              7\n",
       "ER status              7\n",
       "PR status              7\n",
       "HER2 status            7\n",
       "Surgery_type           7\n",
       "Date_of_Surgery        7\n",
       "Date_of_Last_Visit    24\n",
       "Patient_Status        20\n",
       "dtype: int64"
      ]
     },
     "execution_count": 5,
     "metadata": {},
     "output_type": "execute_result"
    }
   ],
   "source": [
    "df.isnull().sum()"
   ]
  },
  {
   "cell_type": "code",
   "execution_count": 6,
   "id": "9a712447",
   "metadata": {
    "id": "9a712447"
   },
   "outputs": [],
   "source": [
    "df=df.dropna()"
   ]
  },
  {
   "cell_type": "code",
   "execution_count": 7,
   "id": "6a70df80",
   "metadata": {
    "colab": {
     "base_uri": "https://localhost:8080/",
     "height": 585
    },
    "id": "6a70df80",
    "outputId": "4f5bb5b1-b89b-4b61-ef64-5961c0dd4298"
   },
   "outputs": [
    {
     "data": {
      "text/html": [
       "<div>\n",
       "<style scoped>\n",
       "    .dataframe tbody tr th:only-of-type {\n",
       "        vertical-align: middle;\n",
       "    }\n",
       "\n",
       "    .dataframe tbody tr th {\n",
       "        vertical-align: top;\n",
       "    }\n",
       "\n",
       "    .dataframe thead th {\n",
       "        text-align: right;\n",
       "    }\n",
       "</style>\n",
       "<table border=\"1\" class=\"dataframe\">\n",
       "  <thead>\n",
       "    <tr style=\"text-align: right;\">\n",
       "      <th></th>\n",
       "      <th>0</th>\n",
       "    </tr>\n",
       "  </thead>\n",
       "  <tbody>\n",
       "    <tr>\n",
       "      <th>Patient_ID</th>\n",
       "      <td>0</td>\n",
       "    </tr>\n",
       "    <tr>\n",
       "      <th>Age</th>\n",
       "      <td>0</td>\n",
       "    </tr>\n",
       "    <tr>\n",
       "      <th>Gender</th>\n",
       "      <td>0</td>\n",
       "    </tr>\n",
       "    <tr>\n",
       "      <th>Protein1</th>\n",
       "      <td>0</td>\n",
       "    </tr>\n",
       "    <tr>\n",
       "      <th>Protein2</th>\n",
       "      <td>0</td>\n",
       "    </tr>\n",
       "    <tr>\n",
       "      <th>Protein3</th>\n",
       "      <td>0</td>\n",
       "    </tr>\n",
       "    <tr>\n",
       "      <th>Protein4</th>\n",
       "      <td>0</td>\n",
       "    </tr>\n",
       "    <tr>\n",
       "      <th>Tumour_Stage</th>\n",
       "      <td>0</td>\n",
       "    </tr>\n",
       "    <tr>\n",
       "      <th>Histology</th>\n",
       "      <td>0</td>\n",
       "    </tr>\n",
       "    <tr>\n",
       "      <th>ER status</th>\n",
       "      <td>0</td>\n",
       "    </tr>\n",
       "    <tr>\n",
       "      <th>PR status</th>\n",
       "      <td>0</td>\n",
       "    </tr>\n",
       "    <tr>\n",
       "      <th>HER2 status</th>\n",
       "      <td>0</td>\n",
       "    </tr>\n",
       "    <tr>\n",
       "      <th>Surgery_type</th>\n",
       "      <td>0</td>\n",
       "    </tr>\n",
       "    <tr>\n",
       "      <th>Date_of_Surgery</th>\n",
       "      <td>0</td>\n",
       "    </tr>\n",
       "    <tr>\n",
       "      <th>Date_of_Last_Visit</th>\n",
       "      <td>0</td>\n",
       "    </tr>\n",
       "    <tr>\n",
       "      <th>Patient_Status</th>\n",
       "      <td>0</td>\n",
       "    </tr>\n",
       "  </tbody>\n",
       "</table>\n",
       "</div><br><label><b>dtype:</b> int64</label>"
      ],
      "text/plain": [
       "Patient_ID            0\n",
       "Age                   0\n",
       "Gender                0\n",
       "Protein1              0\n",
       "Protein2              0\n",
       "Protein3              0\n",
       "Protein4              0\n",
       "Tumour_Stage          0\n",
       "Histology             0\n",
       "ER status             0\n",
       "PR status             0\n",
       "HER2 status           0\n",
       "Surgery_type          0\n",
       "Date_of_Surgery       0\n",
       "Date_of_Last_Visit    0\n",
       "Patient_Status        0\n",
       "dtype: int64"
      ]
     },
     "execution_count": 7,
     "metadata": {},
     "output_type": "execute_result"
    }
   ],
   "source": [
    "df.isnull().sum()"
   ]
  },
  {
   "cell_type": "code",
   "execution_count": 8,
   "id": "9f6a5c0a",
   "metadata": {
    "colab": {
     "base_uri": "https://localhost:8080/"
    },
    "id": "9f6a5c0a",
    "outputId": "90c2e3d1-d1fe-4bb0-c26e-06e52ac305de"
   },
   "outputs": [
    {
     "name": "stdout",
     "output_type": "stream",
     "text": [
      "<class 'pandas.core.frame.DataFrame'>\n",
      "Index: 317 entries, 0 to 333\n",
      "Data columns (total 16 columns):\n",
      " #   Column              Non-Null Count  Dtype  \n",
      "---  ------              --------------  -----  \n",
      " 0   Patient_ID          317 non-null    object \n",
      " 1   Age                 317 non-null    float64\n",
      " 2   Gender              317 non-null    object \n",
      " 3   Protein1            317 non-null    float64\n",
      " 4   Protein2            317 non-null    float64\n",
      " 5   Protein3            317 non-null    float64\n",
      " 6   Protein4            317 non-null    float64\n",
      " 7   Tumour_Stage        317 non-null    object \n",
      " 8   Histology           317 non-null    object \n",
      " 9   ER status           317 non-null    object \n",
      " 10  PR status           317 non-null    object \n",
      " 11  HER2 status         317 non-null    object \n",
      " 12  Surgery_type        317 non-null    object \n",
      " 13  Date_of_Surgery     317 non-null    object \n",
      " 14  Date_of_Last_Visit  317 non-null    object \n",
      " 15  Patient_Status      317 non-null    object \n",
      "dtypes: float64(5), object(11)\n",
      "memory usage: 42.1+ KB\n"
     ]
    }
   ],
   "source": [
    "df.info()"
   ]
  },
  {
   "cell_type": "markdown",
   "id": "e3727c7f",
   "metadata": {
    "id": "e3727c7f"
   },
   "source": [
    "## Data Visualization"
   ]
  },
  {
   "cell_type": "code",
   "execution_count": 9,
   "id": "793981b3",
   "metadata": {
    "colab": {
     "base_uri": "https://localhost:8080/",
     "height": 1000
    },
    "id": "793981b3",
    "outputId": "c5f85e84-9b36-458e-fdc2-9aeb319855a8"
   },
   "outputs": [
    {
     "data": {
      "image/png": "[encoded data removed]",
      "text/plain": [
       "<Figure size 1000x1200 with 1 Axes>"
      ]
     },
     "metadata": {},
     "output_type": "display_data"
    }
   ],
   "source": [
    "plt.figure(figsize=(10,12))\n",
    "sns.countplot(x=df['Age'])\n",
    "plt.xticks(rotation=90);"
   ]
  },
  {
   "cell_type": "code",
   "execution_count": 10,
   "id": "97280123",
   "metadata": {
    "colab": {
     "base_uri": "https://localhost:8080/",
     "height": 178
    },
    "id": "97280123",
    "outputId": "7ffb3c45-d674-44e6-9456-6b8acdfbc4f1"
   },
   "outputs": [
    {
     "data": {
      "text/html": [
       "<div>\n",
       "<style scoped>\n",
       "    .dataframe tbody tr th:only-of-type {\n",
       "        vertical-align: middle;\n",
       "    }\n",
       "\n",
       "    .dataframe tbody tr th {\n",
       "        vertical-align: top;\n",
       "    }\n",
       "\n",
       "    .dataframe thead th {\n",
       "        text-align: right;\n",
       "    }\n",
       "</style>\n",
       "<table border=\"1\" class=\"dataframe\">\n",
       "  <thead>\n",
       "    <tr style=\"text-align: right;\">\n",
       "      <th></th>\n",
       "      <th>count</th>\n",
       "    </tr>\n",
       "    <tr>\n",
       "      <th>Gender</th>\n",
       "      <th></th>\n",
       "    </tr>\n",
       "  </thead>\n",
       "  <tbody>\n",
       "    <tr>\n",
       "      <th>FEMALE</th>\n",
       "      <td>313</td>\n",
       "    </tr>\n",
       "    <tr>\n",
       "      <th>MALE</th>\n",
       "      <td>4</td>\n",
       "    </tr>\n",
       "  </tbody>\n",
       "</table>\n",
       "</div><br><label><b>dtype:</b> int64</label>"
      ],
      "text/plain": [
       "Gender\n",
       "FEMALE    313\n",
       "MALE        4\n",
       "Name: count, dtype: int64"
      ]
     },
     "execution_count": 10,
     "metadata": {},
     "output_type": "execute_result"
    }
   ],
   "source": [
    "df['Gender'].value_counts()"
   ]
  },
  {
   "cell_type": "code",
   "execution_count": 11,
   "id": "85044d36",
   "metadata": {
    "colab": {
     "base_uri": "https://localhost:8080/",
     "height": 449
    },
    "id": "85044d36",
    "outputId": "67a27ff9-5ad2-4921-846f-bff486dc3f50"
   },
   "outputs": [
    {
     "data": {
      "image/png": "[encoded data removed]",
      "text/plain": [
       "<Figure size 640x480 with 1 Axes>"
      ]
     },
     "metadata": {},
     "output_type": "display_data"
    }
   ],
   "source": [
    "sns.countplot(x=df['Gender']);"
   ]
  },
  {
   "cell_type": "code",
   "execution_count": 12,
   "id": "2af60822",
   "metadata": {
    "colab": {
     "base_uri": "https://localhost:8080/",
     "height": 406
    },
    "id": "2af60822",
    "outputId": "849dc856-323c-47ec-d296-c46b53613fbc"
   },
   "outputs": [
    {
     "data": {
      "image/png": "[encoded data removed]",
      "text/plain": [
       "<Figure size 640x480 with 1 Axes>"
      ]
     },
     "metadata": {},
     "output_type": "display_data"
    }
   ],
   "source": [
    "#sns.countplot(x=df['Tumour_Stage']);\n",
    "df['Tumour_Stage'].value_counts().plot.pie(autopct='%1.1f%%');"
   ]
  },
  {
   "cell_type": "code",
   "execution_count": 13,
   "id": "17f63599",
   "metadata": {
    "colab": {
     "base_uri": "https://localhost:8080/",
     "height": 592
    },
    "id": "17f63599",
    "outputId": "5268dfa7-8b2d-4aa7-95ed-7d70a1f8b363"
   },
   "outputs": [
    {
     "data": {
      "image/png": "[encoded data removed]",
      "text/plain": [
       "<Figure size 640x480 with 1 Axes>"
      ]
     },
     "metadata": {},
     "output_type": "display_data"
    }
   ],
   "source": [
    "sns.countplot(x=df['Histology'])\n",
    "plt.xticks(rotation=45);"
   ]
  },
  {
   "cell_type": "code",
   "execution_count": 14,
   "id": "473659a8",
   "metadata": {
    "colab": {
     "base_uri": "https://localhost:8080/",
     "height": 147
    },
    "id": "473659a8",
    "outputId": "9b823e0a-2e9c-4ea1-d113-1eeb280a51b4"
   },
   "outputs": [
    {
     "data": {
      "text/html": [
       "<div>\n",
       "<style scoped>\n",
       "    .dataframe tbody tr th:only-of-type {\n",
       "        vertical-align: middle;\n",
       "    }\n",
       "\n",
       "    .dataframe tbody tr th {\n",
       "        vertical-align: top;\n",
       "    }\n",
       "\n",
       "    .dataframe thead th {\n",
       "        text-align: right;\n",
       "    }\n",
       "</style>\n",
       "<table border=\"1\" class=\"dataframe\">\n",
       "  <thead>\n",
       "    <tr style=\"text-align: right;\">\n",
       "      <th></th>\n",
       "      <th>count</th>\n",
       "    </tr>\n",
       "    <tr>\n",
       "      <th>ER status</th>\n",
       "      <th></th>\n",
       "    </tr>\n",
       "  </thead>\n",
       "  <tbody>\n",
       "    <tr>\n",
       "      <th>Positive</th>\n",
       "      <td>317</td>\n",
       "    </tr>\n",
       "  </tbody>\n",
       "</table>\n",
       "</div><br><label><b>dtype:</b> int64</label>"
      ],
      "text/plain": [
       "ER status\n",
       "Positive    317\n",
       "Name: count, dtype: int64"
      ]
     },
     "execution_count": 14,
     "metadata": {},
     "output_type": "execute_result"
    }
   ],
   "source": [
    "df['ER status'].value_counts()"
   ]
  },
  {
   "cell_type": "code",
   "execution_count": 15,
   "id": "fa075767",
   "metadata": {
    "colab": {
     "base_uri": "https://localhost:8080/",
     "height": 147
    },
    "id": "fa075767",
    "outputId": "e9f0276f-5eeb-406d-8216-a1be7cfe7cfe"
   },
   "outputs": [
    {
     "data": {
      "text/html": [
       "<div>\n",
       "<style scoped>\n",
       "    .dataframe tbody tr th:only-of-type {\n",
       "        vertical-align: middle;\n",
       "    }\n",
       "\n",
       "    .dataframe tbody tr th {\n",
       "        vertical-align: top;\n",
       "    }\n",
       "\n",
       "    .dataframe thead th {\n",
       "        text-align: right;\n",
       "    }\n",
       "</style>\n",
       "<table border=\"1\" class=\"dataframe\">\n",
       "  <thead>\n",
       "    <tr style=\"text-align: right;\">\n",
       "      <th></th>\n",
       "      <th>count</th>\n",
       "    </tr>\n",
       "    <tr>\n",
       "      <th>PR status</th>\n",
       "      <th></th>\n",
       "    </tr>\n",
       "  </thead>\n",
       "  <tbody>\n",
       "    <tr>\n",
       "      <th>Positive</th>\n",
       "      <td>317</td>\n",
       "    </tr>\n",
       "  </tbody>\n",
       "</table>\n",
       "</div><br><label><b>dtype:</b> int64</label>"
      ],
      "text/plain": [
       "PR status\n",
       "Positive    317\n",
       "Name: count, dtype: int64"
      ]
     },
     "execution_count": 15,
     "metadata": {},
     "output_type": "execute_result"
    }
   ],
   "source": [
    "df['PR status'].value_counts()"
   ]
  },
  {
   "cell_type": "code",
   "execution_count": 16,
   "id": "1f39fa07",
   "metadata": {
    "colab": {
     "base_uri": "https://localhost:8080/",
     "height": 452
    },
    "id": "1f39fa07",
    "outputId": "4188df49-bd52-4110-c3d1-3f611470b6c0"
   },
   "outputs": [
    {
     "data": {
      "image/png": "[encoded data removed]",
      "text/plain": [
       "<Figure size 640x480 with 1 Axes>"
      ]
     },
     "metadata": {},
     "output_type": "display_data"
    }
   ],
   "source": [
    "sns.countplot(x=df['HER2 status']);"
   ]
  },
  {
   "cell_type": "code",
   "execution_count": 17,
   "id": "272c9539",
   "metadata": {
    "colab": {
     "base_uri": "https://localhost:8080/",
     "height": 241
    },
    "id": "272c9539",
    "outputId": "4c24549b-617d-454d-cfcb-ca359d2cef36"
   },
   "outputs": [
    {
     "data": {
      "text/html": [
       "<div>\n",
       "<style scoped>\n",
       "    .dataframe tbody tr th:only-of-type {\n",
       "        vertical-align: middle;\n",
       "    }\n",
       "\n",
       "    .dataframe tbody tr th {\n",
       "        vertical-align: top;\n",
       "    }\n",
       "\n",
       "    .dataframe thead th {\n",
       "        text-align: right;\n",
       "    }\n",
       "</style>\n",
       "<table border=\"1\" class=\"dataframe\">\n",
       "  <thead>\n",
       "    <tr style=\"text-align: right;\">\n",
       "      <th></th>\n",
       "      <th>count</th>\n",
       "    </tr>\n",
       "    <tr>\n",
       "      <th>Surgery_type</th>\n",
       "      <th></th>\n",
       "    </tr>\n",
       "  </thead>\n",
       "  <tbody>\n",
       "    <tr>\n",
       "      <th>Other</th>\n",
       "      <td>97</td>\n",
       "    </tr>\n",
       "    <tr>\n",
       "      <th>Modified Radical Mastectomy</th>\n",
       "      <td>89</td>\n",
       "    </tr>\n",
       "    <tr>\n",
       "      <th>Lumpectomy</th>\n",
       "      <td>66</td>\n",
       "    </tr>\n",
       "    <tr>\n",
       "      <th>Simple Mastectomy</th>\n",
       "      <td>65</td>\n",
       "    </tr>\n",
       "  </tbody>\n",
       "</table>\n",
       "</div><br><label><b>dtype:</b> int64</label>"
      ],
      "text/plain": [
       "Surgery_type\n",
       "Other                          97\n",
       "Modified Radical Mastectomy    89\n",
       "Lumpectomy                     66\n",
       "Simple Mastectomy              65\n",
       "Name: count, dtype: int64"
      ]
     },
     "execution_count": 17,
     "metadata": {},
     "output_type": "execute_result"
    }
   ],
   "source": [
    "df['Surgery_type'].value_counts()"
   ]
  },
  {
   "cell_type": "code",
   "execution_count": 18,
   "id": "f1c551bf",
   "metadata": {
    "colab": {
     "base_uri": "https://localhost:8080/",
     "height": 590
    },
    "id": "f1c551bf",
    "outputId": "773f464f-53f8-47d5-98ea-46d23477db0f"
   },
   "outputs": [
    {
     "data": {
      "image/png": "[encoded data removed]",
      "text/plain": [
       "<Figure size 640x480 with 1 Axes>"
      ]
     },
     "metadata": {},
     "output_type": "display_data"
    }
   ],
   "source": [
    "sns.countplot(x=df['Surgery_type'])\n",
    "plt.xticks(rotation=45);"
   ]
  },
  {
   "cell_type": "code",
   "execution_count": 19,
   "id": "574b76b9",
   "metadata": {
    "colab": {
     "base_uri": "https://localhost:8080/",
     "height": 178
    },
    "id": "574b76b9",
    "outputId": "f30c1d41-0baa-471b-eb81-21280b6c9528"
   },
   "outputs": [
    {
     "data": {
      "text/html": [
       "<div>\n",
       "<style scoped>\n",
       "    .dataframe tbody tr th:only-of-type {\n",
       "        vertical-align: middle;\n",
       "    }\n",
       "\n",
       "    .dataframe tbody tr th {\n",
       "        vertical-align: top;\n",
       "    }\n",
       "\n",
       "    .dataframe thead th {\n",
       "        text-align: right;\n",
       "    }\n",
       "</style>\n",
       "<table border=\"1\" class=\"dataframe\">\n",
       "  <thead>\n",
       "    <tr style=\"text-align: right;\">\n",
       "      <th></th>\n",
       "      <th>count</th>\n",
       "    </tr>\n",
       "    <tr>\n",
       "      <th>Patient_Status</th>\n",
       "      <th></th>\n",
       "    </tr>\n",
       "  </thead>\n",
       "  <tbody>\n",
       "    <tr>\n",
       "      <th>Alive</th>\n",
       "      <td>255</td>\n",
       "    </tr>\n",
       "    <tr>\n",
       "      <th>Dead</th>\n",
       "      <td>62</td>\n",
       "    </tr>\n",
       "  </tbody>\n",
       "</table>\n",
       "</div><br><label><b>dtype:</b> int64</label>"
      ],
      "text/plain": [
       "Patient_Status\n",
       "Alive    255\n",
       "Dead      62\n",
       "Name: count, dtype: int64"
      ]
     },
     "execution_count": 19,
     "metadata": {},
     "output_type": "execute_result"
    }
   ],
   "source": [
    "df['Patient_Status'].value_counts()"
   ]
  },
  {
   "cell_type": "code",
   "execution_count": 20,
   "id": "cf339393",
   "metadata": {
    "colab": {
     "base_uri": "https://localhost:8080/",
     "height": 468
    },
    "id": "cf339393",
    "outputId": "eea5668f-443a-4347-c3e3-a1be02f9c3bd"
   },
   "outputs": [
    {
     "data": {
      "text/plain": [
       "<Axes: xlabel='Patient_Status', ylabel='count'>"
      ]
     },
     "execution_count": 20,
     "metadata": {},
     "output_type": "execute_result"
    },
    {
     "data": {
      "image/png": "[encoded data removed]",
      "text/plain": [
       "<Figure size 640x480 with 1 Axes>"
      ]
     },
     "metadata": {},
     "output_type": "display_data"
    }
   ],
   "source": [
    "sns.countplot(x=df['Patient_Status'])"
   ]
  },
  {
   "cell_type": "markdown",
   "id": "5bc80491",
   "metadata": {
    "id": "5bc80491"
   },
   "source": [
    "## Modelling"
   ]
  },
  {
   "cell_type": "code",
   "execution_count": 21,
   "id": "0nCyjJwnQ0kz",
   "metadata": {
    "id": "0nCyjJwnQ0kz"
   },
   "outputs": [],
   "source": [
    "d={'Alive':1, 'Dead':0}\n",
    "df['Patient_Status']=df['Patient_Status'].map(d)"
   ]
  },
  {
   "cell_type": "code",
   "execution_count": 22,
   "id": "47d34758",
   "metadata": {
    "id": "47d34758"
   },
   "outputs": [],
   "source": [
    "x=df.drop('Patient_Status', axis=1)\n",
    "y=df[['Patient_Status']]"
   ]
  },
  {
   "cell_type": "code",
   "execution_count": 23,
   "id": "1f4c578d",
   "metadata": {
    "id": "1f4c578d"
   },
   "outputs": [],
   "source": [
    "x=pd.get_dummies(x, drop_first=True)"
   ]
  },
  {
   "cell_type": "code",
   "execution_count": 24,
   "id": "45cb5a52",
   "metadata": {
    "id": "45cb5a52"
   },
   "outputs": [],
   "source": [
    "x_train,x_test,y_train,y_test=train_test_split(x,y, test_size=.20, random_state=42)"
   ]
  },
  {
   "cell_type": "markdown",
   "id": "0a9f6483",
   "metadata": {
    "id": "0a9f6483"
   },
   "source": [
    "### Gaussian"
   ]
  },
  {
   "cell_type": "code",
   "execution_count": 25,
   "id": "6ddd7aa4",
   "metadata": {
    "colab": {
     "base_uri": "https://localhost:8080/"
    },
    "id": "6ddd7aa4",
    "outputId": "a79e1e55-104d-439f-f302-c6bacf7bb401"
   },
   "outputs": [
    {
     "data": {
      "text/plain": [
       "0.453125"
      ]
     },
     "execution_count": 25,
     "metadata": {},
     "output_type": "execute_result"
    }
   ],
   "source": [
    "g=GaussianNB()\n",
    "g.fit(x_train,y_train)\n",
    "gtahmin=g.predict(x_test)\n",
    "accuracy_score(gtahmin,y_test)"
   ]
  },
  {
   "cell_type": "code",
   "execution_count": 26,
   "id": "c3b5c206",
   "metadata": {
    "colab": {
     "base_uri": "https://localhost:8080/"
    },
    "id": "c3b5c206",
    "outputId": "cc1264ff-cbf7-4937-8b63-3d32efb40fe9"
   },
   "outputs": [
    {
     "data": {
      "text/plain": [
       "array([[ 8, 32],\n",
       "       [ 3, 21]])"
      ]
     },
     "execution_count": 26,
     "metadata": {},
     "output_type": "execute_result"
    }
   ],
   "source": [
    "confusion_matrix(gtahmin,y_test)"
   ]
  },
  {
   "cell_type": "code",
   "execution_count": 27,
   "id": "f9d99669",
   "metadata": {
    "colab": {
     "base_uri": "https://localhost:8080/"
    },
    "id": "f9d99669",
    "outputId": "b01ae39c-961f-4b9f-ab83-7822ed4da1e2"
   },
   "outputs": [
    {
     "name": "stdout",
     "output_type": "stream",
     "text": [
      "              precision    recall  f1-score   support\n",
      "\n",
      "           0       0.73      0.20      0.31        40\n",
      "           1       0.40      0.88      0.55        24\n",
      "\n",
      "    accuracy                           0.45        64\n",
      "   macro avg       0.56      0.54      0.43        64\n",
      "weighted avg       0.60      0.45      0.40        64\n",
      "\n"
     ]
    }
   ],
   "source": [
    "print(classification_report(gtahmin,y_test))"
   ]
  },
  {
   "cell_type": "markdown",
   "id": "77fe7167",
   "metadata": {
    "id": "77fe7167"
   },
   "source": [
    "### Bernoulli"
   ]
  },
  {
   "cell_type": "code",
   "execution_count": 28,
   "id": "0d06f7b3",
   "metadata": {
    "colab": {
     "base_uri": "https://localhost:8080/"
    },
    "id": "0d06f7b3",
    "outputId": "56a4f3ff-fe67-43fd-b11b-f6c54d29b612"
   },
   "outputs": [
    {
     "data": {
      "text/plain": [
       "0.828125"
      ]
     },
     "execution_count": 28,
     "metadata": {},
     "output_type": "execute_result"
    }
   ],
   "source": [
    "b=BernoulliNB()\n",
    "b.fit(x_train,y_train)\n",
    "btahmin=b.predict(x_test)\n",
    "accuracy_score(btahmin,y_test)"
   ]
  },
  {
   "cell_type": "code",
   "execution_count": 29,
   "id": "32831054",
   "metadata": {
    "colab": {
     "base_uri": "https://localhost:8080/"
    },
    "id": "32831054",
    "outputId": "2494e83a-25f9-4ea2-dad6-0f591feae022"
   },
   "outputs": [
    {
     "data": {
      "text/plain": [
       "array([[ 0,  0],\n",
       "       [11, 53]])"
      ]
     },
     "execution_count": 29,
     "metadata": {},
     "output_type": "execute_result"
    }
   ],
   "source": [
    "confusion_matrix(btahmin,y_test)"
   ]
  },
  {
   "cell_type": "code",
   "execution_count": 30,
   "id": "6aba20f8",
   "metadata": {
    "colab": {
     "base_uri": "https://localhost:8080/",
     "height": 448
    },
    "id": "6aba20f8",
    "outputId": "ae61f930-2452-478d-f67d-60f030722260"
   },
   "outputs": [
    {
     "data": {
      "text/plain": [
       "<Axes: >"
      ]
     },
     "execution_count": 30,
     "metadata": {},
     "output_type": "execute_result"
    },
    {
     "data": {
      "image/png": "[encoded data removed]",
      "text/plain": [
       "<Figure size 640x480 with 2 Axes>"
      ]
     },
     "metadata": {},
     "output_type": "display_data"
    }
   ],
   "source": [
    "cm = confusion_matrix(btahmin, y_test)\n",
    "normalized_cm = cm / cm.sum()\n",
    "sns.heatmap(normalized_cm, annot=True, cmap='Purples')"
   ]
  },
  {
   "cell_type": "code",
   "execution_count": 31,
   "id": "2b247357",
   "metadata": {
    "colab": {
     "base_uri": "https://localhost:8080/"
    },
    "id": "2b247357",
    "outputId": "37c4676e-75ad-487c-e9c3-2b7c005f4dd3"
   },
   "outputs": [
    {
     "name": "stdout",
     "output_type": "stream",
     "text": [
      "              precision    recall  f1-score   support\n",
      "\n",
      "           0       0.00      0.00      0.00         0\n",
      "           1       1.00      0.83      0.91        64\n",
      "\n",
      "    accuracy                           0.83        64\n",
      "   macro avg       0.50      0.41      0.45        64\n",
      "weighted avg       1.00      0.83      0.91        64\n",
      "\n"
     ]
    }
   ],
   "source": [
    "print(classification_report(btahmin,y_test))"
   ]
  },
  {
   "cell_type": "code",
   "execution_count": 32,
   "id": "4eb1aec3",
   "metadata": {
    "id": "4eb1aec3"
   },
   "outputs": [],
   "source": [
    "y_scores = b.predict_proba(x_test)[:, 1]\n",
    "fpr, tpr, thresholds = roc_curve(y_test, y_scores)\n",
    "roc_auc = auc(fpr, tpr)"
   ]
  },
  {
   "cell_type": "code",
   "execution_count": 33,
   "id": "add130d0",
   "metadata": {
    "colab": {
     "base_uri": "https://localhost:8080/",
     "height": 472
    },
    "id": "add130d0",
    "outputId": "02439e16-fd54-40a9-b193-dd0d5387102a"
   },
   "outputs": [
    {
     "data": {
      "image/png": "[encoded data removed]",
      "text/plain": [
       "<Figure size 640x480 with 1 Axes>"
      ]
     },
     "metadata": {},
     "output_type": "display_data"
    }
   ],
   "source": [
    "plt.figure()\n",
    "plt.plot(fpr, tpr, color='blue', label='ROC curve (area = %0.2f)' % roc_auc)\n",
    "plt.plot([0, 1], [0, 1], color='red', linestyle='--')\n",
    "plt.xlim([0.0, 1.0])\n",
    "plt.ylim([0.0, 1.05])\n",
    "plt.xlabel('False Positive Rate')\n",
    "plt.ylabel('True Positive Rate')\n",
    "plt.title('Receiver Operating Characteristic')\n",
    "plt.legend(loc='lower right')\n",
    "plt.show()"
   ]
  },
  {
   "cell_type": "markdown",
   "id": "02d2e7ae",
   "metadata": {
    "id": "02d2e7ae"
   },
   "source": [
    "Based on this ROC (Receiver Operating Characteristic) curve and AUC (Area Under Curve) graph, we can comment as follows:\n",
    "\n",
    "1. ROC Curve:\n",
    "ROC curve shows the relationship between True Positive Rate (TPR) and False Positive Rate (FPR) of the model at different classification thresholds.\n",
    "The closer the ROC curve is to the red dashed diagonal line, the worse the classification performance of the model. Because this diagonal represents a completely random classification. If the ROC curve sits exactly on top, it shows that the model makes random predictions.\n",
    "In this graph, the ROC curve is quite close to the red line and does not go very high, which shows that the model does not perform very well.\n",
    "\n",
    "2. AUC (Area Under Curve):\n",
    "AUC represents the area under the ROC curve and measures the overall classification success of the model.\n",
    "The AUC score is given as 0.63. This shows that the classification performance of the model is low.\n",
    "An AUC value of 0.63 indicates that the model is slightly better at predicting than random predictions, but still performs poorly.\n",
    "\n",
    "3. General Comment:\n",
    "Since the model's AUC score is 0.63 in this graph, the model is not very successful in classification."
   ]
  },
  {
   "cell_type": "code",
   "execution_count": 34,
   "id": "36b7c705",
   "metadata": {
    "colab": {
     "base_uri": "https://localhost:8080/"
    },
    "id": "36b7c705",
    "outputId": "d12b977e-8b5e-44d4-ee1a-0dc0627808bf"
   },
   "outputs": [
    {
     "name": "stdout",
     "output_type": "stream",
     "text": [
      "Accuracy Scores: [0.828125   0.8125     0.80952381 0.73015873 0.84126984]\n",
      "Mean Accuracy: 0.804315476190476\n"
     ]
    }
   ],
   "source": [
    "#K-Fold Cross Validation (with Random Forest Classifier)\n",
    "x=df.drop('Patient_Status', axis=1)\n",
    "y=df[['Patient_Status']]\n",
    "x=pd.get_dummies(x, drop_first=True)\n",
    "\n",
    "model=RandomForestClassifier()\n",
    "\n",
    "#K-fold cross validation (K=5)\n",
    "kf=KFold(n_splits=5, shuffle=True, random_state=42)\n",
    "\n",
    "#Calculating cross validation results\n",
    "scores = cross_val_score(model, x, y, cv=kf, scoring='accuracy')\n",
    "\n",
    "#Average of results\n",
    "print(f\"Accuracy Scores: {scores}\")\n",
    "print(f\"Mean Accuracy: {scores.mean()}\")"
   ]
  },
  {
   "cell_type": "markdown",
   "id": "2a111101",
   "metadata": {
    "id": "2a111101"
   },
   "source": [
    "* K-fold Results\n",
    "1. (Accuracy Scores): [0.828, 0.812, 0.809, 0.730, 0.841]\n",
    "There is some variability among the accuracy scores. The lowest accuracy score is 73%, while the highest accuracy score is 84.1%. These differences indicate that the model performs better on some data segments, while the performance decreases on other data segments. In particular, a score of 73% may indicate that the model is struggling on some layers.\n",
    "\n",
    "2. Mean Accuracy: 0.804 (i.e. 80.4%)The average accuracy of 80.4% indicates that the model has a reasonable performance overall. However, there may be a need to improve the model to achieve higher accuracy.\n",
    "\n",
    "3. Variation:\n",
    "Lowest accuracy: 73%\n",
    "Highest accuracy: 84.1%\n",
    "A slightly higher variation indicates that the model performs well in some data segments while struggling in others. This indicates that the model's performance is not consistent across certain subsets of the data.\n",
    "\n",
    "4. Model Performance:\n",
    "The average accuracy of 80.4% can generally be considered an \"acceptable\" performance, but optimizations can be made to make the model perform better.\n",
    "\n",
    "* General Comment:\n",
    "The average accuracy of the model is at a reasonable level of 80.4%, but the variation between different folds is remarkable. The fact that the model performs well in some data segments while experiencing a performance decrease in others indicates that the model needs further examination and improvement. Optimizations can be made to make the model perform more balanced and consistent."
   ]
  },
  {
   "cell_type": "code",
   "execution_count": 35,
   "id": "4c1ef5a7",
   "metadata": {
    "id": "4c1ef5a7"
   },
   "outputs": [],
   "source": [
    "import pandas as pd\n",
    "import numpy as np\n",
    "\n",
    "from sklearn.linear_model import LogisticRegression\n",
    "from sklearn.naive_bayes import  BernoulliNB\n",
    "from sklearn.neighbors import KNeighborsClassifier\n",
    "from sklearn.tree import DecisionTreeClassifier\n",
    "from sklearn.ensemble import RandomForestClassifier, AdaBoostClassifier, GradientBoostingClassifier\n",
    "from sklearn.svm import SVC\n",
    "from sklearn.neural_network import MLPClassifier\n",
    "\n",
    "from sklearn.model_selection import train_test_split\n",
    "from sklearn.metrics import accuracy_score, precision_score, recall_score, f1_score\n",
    "\n",
    "def algo_test(x, y):\n",
    "\n",
    "    lr = LogisticRegression(max_iter=1000)\n",
    "\n",
    "    b = BernoulliNB()\n",
    "\n",
    "    knn = KNeighborsClassifier()\n",
    "    dt = DecisionTreeClassifier()\n",
    "    rf = RandomForestClassifier()\n",
    "    abc = AdaBoostClassifier()\n",
    "    gbc = GradientBoostingClassifier()\n",
    "    svc = SVC()\n",
    "    mlp = MLPClassifier(max_iter=1000)\n",
    "\n",
    "    algos = [lr,  b,  knn, dt, rf, abc, gbc, svc, mlp]\n",
    "    algo_names = ['Logistic Regression', 'BernoulliNB', 'K-Nearest Neighbors',\n",
    "                  'Decision Tree', 'Random Forest', 'AdaBoost', 'Gradient Boosting', 'SVM', 'MLP Classifier']\n",
    "\n",
    "    x_train, x_test, y_train, y_test = train_test_split(x, y, test_size=0.2, random_state=42)\n",
    "\n",
    "    accuracy = []\n",
    "    precision = []\n",
    "    recall = []\n",
    "    f1 = []\n",
    "\n",
    "\n",
    "    result = pd.DataFrame(columns=['Accuracy', 'Precision', 'Recall', 'F1-score'], index=algo_names)\n",
    "\n",
    "    for algo in algos:\n",
    "        algo.fit(x_train, y_train)\n",
    "        y_pred = algo.predict(x_test)\n",
    "        accuracy.append(accuracy_score(y_test, y_pred))\n",
    "        precision.append(precision_score(y_test, y_pred, average='weighted'))\n",
    "        recall.append(recall_score(y_test, y_pred, average='weighted'))\n",
    "        f1.append(f1_score(y_test, y_pred, average='weighted'))\n",
    "\n",
    "    result['Accuracy'] = accuracy\n",
    "    result['Precision'] = precision\n",
    "    result['Recall'] = recall\n",
    "    result['F1-score'] = f1\n",
    "\n",
    "\n",
    "    rtable = result.sort_values('Accuracy', ascending=False)\n",
    "    return rtable\n"
   ]
  },
  {
   "cell_type": "code",
   "execution_count": 36,
   "id": "687c4550",
   "metadata": {
    "colab": {
     "base_uri": "https://localhost:8080/",
     "height": 331
    },
    "id": "687c4550",
    "outputId": "cd44f456-87f1-47a6-b9ac-f1b8af1acc40"
   },
   "outputs": [
    {
     "data": {
      "application/vnd.google.colaboratory.intrinsic+json": {
       "summary": "{\n  \"name\": \"algo_test(x,y)\",\n  \"rows\": 9,\n  \"fields\": [\n    {\n      \"column\": \"Accuracy\",\n      \"properties\": {\n        \"dtype\": \"number\",\n        \"std\": 0.03415332564740625,\n        \"min\": 0.734375,\n        \"max\": 0.828125,\n        \"num_unique_values\": 5,\n        \"samples\": [\n          0.8125,\n          0.734375,\n          0.796875\n        ],\n        \"semantic_type\": \"\",\n        \"description\": \"\"\n      }\n    },\n    {\n      \"column\": \"Precision\",\n      \"properties\": {\n        \"dtype\": \"number\",\n        \"std\": 0.04924590913982842,\n        \"min\": 0.685791015625,\n        \"max\": 0.8041866987179487,\n        \"num_unique_values\": 6,\n        \"samples\": [\n          0.685791015625,\n          0.7804939516129032,\n          0.7436899038461539\n        ],\n        \"semantic_type\": \"\",\n        \"description\": \"\"\n      }\n    },\n    {\n      \"column\": \"Recall\",\n      \"properties\": {\n        \"dtype\": \"number\",\n        \"std\": 0.03415332564740625,\n        \"min\": 0.734375,\n        \"max\": 0.828125,\n        \"num_unique_values\": 5,\n        \"samples\": [\n          0.8125,\n          0.734375,\n          0.796875\n        ],\n        \"semantic_type\": \"\",\n        \"description\": \"\"\n      }\n    },\n    {\n      \"column\": \"F1-score\",\n      \"properties\": {\n        \"dtype\": \"number\",\n        \"std\": 0.02362840449191313,\n        \"min\": 0.7364368044515104,\n        \"max\": 0.8003234989648033,\n        \"num_unique_values\": 6,\n        \"samples\": [\n          0.750267094017094,\n          0.7753553511705685,\n          0.7388845755693582\n        ],\n        \"semantic_type\": \"\",\n        \"description\": \"\"\n      }\n    }\n  ]\n}",
       "type": "dataframe"
      },
      "text/html": [
       "\n",
       "  <div id=\"df-0756b00e-b658-4b61-aed2-1b0f9cc09b3d\" class=\"colab-df-container\">\n",
       "    <div>\n",
       "<style scoped>\n",
       "    .dataframe tbody tr th:only-of-type {\n",
       "        vertical-align: middle;\n",
       "    }\n",
       "\n",
       "    .dataframe tbody tr th {\n",
       "        vertical-align: top;\n",
       "    }\n",
       "\n",
       "    .dataframe thead th {\n",
       "        text-align: right;\n",
       "    }\n",
       "</style>\n",
       "<table border=\"1\" class=\"dataframe\">\n",
       "  <thead>\n",
       "    <tr style=\"text-align: right;\">\n",
       "      <th></th>\n",
       "      <th>Accuracy</th>\n",
       "      <th>Precision</th>\n",
       "      <th>Recall</th>\n",
       "      <th>F1-score</th>\n",
       "    </tr>\n",
       "  </thead>\n",
       "  <tbody>\n",
       "    <tr>\n",
       "      <th>Logistic Regression</th>\n",
       "      <td>0.828125</td>\n",
       "      <td>0.685791</td>\n",
       "      <td>0.828125</td>\n",
       "      <td>0.750267</td>\n",
       "    </tr>\n",
       "    <tr>\n",
       "      <th>BernoulliNB</th>\n",
       "      <td>0.828125</td>\n",
       "      <td>0.685791</td>\n",
       "      <td>0.828125</td>\n",
       "      <td>0.750267</td>\n",
       "    </tr>\n",
       "    <tr>\n",
       "      <th>Random Forest</th>\n",
       "      <td>0.828125</td>\n",
       "      <td>0.685791</td>\n",
       "      <td>0.828125</td>\n",
       "      <td>0.750267</td>\n",
       "    </tr>\n",
       "    <tr>\n",
       "      <th>Gradient Boosting</th>\n",
       "      <td>0.828125</td>\n",
       "      <td>0.780494</td>\n",
       "      <td>0.828125</td>\n",
       "      <td>0.775355</td>\n",
       "    </tr>\n",
       "    <tr>\n",
       "      <th>SVM</th>\n",
       "      <td>0.828125</td>\n",
       "      <td>0.685791</td>\n",
       "      <td>0.828125</td>\n",
       "      <td>0.750267</td>\n",
       "    </tr>\n",
       "    <tr>\n",
       "      <th>Decision Tree</th>\n",
       "      <td>0.812500</td>\n",
       "      <td>0.785558</td>\n",
       "      <td>0.812500</td>\n",
       "      <td>0.795076</td>\n",
       "    </tr>\n",
       "    <tr>\n",
       "      <th>MLP Classifier</th>\n",
       "      <td>0.796875</td>\n",
       "      <td>0.804187</td>\n",
       "      <td>0.796875</td>\n",
       "      <td>0.800323</td>\n",
       "    </tr>\n",
       "    <tr>\n",
       "      <th>K-Nearest Neighbors</th>\n",
       "      <td>0.765625</td>\n",
       "      <td>0.713991</td>\n",
       "      <td>0.765625</td>\n",
       "      <td>0.736437</td>\n",
       "    </tr>\n",
       "    <tr>\n",
       "      <th>AdaBoost</th>\n",
       "      <td>0.734375</td>\n",
       "      <td>0.743690</td>\n",
       "      <td>0.734375</td>\n",
       "      <td>0.738885</td>\n",
       "    </tr>\n",
       "  </tbody>\n",
       "</table>\n",
       "</div>\n",
       "    <div class=\"colab-df-buttons\">\n",
       "\n",
       "  <div class=\"colab-df-container\">\n",
       "    <button class=\"colab-df-convert\" onclick=\"convertToInteractive('df-0756b00e-b658-4b61-aed2-1b0f9cc09b3d')\"\n",
       "            title=\"Convert this dataframe to an interactive table.\"\n",
       "            style=\"display:none;\">\n",
       "\n",
       "  <svg xmlns=\"http://www.w3.org/2000/svg\" height=\"24px\" viewBox=\"0 -960 960 960\">\n",
       "    <path d=\"M120-120v-720h720v720H120Zm60-500h600v-160H180v160Zm220 220h160v-160H400v160Zm0 220h160v-160H400v160ZM180-400h160v-160H180v160Zm440 0h160v-160H620v160ZM180-180h160v-160H180v160Zm440 0h160v-160H620v160Z\"/>\n",
       "  </svg>\n",
       "    </button>\n",
       "\n",
       "  <style>\n",
       "    .colab-df-container {\n",
       "      display:flex;\n",
       "      gap: 12px;\n",
       "    }\n",
       "\n",
       "    .colab-df-convert {\n",
       "      background-color: #E8F0FE;\n",
       "      border: none;\n",
       "      border-radius: 50%;\n",
       "      cursor: pointer;\n",
       "      display: none;\n",
       "      fill: #1967D2;\n",
       "      height: 32px;\n",
       "      padding: 0 0 0 0;\n",
       "      width: 32px;\n",
       "    }\n",
       "\n",
       "    .colab-df-convert:hover {\n",
       "      background-color: #E2EBFA;\n",
       "      box-shadow: 0px 1px 2px rgba(60, 64, 67, 0.3), 0px 1px 3px 1px rgba(60, 64, 67, 0.15);\n",
       "      fill: #174EA6;\n",
       "    }\n",
       "\n",
       "    .colab-df-buttons div {\n",
       "      margin-bottom: 4px;\n",
       "    }\n",
       "\n",
       "    [theme=dark] .colab-df-convert {\n",
       "      background-color: #3B4455;\n",
       "      fill: #D2E3FC;\n",
       "    }\n",
       "\n",
       "    [theme=dark] .colab-df-convert:hover {\n",
       "      background-color: #434B5C;\n",
       "      box-shadow: 0px 1px 3px 1px rgba(0, 0, 0, 0.15);\n",
       "      filter: drop-shadow(0px 1px 2px rgba(0, 0, 0, 0.3));\n",
       "      fill: #FFFFFF;\n",
       "    }\n",
       "  </style>\n",
       "\n",
       "    <script>\n",
       "      const buttonEl =\n",
       "        document.querySelector('#df-0756b00e-b658-4b61-aed2-1b0f9cc09b3d button.colab-df-convert');\n",
       "      buttonEl.style.display =\n",
       "        google.colab.kernel.accessAllowed ? 'block' : 'none';\n",
       "\n",
       "      async function convertToInteractive(key) {\n",
       "        const element = document.querySelector('#df-0756b00e-b658-4b61-aed2-1b0f9cc09b3d');\n",
       "        const dataTable =\n",
       "          await google.colab.kernel.invokeFunction('convertToInteractive',\n",
       "                                                    [key], {});\n",
       "        if (!dataTable) return;\n",
       "\n",
       "        const docLinkHtml = 'Like what you see? Visit the ' +\n",
       "          '<a target=\"_blank\" href=https://colab.research.google.com/notebooks/data_table.ipynb>data table notebook</a>'\n",
       "          + ' to learn more about interactive tables.';\n",
       "        element.innerHTML = '';\n",
       "        dataTable['output_type'] = 'display_data';\n",
       "        await google.colab.output.renderOutput(dataTable, element);\n",
       "        const docLink = document.createElement('div');\n",
       "        docLink.innerHTML = docLinkHtml;\n",
       "        element.appendChild(docLink);\n",
       "      }\n",
       "    </script>\n",
       "  </div>\n",
       "\n",
       "\n",
       "<div id=\"df-12529be8-364b-41ef-862d-e272b7fdf482\">\n",
       "  <button class=\"colab-df-quickchart\" onclick=\"quickchart('df-12529be8-364b-41ef-862d-e272b7fdf482')\"\n",
       "            title=\"Suggest charts\"\n",
       "            style=\"display:none;\">\n",
       "\n",
       "<svg xmlns=\"http://www.w3.org/2000/svg\" height=\"24px\"viewBox=\"0 0 24 24\"\n",
       "     width=\"24px\">\n",
       "    <g>\n",
       "        <path d=\"M19 3H5c-1.1 0-2 .9-2 2v14c0 1.1.9 2 2 2h14c1.1 0 2-.9 2-2V5c0-1.1-.9-2-2-2zM9 17H7v-7h2v7zm4 0h-2V7h2v10zm4 0h-2v-4h2v4z\"/>\n",
       "    </g>\n",
       "</svg>\n",
       "  </button>\n",
       "\n",
       "<style>\n",
       "  .colab-df-quickchart {\n",
       "      --bg-color: #E8F0FE;\n",
       "      --fill-color: #1967D2;\n",
       "      --hover-bg-color: #E2EBFA;\n",
       "      --hover-fill-color: #174EA6;\n",
       "      --disabled-fill-color: #AAA;\n",
       "      --disabled-bg-color: #DDD;\n",
       "  }\n",
       "\n",
       "  [theme=dark] .colab-df-quickchart {\n",
       "      --bg-color: #3B4455;\n",
       "      --fill-color: #D2E3FC;\n",
       "      --hover-bg-color: #434B5C;\n",
       "      --hover-fill-color: #FFFFFF;\n",
       "      --disabled-bg-color: #3B4455;\n",
       "      --disabled-fill-color: #666;\n",
       "  }\n",
       "\n",
       "  .colab-df-quickchart {\n",
       "    background-color: var(--bg-color);\n",
       "    border: none;\n",
       "    border-radius: 50%;\n",
       "    cursor: pointer;\n",
       "    display: none;\n",
       "    fill: var(--fill-color);\n",
       "    height: 32px;\n",
       "    padding: 0;\n",
       "    width: 32px;\n",
       "  }\n",
       "\n",
       "  .colab-df-quickchart:hover {\n",
       "    background-color: var(--hover-bg-color);\n",
       "    box-shadow: 0 1px 2px rgba(60, 64, 67, 0.3), 0 1px 3px 1px rgba(60, 64, 67, 0.15);\n",
       "    fill: var(--button-hover-fill-color);\n",
       "  }\n",
       "\n",
       "  .colab-df-quickchart-complete:disabled,\n",
       "  .colab-df-quickchart-complete:disabled:hover {\n",
       "    background-color: var(--disabled-bg-color);\n",
       "    fill: var(--disabled-fill-color);\n",
       "    box-shadow: none;\n",
       "  }\n",
       "\n",
       "  .colab-df-spinner {\n",
       "    border: 2px solid var(--fill-color);\n",
       "    border-color: transparent;\n",
       "    border-bottom-color: var(--fill-color);\n",
       "    animation:\n",
       "      spin 1s steps(1) infinite;\n",
       "  }\n",
       "\n",
       "  @keyframes spin {\n",
       "    0% {\n",
       "      border-color: transparent;\n",
       "      border-bottom-color: var(--fill-color);\n",
       "      border-left-color: var(--fill-color);\n",
       "    }\n",
       "    20% {\n",
       "      border-color: transparent;\n",
       "      border-left-color: var(--fill-color);\n",
       "      border-top-color: var(--fill-color);\n",
       "    }\n",
       "    30% {\n",
       "      border-color: transparent;\n",
       "      border-left-color: var(--fill-color);\n",
       "      border-top-color: var(--fill-color);\n",
       "      border-right-color: var(--fill-color);\n",
       "    }\n",
       "    40% {\n",
       "      border-color: transparent;\n",
       "      border-right-color: var(--fill-color);\n",
       "      border-top-color: var(--fill-color);\n",
       "    }\n",
       "    60% {\n",
       "      border-color: transparent;\n",
       "      border-right-color: var(--fill-color);\n",
       "    }\n",
       "    80% {\n",
       "      border-color: transparent;\n",
       "      border-right-color: var(--fill-color);\n",
       "      border-bottom-color: var(--fill-color);\n",
       "    }\n",
       "    90% {\n",
       "      border-color: transparent;\n",
       "      border-bottom-color: var(--fill-color);\n",
       "    }\n",
       "  }\n",
       "</style>\n",
       "\n",
       "  <script>\n",
       "    async function quickchart(key) {\n",
       "      const quickchartButtonEl =\n",
       "        document.querySelector('#' + key + ' button');\n",
       "      quickchartButtonEl.disabled = true;  // To prevent multiple clicks.\n",
       "      quickchartButtonEl.classList.add('colab-df-spinner');\n",
       "      try {\n",
       "        const charts = await google.colab.kernel.invokeFunction(\n",
       "            'suggestCharts', [key], {});\n",
       "      } catch (error) {\n",
       "        console.error('Error during call to suggestCharts:', error);\n",
       "      }\n",
       "      quickchartButtonEl.classList.remove('colab-df-spinner');\n",
       "      quickchartButtonEl.classList.add('colab-df-quickchart-complete');\n",
       "    }\n",
       "    (() => {\n",
       "      let quickchartButtonEl =\n",
       "        document.querySelector('#df-12529be8-364b-41ef-862d-e272b7fdf482 button');\n",
       "      quickchartButtonEl.style.display =\n",
       "        google.colab.kernel.accessAllowed ? 'block' : 'none';\n",
       "    })();\n",
       "  </script>\n",
       "</div>\n",
       "\n",
       "    </div>\n",
       "  </div>\n"
      ],
      "text/plain": [
       "                     Accuracy  Precision    Recall  F1-score\n",
       "Logistic Regression  0.828125   0.685791  0.828125  0.750267\n",
       "BernoulliNB          0.828125   0.685791  0.828125  0.750267\n",
       "Random Forest        0.828125   0.685791  0.828125  0.750267\n",
       "Gradient Boosting    0.828125   0.780494  0.828125  0.775355\n",
       "SVM                  0.828125   0.685791  0.828125  0.750267\n",
       "Decision Tree        0.812500   0.785558  0.812500  0.795076\n",
       "MLP Classifier       0.796875   0.804187  0.796875  0.800323\n",
       "K-Nearest Neighbors  0.765625   0.713991  0.765625  0.736437\n",
       "AdaBoost             0.734375   0.743690  0.734375  0.738885"
      ]
     },
     "execution_count": 36,
     "metadata": {},
     "output_type": "execute_result"
    }
   ],
   "source": [
    "algo_test(x,y)"
   ]
  },
  {
   "cell_type": "markdown",
   "id": "ba39c6a5",
   "metadata": {
    "id": "ba39c6a5"
   },
   "source": [
    "## AutoML with PyCaret"
   ]
  },
  {
   "cell_type": "code",
   "execution_count": 41,
   "id": "THCMbB0I0oCc",
   "metadata": {
    "id": "THCMbB0I0oCc"
   },
   "outputs": [],
   "source": [
    "#pip install pycaret"
   ]
  },
  {
   "cell_type": "code",
   "execution_count": 38,
   "id": "25e1b03f",
   "metadata": {
    "id": "25e1b03f"
   },
   "outputs": [],
   "source": [
    "from pycaret.classification import*"
   ]
  },
  {
   "cell_type": "code",
   "execution_count": 39,
   "id": "36c8d7d7",
   "metadata": {
    "colab": {
     "base_uri": "https://localhost:8080/",
     "height": 739
    },
    "id": "36c8d7d7",
    "outputId": "c6bd4b3b-7472-4f91-f983-e8b6a79894f5"
   },
   "outputs": [
    {
     "data": {
      "text/html": [
       "<style type=\"text/css\">\n",
       "#T_7c47d_row9_col1 {\n",
       "  background-color: lightgreen;\n",
       "}\n",
       "</style>\n",
       "<table id=\"T_7c47d\" class=\"dataframe\">\n",
       "  <thead>\n",
       "    <tr>\n",
       "      <th class=\"blank level0\" >&nbsp;</th>\n",
       "      <th id=\"T_7c47d_level0_col0\" class=\"col_heading level0 col0\" >Description</th>\n",
       "      <th id=\"T_7c47d_level0_col1\" class=\"col_heading level0 col1\" >Value</th>\n",
       "    </tr>\n",
       "  </thead>\n",
       "  <tbody>\n",
       "    <tr>\n",
       "      <th id=\"T_7c47d_level0_row0\" class=\"row_heading level0 row0\" >0</th>\n",
       "      <td id=\"T_7c47d_row0_col0\" class=\"data row0 col0\" >Session id</td>\n",
       "      <td id=\"T_7c47d_row0_col1\" class=\"data row0 col1\" >3679</td>\n",
       "    </tr>\n",
       "    <tr>\n",
       "      <th id=\"T_7c47d_level0_row1\" class=\"row_heading level0 row1\" >1</th>\n",
       "      <td id=\"T_7c47d_row1_col0\" class=\"data row1 col0\" >Target</td>\n",
       "      <td id=\"T_7c47d_row1_col1\" class=\"data row1 col1\" >Patient_Status</td>\n",
       "    </tr>\n",
       "    <tr>\n",
       "      <th id=\"T_7c47d_level0_row2\" class=\"row_heading level0 row2\" >2</th>\n",
       "      <td id=\"T_7c47d_row2_col0\" class=\"data row2 col0\" >Target type</td>\n",
       "      <td id=\"T_7c47d_row2_col1\" class=\"data row2 col1\" >Binary</td>\n",
       "    </tr>\n",
       "    <tr>\n",
       "      <th id=\"T_7c47d_level0_row3\" class=\"row_heading level0 row3\" >3</th>\n",
       "      <td id=\"T_7c47d_row3_col0\" class=\"data row3 col0\" >Original data shape</td>\n",
       "      <td id=\"T_7c47d_row3_col1\" class=\"data row3 col1\" >(317, 16)</td>\n",
       "    </tr>\n",
       "    <tr>\n",
       "      <th id=\"T_7c47d_level0_row4\" class=\"row_heading level0 row4\" >4</th>\n",
       "      <td id=\"T_7c47d_row4_col0\" class=\"data row4 col0\" >Transformed data shape</td>\n",
       "      <td id=\"T_7c47d_row4_col1\" class=\"data row4 col1\" >(317, 23)</td>\n",
       "    </tr>\n",
       "    <tr>\n",
       "      <th id=\"T_7c47d_level0_row5\" class=\"row_heading level0 row5\" >5</th>\n",
       "      <td id=\"T_7c47d_row5_col0\" class=\"data row5 col0\" >Transformed train set shape</td>\n",
       "      <td id=\"T_7c47d_row5_col1\" class=\"data row5 col1\" >(221, 23)</td>\n",
       "    </tr>\n",
       "    <tr>\n",
       "      <th id=\"T_7c47d_level0_row6\" class=\"row_heading level0 row6\" >6</th>\n",
       "      <td id=\"T_7c47d_row6_col0\" class=\"data row6 col0\" >Transformed test set shape</td>\n",
       "      <td id=\"T_7c47d_row6_col1\" class=\"data row6 col1\" >(96, 23)</td>\n",
       "    </tr>\n",
       "    <tr>\n",
       "      <th id=\"T_7c47d_level0_row7\" class=\"row_heading level0 row7\" >7</th>\n",
       "      <td id=\"T_7c47d_row7_col0\" class=\"data row7 col0\" >Numeric features</td>\n",
       "      <td id=\"T_7c47d_row7_col1\" class=\"data row7 col1\" >5</td>\n",
       "    </tr>\n",
       "    <tr>\n",
       "      <th id=\"T_7c47d_level0_row8\" class=\"row_heading level0 row8\" >8</th>\n",
       "      <td id=\"T_7c47d_row8_col0\" class=\"data row8 col0\" >Categorical features</td>\n",
       "      <td id=\"T_7c47d_row8_col1\" class=\"data row8 col1\" >10</td>\n",
       "    </tr>\n",
       "    <tr>\n",
       "      <th id=\"T_7c47d_level0_row9\" class=\"row_heading level0 row9\" >9</th>\n",
       "      <td id=\"T_7c47d_row9_col0\" class=\"data row9 col0\" >Preprocess</td>\n",
       "      <td id=\"T_7c47d_row9_col1\" class=\"data row9 col1\" >True</td>\n",
       "    </tr>\n",
       "    <tr>\n",
       "      <th id=\"T_7c47d_level0_row10\" class=\"row_heading level0 row10\" >10</th>\n",
       "      <td id=\"T_7c47d_row10_col0\" class=\"data row10 col0\" >Imputation type</td>\n",
       "      <td id=\"T_7c47d_row10_col1\" class=\"data row10 col1\" >simple</td>\n",
       "    </tr>\n",
       "    <tr>\n",
       "      <th id=\"T_7c47d_level0_row11\" class=\"row_heading level0 row11\" >11</th>\n",
       "      <td id=\"T_7c47d_row11_col0\" class=\"data row11 col0\" >Numeric imputation</td>\n",
       "      <td id=\"T_7c47d_row11_col1\" class=\"data row11 col1\" >mean</td>\n",
       "    </tr>\n",
       "    <tr>\n",
       "      <th id=\"T_7c47d_level0_row12\" class=\"row_heading level0 row12\" >12</th>\n",
       "      <td id=\"T_7c47d_row12_col0\" class=\"data row12 col0\" >Categorical imputation</td>\n",
       "      <td id=\"T_7c47d_row12_col1\" class=\"data row12 col1\" >mode</td>\n",
       "    </tr>\n",
       "    <tr>\n",
       "      <th id=\"T_7c47d_level0_row13\" class=\"row_heading level0 row13\" >13</th>\n",
       "      <td id=\"T_7c47d_row13_col0\" class=\"data row13 col0\" >Maximum one-hot encoding</td>\n",
       "      <td id=\"T_7c47d_row13_col1\" class=\"data row13 col1\" >25</td>\n",
       "    </tr>\n",
       "    <tr>\n",
       "      <th id=\"T_7c47d_level0_row14\" class=\"row_heading level0 row14\" >14</th>\n",
       "      <td id=\"T_7c47d_row14_col0\" class=\"data row14 col0\" >Encoding method</td>\n",
       "      <td id=\"T_7c47d_row14_col1\" class=\"data row14 col1\" >None</td>\n",
       "    </tr>\n",
       "    <tr>\n",
       "      <th id=\"T_7c47d_level0_row15\" class=\"row_heading level0 row15\" >15</th>\n",
       "      <td id=\"T_7c47d_row15_col0\" class=\"data row15 col0\" >Fold Generator</td>\n",
       "      <td id=\"T_7c47d_row15_col1\" class=\"data row15 col1\" >StratifiedKFold</td>\n",
       "    </tr>\n",
       "    <tr>\n",
       "      <th id=\"T_7c47d_level0_row16\" class=\"row_heading level0 row16\" >16</th>\n",
       "      <td id=\"T_7c47d_row16_col0\" class=\"data row16 col0\" >Fold Number</td>\n",
       "      <td id=\"T_7c47d_row16_col1\" class=\"data row16 col1\" >10</td>\n",
       "    </tr>\n",
       "    <tr>\n",
       "      <th id=\"T_7c47d_level0_row17\" class=\"row_heading level0 row17\" >17</th>\n",
       "      <td id=\"T_7c47d_row17_col0\" class=\"data row17 col0\" >CPU Jobs</td>\n",
       "      <td id=\"T_7c47d_row17_col1\" class=\"data row17 col1\" >-1</td>\n",
       "    </tr>\n",
       "    <tr>\n",
       "      <th id=\"T_7c47d_level0_row18\" class=\"row_heading level0 row18\" >18</th>\n",
       "      <td id=\"T_7c47d_row18_col0\" class=\"data row18 col0\" >Use GPU</td>\n",
       "      <td id=\"T_7c47d_row18_col1\" class=\"data row18 col1\" >False</td>\n",
       "    </tr>\n",
       "    <tr>\n",
       "      <th id=\"T_7c47d_level0_row19\" class=\"row_heading level0 row19\" >19</th>\n",
       "      <td id=\"T_7c47d_row19_col0\" class=\"data row19 col0\" >Log Experiment</td>\n",
       "      <td id=\"T_7c47d_row19_col1\" class=\"data row19 col1\" >False</td>\n",
       "    </tr>\n",
       "    <tr>\n",
       "      <th id=\"T_7c47d_level0_row20\" class=\"row_heading level0 row20\" >20</th>\n",
       "      <td id=\"T_7c47d_row20_col0\" class=\"data row20 col0\" >Experiment Name</td>\n",
       "      <td id=\"T_7c47d_row20_col1\" class=\"data row20 col1\" >clf-default-name</td>\n",
       "    </tr>\n",
       "    <tr>\n",
       "      <th id=\"T_7c47d_level0_row21\" class=\"row_heading level0 row21\" >21</th>\n",
       "      <td id=\"T_7c47d_row21_col0\" class=\"data row21 col0\" >USI</td>\n",
       "      <td id=\"T_7c47d_row21_col1\" class=\"data row21 col1\" >7067</td>\n",
       "    </tr>\n",
       "  </tbody>\n",
       "</table>\n"
      ],
      "text/plain": [
       "<pandas.io.formats.style.Styler at 0x7b9dd4b7d1b0>"
      ]
     },
     "metadata": {},
     "output_type": "display_data"
    }
   ],
   "source": [
    "a=setup(data=df,target=\"Patient_Status\")"
   ]
  },
  {
   "cell_type": "code",
   "execution_count": 40,
   "id": "5def99aa",
   "metadata": {
    "colab": {
     "base_uri": "https://localhost:8080/",
     "height": 519,
     "referenced_widgets": [
      "bcc75b57124e4cdda8a4140a307673f8",
      "627ffe612fcf4163b22da00e7141ec37",
      "b09a3f51768644979078adf5e2b7b47a",
      "2c89518fce23489483225b3c11e66604",
      "904c2923e6634e24b75d563d14f32c43",
      "54596f56861740559960ffa367bb9235",
      "a33d5219e20646759981d8d15e9a6ca9",
      "2bda5170698d4f81adeed9a206f1e906",
      "4550326e441847e487a7fb652bb8a127",
      "72ec148d8e4b4b12a19a6aee8ea7e6ed",
      "e63932228e36422da4aa30ce9f18ead2"
     ]
    },
    "id": "5def99aa",
    "outputId": "3039138d-665a-434d-d601-5ff3f51601b5"
   },
   "outputs": [
    {
     "data": {
      "text/html": [],
      "text/plain": [
       "<IPython.core.display.HTML object>"
      ]
     },
     "metadata": {},
     "output_type": "display_data"
    },
    {
     "data": {
      "text/html": [
       "<style type=\"text/css\">\n",
       "#T_37f55 th {\n",
       "  text-align: left;\n",
       "}\n",
       "#T_37f55_row0_col0, #T_37f55_row0_col2, #T_37f55_row1_col0, #T_37f55_row1_col2, #T_37f55_row2_col0, #T_37f55_row2_col2, #T_37f55_row3_col0, #T_37f55_row3_col2, #T_37f55_row4_col0, #T_37f55_row4_col2, #T_37f55_row5_col0, #T_37f55_row5_col2, #T_37f55_row6_col0, #T_37f55_row6_col2, #T_37f55_row7_col0, #T_37f55_row8_col0, #T_37f55_row8_col2, #T_37f55_row9_col0, #T_37f55_row9_col2, #T_37f55_row10_col0, #T_37f55_row10_col1, #T_37f55_row10_col2, #T_37f55_row10_col3, #T_37f55_row10_col4, #T_37f55_row10_col5, #T_37f55_row10_col6, #T_37f55_row10_col7, #T_37f55_row11_col0, #T_37f55_row11_col1, #T_37f55_row11_col2, #T_37f55_row11_col3, #T_37f55_row11_col4, #T_37f55_row11_col5, #T_37f55_row11_col6, #T_37f55_row11_col7, #T_37f55_row12_col0, #T_37f55_row12_col1, #T_37f55_row12_col2, #T_37f55_row12_col3, #T_37f55_row12_col4, #T_37f55_row12_col5, #T_37f55_row12_col6, #T_37f55_row12_col7, #T_37f55_row13_col0, #T_37f55_row13_col1, #T_37f55_row13_col2, #T_37f55_row13_col3, #T_37f55_row13_col4, #T_37f55_row13_col5, #T_37f55_row13_col6, #T_37f55_row13_col7, #T_37f55_row14_col0, #T_37f55_row14_col1, #T_37f55_row14_col2, #T_37f55_row14_col3, #T_37f55_row14_col4, #T_37f55_row14_col5 {\n",
       "  text-align: left;\n",
       "}\n",
       "#T_37f55_row0_col1, #T_37f55_row0_col3, #T_37f55_row0_col4, #T_37f55_row0_col5, #T_37f55_row0_col6, #T_37f55_row0_col7, #T_37f55_row1_col1, #T_37f55_row1_col3, #T_37f55_row1_col4, #T_37f55_row1_col5, #T_37f55_row1_col6, #T_37f55_row1_col7, #T_37f55_row2_col1, #T_37f55_row2_col3, #T_37f55_row2_col4, #T_37f55_row2_col5, #T_37f55_row2_col6, #T_37f55_row2_col7, #T_37f55_row3_col1, #T_37f55_row3_col3, #T_37f55_row3_col4, #T_37f55_row3_col5, #T_37f55_row3_col6, #T_37f55_row3_col7, #T_37f55_row4_col1, #T_37f55_row4_col3, #T_37f55_row4_col4, #T_37f55_row4_col5, #T_37f55_row4_col6, #T_37f55_row4_col7, #T_37f55_row5_col1, #T_37f55_row5_col3, #T_37f55_row5_col4, #T_37f55_row5_col5, #T_37f55_row5_col6, #T_37f55_row5_col7, #T_37f55_row6_col1, #T_37f55_row6_col3, #T_37f55_row6_col4, #T_37f55_row6_col5, #T_37f55_row6_col6, #T_37f55_row6_col7, #T_37f55_row7_col1, #T_37f55_row7_col2, #T_37f55_row7_col3, #T_37f55_row7_col4, #T_37f55_row7_col5, #T_37f55_row7_col6, #T_37f55_row7_col7, #T_37f55_row8_col1, #T_37f55_row8_col3, #T_37f55_row8_col4, #T_37f55_row8_col5, #T_37f55_row8_col6, #T_37f55_row8_col7, #T_37f55_row9_col1, #T_37f55_row9_col3, #T_37f55_row9_col4, #T_37f55_row9_col5, #T_37f55_row9_col6, #T_37f55_row9_col7, #T_37f55_row14_col6, #T_37f55_row14_col7 {\n",
       "  text-align: left;\n",
       "  background-color: yellow;\n",
       "}\n",
       "#T_37f55_row0_col8, #T_37f55_row1_col8, #T_37f55_row2_col8, #T_37f55_row3_col8, #T_37f55_row4_col8, #T_37f55_row5_col8, #T_37f55_row6_col8, #T_37f55_row7_col8, #T_37f55_row8_col8, #T_37f55_row10_col8, #T_37f55_row11_col8, #T_37f55_row12_col8, #T_37f55_row13_col8, #T_37f55_row14_col8 {\n",
       "  text-align: left;\n",
       "  background-color: lightgrey;\n",
       "}\n",
       "#T_37f55_row9_col8 {\n",
       "  text-align: left;\n",
       "  background-color: yellow;\n",
       "  background-color: lightgrey;\n",
       "}\n",
       "</style>\n",
       "<table id=\"T_37f55\" class=\"dataframe\">\n",
       "  <thead>\n",
       "    <tr>\n",
       "      <th class=\"blank level0\" >&nbsp;</th>\n",
       "      <th id=\"T_37f55_level0_col0\" class=\"col_heading level0 col0\" >Model</th>\n",
       "      <th id=\"T_37f55_level0_col1\" class=\"col_heading level0 col1\" >Accuracy</th>\n",
       "      <th id=\"T_37f55_level0_col2\" class=\"col_heading level0 col2\" >AUC</th>\n",
       "      <th id=\"T_37f55_level0_col3\" class=\"col_heading level0 col3\" >Recall</th>\n",
       "      <th id=\"T_37f55_level0_col4\" class=\"col_heading level0 col4\" >Prec.</th>\n",
       "      <th id=\"T_37f55_level0_col5\" class=\"col_heading level0 col5\" >F1</th>\n",
       "      <th id=\"T_37f55_level0_col6\" class=\"col_heading level0 col6\" >Kappa</th>\n",
       "      <th id=\"T_37f55_level0_col7\" class=\"col_heading level0 col7\" >MCC</th>\n",
       "      <th id=\"T_37f55_level0_col8\" class=\"col_heading level0 col8\" >TT (Sec)</th>\n",
       "    </tr>\n",
       "  </thead>\n",
       "  <tbody>\n",
       "    <tr>\n",
       "      <th id=\"T_37f55_level0_row0\" class=\"row_heading level0 row0\" >lr</th>\n",
       "      <td id=\"T_37f55_row0_col0\" class=\"data row0 col0\" >Logistic Regression</td>\n",
       "      <td id=\"T_37f55_row0_col1\" class=\"data row0 col1\" >0.8055</td>\n",
       "      <td id=\"T_37f55_row0_col2\" class=\"data row0 col2\" >0.5311</td>\n",
       "      <td id=\"T_37f55_row0_col3\" class=\"data row0 col3\" >1.0000</td>\n",
       "      <td id=\"T_37f55_row0_col4\" class=\"data row0 col4\" >0.8055</td>\n",
       "      <td id=\"T_37f55_row0_col5\" class=\"data row0 col5\" >0.8922</td>\n",
       "      <td id=\"T_37f55_row0_col6\" class=\"data row0 col6\" >0.0000</td>\n",
       "      <td id=\"T_37f55_row0_col7\" class=\"data row0 col7\" >0.0000</td>\n",
       "      <td id=\"T_37f55_row0_col8\" class=\"data row0 col8\" >1.7190</td>\n",
       "    </tr>\n",
       "    <tr>\n",
       "      <th id=\"T_37f55_level0_row1\" class=\"row_heading level0 row1\" >dt</th>\n",
       "      <td id=\"T_37f55_row1_col0\" class=\"data row1 col0\" >Decision Tree Classifier</td>\n",
       "      <td id=\"T_37f55_row1_col1\" class=\"data row1 col1\" >0.8055</td>\n",
       "      <td id=\"T_37f55_row1_col2\" class=\"data row1 col2\" >0.5000</td>\n",
       "      <td id=\"T_37f55_row1_col3\" class=\"data row1 col3\" >1.0000</td>\n",
       "      <td id=\"T_37f55_row1_col4\" class=\"data row1 col4\" >0.8055</td>\n",
       "      <td id=\"T_37f55_row1_col5\" class=\"data row1 col5\" >0.8922</td>\n",
       "      <td id=\"T_37f55_row1_col6\" class=\"data row1 col6\" >0.0000</td>\n",
       "      <td id=\"T_37f55_row1_col7\" class=\"data row1 col7\" >0.0000</td>\n",
       "      <td id=\"T_37f55_row1_col8\" class=\"data row1 col8\" >0.6450</td>\n",
       "    </tr>\n",
       "    <tr>\n",
       "      <th id=\"T_37f55_level0_row2\" class=\"row_heading level0 row2\" >ridge</th>\n",
       "      <td id=\"T_37f55_row2_col0\" class=\"data row2 col0\" >Ridge Classifier</td>\n",
       "      <td id=\"T_37f55_row2_col1\" class=\"data row2 col1\" >0.8055</td>\n",
       "      <td id=\"T_37f55_row2_col2\" class=\"data row2 col2\" >0.5948</td>\n",
       "      <td id=\"T_37f55_row2_col3\" class=\"data row2 col3\" >1.0000</td>\n",
       "      <td id=\"T_37f55_row2_col4\" class=\"data row2 col4\" >0.8055</td>\n",
       "      <td id=\"T_37f55_row2_col5\" class=\"data row2 col5\" >0.8922</td>\n",
       "      <td id=\"T_37f55_row2_col6\" class=\"data row2 col6\" >0.0000</td>\n",
       "      <td id=\"T_37f55_row2_col7\" class=\"data row2 col7\" >0.0000</td>\n",
       "      <td id=\"T_37f55_row2_col8\" class=\"data row2 col8\" >0.2180</td>\n",
       "    </tr>\n",
       "    <tr>\n",
       "      <th id=\"T_37f55_level0_row3\" class=\"row_heading level0 row3\" >rf</th>\n",
       "      <td id=\"T_37f55_row3_col0\" class=\"data row3 col0\" >Random Forest Classifier</td>\n",
       "      <td id=\"T_37f55_row3_col1\" class=\"data row3 col1\" >0.8055</td>\n",
       "      <td id=\"T_37f55_row3_col2\" class=\"data row3 col2\" >0.5910</td>\n",
       "      <td id=\"T_37f55_row3_col3\" class=\"data row3 col3\" >1.0000</td>\n",
       "      <td id=\"T_37f55_row3_col4\" class=\"data row3 col4\" >0.8055</td>\n",
       "      <td id=\"T_37f55_row3_col5\" class=\"data row3 col5\" >0.8922</td>\n",
       "      <td id=\"T_37f55_row3_col6\" class=\"data row3 col6\" >0.0000</td>\n",
       "      <td id=\"T_37f55_row3_col7\" class=\"data row3 col7\" >0.0000</td>\n",
       "      <td id=\"T_37f55_row3_col8\" class=\"data row3 col8\" >0.4050</td>\n",
       "    </tr>\n",
       "    <tr>\n",
       "      <th id=\"T_37f55_level0_row4\" class=\"row_heading level0 row4\" >ada</th>\n",
       "      <td id=\"T_37f55_row4_col0\" class=\"data row4 col0\" >Ada Boost Classifier</td>\n",
       "      <td id=\"T_37f55_row4_col1\" class=\"data row4 col1\" >0.8055</td>\n",
       "      <td id=\"T_37f55_row4_col2\" class=\"data row4 col2\" >0.5000</td>\n",
       "      <td id=\"T_37f55_row4_col3\" class=\"data row4 col3\" >1.0000</td>\n",
       "      <td id=\"T_37f55_row4_col4\" class=\"data row4 col4\" >0.8055</td>\n",
       "      <td id=\"T_37f55_row4_col5\" class=\"data row4 col5\" >0.8922</td>\n",
       "      <td id=\"T_37f55_row4_col6\" class=\"data row4 col6\" >0.0000</td>\n",
       "      <td id=\"T_37f55_row4_col7\" class=\"data row4 col7\" >0.0000</td>\n",
       "      <td id=\"T_37f55_row4_col8\" class=\"data row4 col8\" >0.2210</td>\n",
       "    </tr>\n",
       "    <tr>\n",
       "      <th id=\"T_37f55_level0_row5\" class=\"row_heading level0 row5\" >gbc</th>\n",
       "      <td id=\"T_37f55_row5_col0\" class=\"data row5 col0\" >Gradient Boosting Classifier</td>\n",
       "      <td id=\"T_37f55_row5_col1\" class=\"data row5 col1\" >0.8055</td>\n",
       "      <td id=\"T_37f55_row5_col2\" class=\"data row5 col2\" >0.5000</td>\n",
       "      <td id=\"T_37f55_row5_col3\" class=\"data row5 col3\" >1.0000</td>\n",
       "      <td id=\"T_37f55_row5_col4\" class=\"data row5 col4\" >0.8055</td>\n",
       "      <td id=\"T_37f55_row5_col5\" class=\"data row5 col5\" >0.8922</td>\n",
       "      <td id=\"T_37f55_row5_col6\" class=\"data row5 col6\" >0.0000</td>\n",
       "      <td id=\"T_37f55_row5_col7\" class=\"data row5 col7\" >0.0000</td>\n",
       "      <td id=\"T_37f55_row5_col8\" class=\"data row5 col8\" >0.2660</td>\n",
       "    </tr>\n",
       "    <tr>\n",
       "      <th id=\"T_37f55_level0_row6\" class=\"row_heading level0 row6\" >lda</th>\n",
       "      <td id=\"T_37f55_row6_col0\" class=\"data row6 col0\" >Linear Discriminant Analysis</td>\n",
       "      <td id=\"T_37f55_row6_col1\" class=\"data row6 col1\" >0.8055</td>\n",
       "      <td id=\"T_37f55_row6_col2\" class=\"data row6 col2\" >0.5000</td>\n",
       "      <td id=\"T_37f55_row6_col3\" class=\"data row6 col3\" >1.0000</td>\n",
       "      <td id=\"T_37f55_row6_col4\" class=\"data row6 col4\" >0.8055</td>\n",
       "      <td id=\"T_37f55_row6_col5\" class=\"data row6 col5\" >0.8922</td>\n",
       "      <td id=\"T_37f55_row6_col6\" class=\"data row6 col6\" >0.0000</td>\n",
       "      <td id=\"T_37f55_row6_col7\" class=\"data row6 col7\" >0.0000</td>\n",
       "      <td id=\"T_37f55_row6_col8\" class=\"data row6 col8\" >0.1980</td>\n",
       "    </tr>\n",
       "    <tr>\n",
       "      <th id=\"T_37f55_level0_row7\" class=\"row_heading level0 row7\" >et</th>\n",
       "      <td id=\"T_37f55_row7_col0\" class=\"data row7 col0\" >Extra Trees Classifier</td>\n",
       "      <td id=\"T_37f55_row7_col1\" class=\"data row7 col1\" >0.8055</td>\n",
       "      <td id=\"T_37f55_row7_col2\" class=\"data row7 col2\" >0.6348</td>\n",
       "      <td id=\"T_37f55_row7_col3\" class=\"data row7 col3\" >1.0000</td>\n",
       "      <td id=\"T_37f55_row7_col4\" class=\"data row7 col4\" >0.8055</td>\n",
       "      <td id=\"T_37f55_row7_col5\" class=\"data row7 col5\" >0.8922</td>\n",
       "      <td id=\"T_37f55_row7_col6\" class=\"data row7 col6\" >0.0000</td>\n",
       "      <td id=\"T_37f55_row7_col7\" class=\"data row7 col7\" >0.0000</td>\n",
       "      <td id=\"T_37f55_row7_col8\" class=\"data row7 col8\" >0.3430</td>\n",
       "    </tr>\n",
       "    <tr>\n",
       "      <th id=\"T_37f55_level0_row8\" class=\"row_heading level0 row8\" >lightgbm</th>\n",
       "      <td id=\"T_37f55_row8_col0\" class=\"data row8 col0\" >Light Gradient Boosting Machine</td>\n",
       "      <td id=\"T_37f55_row8_col1\" class=\"data row8 col1\" >0.8055</td>\n",
       "      <td id=\"T_37f55_row8_col2\" class=\"data row8 col2\" >0.5000</td>\n",
       "      <td id=\"T_37f55_row8_col3\" class=\"data row8 col3\" >1.0000</td>\n",
       "      <td id=\"T_37f55_row8_col4\" class=\"data row8 col4\" >0.8055</td>\n",
       "      <td id=\"T_37f55_row8_col5\" class=\"data row8 col5\" >0.8922</td>\n",
       "      <td id=\"T_37f55_row8_col6\" class=\"data row8 col6\" >0.0000</td>\n",
       "      <td id=\"T_37f55_row8_col7\" class=\"data row8 col7\" >0.0000</td>\n",
       "      <td id=\"T_37f55_row8_col8\" class=\"data row8 col8\" >0.4610</td>\n",
       "    </tr>\n",
       "    <tr>\n",
       "      <th id=\"T_37f55_level0_row9\" class=\"row_heading level0 row9\" >dummy</th>\n",
       "      <td id=\"T_37f55_row9_col0\" class=\"data row9 col0\" >Dummy Classifier</td>\n",
       "      <td id=\"T_37f55_row9_col1\" class=\"data row9 col1\" >0.8055</td>\n",
       "      <td id=\"T_37f55_row9_col2\" class=\"data row9 col2\" >0.5000</td>\n",
       "      <td id=\"T_37f55_row9_col3\" class=\"data row9 col3\" >1.0000</td>\n",
       "      <td id=\"T_37f55_row9_col4\" class=\"data row9 col4\" >0.8055</td>\n",
       "      <td id=\"T_37f55_row9_col5\" class=\"data row9 col5\" >0.8922</td>\n",
       "      <td id=\"T_37f55_row9_col6\" class=\"data row9 col6\" >0.0000</td>\n",
       "      <td id=\"T_37f55_row9_col7\" class=\"data row9 col7\" >0.0000</td>\n",
       "      <td id=\"T_37f55_row9_col8\" class=\"data row9 col8\" >0.1860</td>\n",
       "    </tr>\n",
       "    <tr>\n",
       "      <th id=\"T_37f55_level0_row10\" class=\"row_heading level0 row10\" >nb</th>\n",
       "      <td id=\"T_37f55_row10_col0\" class=\"data row10 col0\" >Naive Bayes</td>\n",
       "      <td id=\"T_37f55_row10_col1\" class=\"data row10 col1\" >0.8010</td>\n",
       "      <td id=\"T_37f55_row10_col2\" class=\"data row10 col2\" >0.4972</td>\n",
       "      <td id=\"T_37f55_row10_col3\" class=\"data row10 col3\" >0.9944</td>\n",
       "      <td id=\"T_37f55_row10_col4\" class=\"data row10 col4\" >0.8047</td>\n",
       "      <td id=\"T_37f55_row10_col5\" class=\"data row10 col5\" >0.8893</td>\n",
       "      <td id=\"T_37f55_row10_col6\" class=\"data row10 col6\" >-0.0078</td>\n",
       "      <td id=\"T_37f55_row10_col7\" class=\"data row10 col7\" >-0.0103</td>\n",
       "      <td id=\"T_37f55_row10_col8\" class=\"data row10 col8\" >0.4020</td>\n",
       "    </tr>\n",
       "    <tr>\n",
       "      <th id=\"T_37f55_level0_row11\" class=\"row_heading level0 row11\" >qda</th>\n",
       "      <td id=\"T_37f55_row11_col0\" class=\"data row11 col0\" >Quadratic Discriminant Analysis</td>\n",
       "      <td id=\"T_37f55_row11_col1\" class=\"data row11 col1\" >0.8010</td>\n",
       "      <td id=\"T_37f55_row11_col2\" class=\"data row11 col2\" >0.4466</td>\n",
       "      <td id=\"T_37f55_row11_col3\" class=\"data row11 col3\" >0.9944</td>\n",
       "      <td id=\"T_37f55_row11_col4\" class=\"data row11 col4\" >0.8047</td>\n",
       "      <td id=\"T_37f55_row11_col5\" class=\"data row11 col5\" >0.8893</td>\n",
       "      <td id=\"T_37f55_row11_col6\" class=\"data row11 col6\" >-0.0078</td>\n",
       "      <td id=\"T_37f55_row11_col7\" class=\"data row11 col7\" >-0.0103</td>\n",
       "      <td id=\"T_37f55_row11_col8\" class=\"data row11 col8\" >0.3360</td>\n",
       "    </tr>\n",
       "    <tr>\n",
       "      <th id=\"T_37f55_level0_row12\" class=\"row_heading level0 row12\" >knn</th>\n",
       "      <td id=\"T_37f55_row12_col0\" class=\"data row12 col0\" >K Neighbors Classifier</td>\n",
       "      <td id=\"T_37f55_row12_col1\" class=\"data row12 col1\" >0.7466</td>\n",
       "      <td id=\"T_37f55_row12_col2\" class=\"data row12 col2\" >0.4534</td>\n",
       "      <td id=\"T_37f55_row12_col3\" class=\"data row12 col3\" >0.9275</td>\n",
       "      <td id=\"T_37f55_row12_col4\" class=\"data row12 col4\" >0.7932</td>\n",
       "      <td id=\"T_37f55_row12_col5\" class=\"data row12 col5\" >0.8541</td>\n",
       "      <td id=\"T_37f55_row12_col6\" class=\"data row12 col6\" >-0.0893</td>\n",
       "      <td id=\"T_37f55_row12_col7\" class=\"data row12 col7\" >-0.1060</td>\n",
       "      <td id=\"T_37f55_row12_col8\" class=\"data row12 col8\" >0.5430</td>\n",
       "    </tr>\n",
       "    <tr>\n",
       "      <th id=\"T_37f55_level0_row13\" class=\"row_heading level0 row13\" >svm</th>\n",
       "      <td id=\"T_37f55_row13_col0\" class=\"data row13 col0\" >SVM - Linear Kernel</td>\n",
       "      <td id=\"T_37f55_row13_col1\" class=\"data row13 col1\" >0.5328</td>\n",
       "      <td id=\"T_37f55_row13_col2\" class=\"data row13 col2\" >0.5168</td>\n",
       "      <td id=\"T_37f55_row13_col3\" class=\"data row13 col3\" >0.5722</td>\n",
       "      <td id=\"T_37f55_row13_col4\" class=\"data row13 col4\" >0.4777</td>\n",
       "      <td id=\"T_37f55_row13_col5\" class=\"data row13 col5\" >0.5186</td>\n",
       "      <td id=\"T_37f55_row13_col6\" class=\"data row13 col6\" >-0.0023</td>\n",
       "      <td id=\"T_37f55_row13_col7\" class=\"data row13 col7\" >-0.0024</td>\n",
       "      <td id=\"T_37f55_row13_col8\" class=\"data row13 col8\" >0.3710</td>\n",
       "    </tr>\n",
       "    <tr>\n",
       "      <th id=\"T_37f55_level0_row14\" class=\"row_heading level0 row14\" >xgboost</th>\n",
       "      <td id=\"T_37f55_row14_col0\" class=\"data row14 col0\" >Extreme Gradient Boosting</td>\n",
       "      <td id=\"T_37f55_row14_col1\" class=\"data row14 col1\" >0.1945</td>\n",
       "      <td id=\"T_37f55_row14_col2\" class=\"data row14 col2\" >0.5543</td>\n",
       "      <td id=\"T_37f55_row14_col3\" class=\"data row14 col3\" >0.0000</td>\n",
       "      <td id=\"T_37f55_row14_col4\" class=\"data row14 col4\" >0.0000</td>\n",
       "      <td id=\"T_37f55_row14_col5\" class=\"data row14 col5\" >0.0000</td>\n",
       "      <td id=\"T_37f55_row14_col6\" class=\"data row14 col6\" >0.0000</td>\n",
       "      <td id=\"T_37f55_row14_col7\" class=\"data row14 col7\" >0.0000</td>\n",
       "      <td id=\"T_37f55_row14_col8\" class=\"data row14 col8\" >0.4070</td>\n",
       "    </tr>\n",
       "  </tbody>\n",
       "</table>\n"
      ],
      "text/plain": [
       "<pandas.io.formats.style.Styler at 0x7b9df25b8b20>"
      ]
     },
     "metadata": {},
     "output_type": "display_data"
    },
    {
     "data": {
      "application/vnd.jupyter.widget-view+json": {
       "model_id": "bcc75b57124e4cdda8a4140a307673f8",
       "version_major": 2,
       "version_minor": 0
      },
      "text/plain": [
       "Processing:   0%|          | 0/65 [00:00<?, ?it/s]"
      ]
     },
     "metadata": {
      "application/vnd.jupyter.widget-view+json": {
       "colab": {
        "custom_widget_manager": {
         "url": "https://ssl.gstatic.com/colaboratory-static/widgets/colab-cdn-widget-manager/2b70e893a8ba7c0f/manager.min.js"
        }
       }
      }
     },
     "output_type": "display_data"
    },
    {
     "data": {
      "text/html": [],
      "text/plain": [
       "<IPython.core.display.HTML object>"
      ]
     },
     "metadata": {},
     "output_type": "display_data"
    }
   ],
   "source": [
    "best_model=compare_models()"
   ]
  },
  {
   "cell_type": "markdown",
   "id": "630a0c12",
   "metadata": {
    "id": "630a0c12"
   },
   "source": [
    "## Summary"
   ]
  },
  {
   "cell_type": "markdown",
   "id": "c0cb0037",
   "metadata": {
    "id": "c0cb0037"
   },
   "source": [
    "This project addresses breast cancer diagnosis as a classification problem and aims to predict whether patients have cancer. The dataset includes patients' demographic information (age, gender, ethnicity), medical history, and signs and symptoms related to breast cancer. The target variable \"Breast Cancer\" is a binary variable indicating whether the patient has been diagnosed with cancer (cancerous/non-cancerous).\n",
    "\n",
    "Within the scope of the project, firstly the data was cleaned and made suitable for modeling. Then, a model was created using classification algorithms such as logistic regression, decision trees, random forests. The performance of the model was evaluated with metrics such as accuracy, F1 score, precision, recall, AUC, and ROC. In addition, the results were tested with K-fold cross-validation.We did automl with pycaret We did not apply deep learning because our success rate was good and completed our project.\n",
    "\n",
    "This study is an important step for the early diagnosis of breast cancer and aims to help healthcare professionals in their decision-making processes."
   ]
  }
 ],
 "metadata": {
  "colab": {
   "provenance": []
  },
  "kernelspec": {
   "display_name": "Python 3 (ipykernel)",
   "language": "python",
   "name": "python3"
  },
  "language_info": {
   "codemirror_mode": {
    "name": "ipython",
    "version": 3
   },
   "file_extension": ".py",
   "mimetype": "text/x-python",
   "name": "python",
   "nbconvert_exporter": "python",
   "pygments_lexer": "ipython3",
   "version": "3.11.7"
  },
  "widgets": {
   "application/vnd.jupyter.widget-state+json": {
    "2bda5170698d4f81adeed9a206f1e906": {
     "model_module": "@jupyter-widgets/base",
     "model_module_version": "1.2.0",
     "model_name": "LayoutModel",
     "state": {
      "_model_module": "@jupyter-widgets/base",
      "_model_module_version": "1.2.0",
      "_model_name": "LayoutModel",
      "_view_count": null,
      "_view_module": "@jupyter-widgets/base",
      "_view_module_version": "1.2.0",
      "_view_name": "LayoutView",
      "align_content": null,
      "align_items": null,
      "align_self": null,
      "border": null,
      "bottom": null,
      "display": null,
      "flex": null,
      "flex_flow": null,
      "grid_area": null,
      "grid_auto_columns": null,
      "grid_auto_flow": null,
      "grid_auto_rows": null,
      "grid_column": null,
      "grid_gap": null,
      "grid_row": null,
      "grid_template_areas": null,
      "grid_template_columns": null,
      "grid_template_rows": null,
      "height": null,
      "justify_content": null,
      "justify_items": null,
      "left": null,
      "margin": null,
      "max_height": null,
      "max_width": null,
      "min_height": null,
      "min_width": null,
      "object_fit": null,
      "object_position": null,
      "order": null,
      "overflow": null,
      "overflow_x": null,
      "overflow_y": null,
      "padding": null,
      "right": null,
      "top": null,
      "visibility": null,
      "width": null
     }
    },
    "2c89518fce23489483225b3c11e66604": {
     "model_module": "@jupyter-widgets/controls",
     "model_module_version": "1.5.0",
     "model_name": "HTMLModel",
     "state": {
      "_dom_classes": [],
      "_model_module": "@jupyter-widgets/controls",
      "_model_module_version": "1.5.0",
      "_model_name": "HTMLModel",
      "_view_count": null,
      "_view_module": "@jupyter-widgets/controls",
      "_view_module_version": "1.5.0",
      "_view_name": "HTMLView",
      "description": "",
      "description_tooltip": null,
      "layout": "IPY_MODEL_72ec148d8e4b4b12a19a6aee8ea7e6ed",
      "placeholder": "​",
      "style": "IPY_MODEL_e63932228e36422da4aa30ce9f18ead2",
      "value": " 65/65 [01:14&lt;00:00,  1.83it/s]"
     }
    },
    "4550326e441847e487a7fb652bb8a127": {
     "model_module": "@jupyter-widgets/controls",
     "model_module_version": "1.5.0",
     "model_name": "ProgressStyleModel",
     "state": {
      "_model_module": "@jupyter-widgets/controls",
      "_model_module_version": "1.5.0",
      "_model_name": "ProgressStyleModel",
      "_view_count": null,
      "_view_module": "@jupyter-widgets/base",
      "_view_module_version": "1.2.0",
      "_view_name": "StyleView",
      "bar_color": null,
      "description_width": ""
     }
    },
    "54596f56861740559960ffa367bb9235": {
     "model_module": "@jupyter-widgets/base",
     "model_module_version": "1.2.0",
     "model_name": "LayoutModel",
     "state": {
      "_model_module": "@jupyter-widgets/base",
      "_model_module_version": "1.2.0",
      "_model_name": "LayoutModel",
      "_view_count": null,
      "_view_module": "@jupyter-widgets/base",
      "_view_module_version": "1.2.0",
      "_view_name": "LayoutView",
      "align_content": null,
      "align_items": null,
      "align_self": null,
      "border": null,
      "bottom": null,
      "display": null,
      "flex": null,
      "flex_flow": null,
      "grid_area": null,
      "grid_auto_columns": null,
      "grid_auto_flow": null,
      "grid_auto_rows": null,
      "grid_column": null,
      "grid_gap": null,
      "grid_row": null,
      "grid_template_areas": null,
      "grid_template_columns": null,
      "grid_template_rows": null,
      "height": null,
      "justify_content": null,
      "justify_items": null,
      "left": null,
      "margin": null,
      "max_height": null,
      "max_width": null,
      "min_height": null,
      "min_width": null,
      "object_fit": null,
      "object_position": null,
      "order": null,
      "overflow": null,
      "overflow_x": null,
      "overflow_y": null,
      "padding": null,
      "right": null,
      "top": null,
      "visibility": null,
      "width": null
     }
    },
    "627ffe612fcf4163b22da00e7141ec37": {
     "model_module": "@jupyter-widgets/controls",
     "model_module_version": "1.5.0",
     "model_name": "HTMLModel",
     "state": {
      "_dom_classes": [],
      "_model_module": "@jupyter-widgets/controls",
      "_model_module_version": "1.5.0",
      "_model_name": "HTMLModel",
      "_view_count": null,
      "_view_module": "@jupyter-widgets/controls",
      "_view_module_version": "1.5.0",
      "_view_name": "HTMLView",
      "description": "",
      "description_tooltip": null,
      "layout": "IPY_MODEL_54596f56861740559960ffa367bb9235",
      "placeholder": "​",
      "style": "IPY_MODEL_a33d5219e20646759981d8d15e9a6ca9",
      "value": "Processing: 100%"
     }
    },
    "72ec148d8e4b4b12a19a6aee8ea7e6ed": {
     "model_module": "@jupyter-widgets/base",
     "model_module_version": "1.2.0",
     "model_name": "LayoutModel",
     "state": {
      "_model_module": "@jupyter-widgets/base",
      "_model_module_version": "1.2.0",
      "_model_name": "LayoutModel",
      "_view_count": null,
      "_view_module": "@jupyter-widgets/base",
      "_view_module_version": "1.2.0",
      "_view_name": "LayoutView",
      "align_content": null,
      "align_items": null,
      "align_self": null,
      "border": null,
      "bottom": null,
      "display": null,
      "flex": null,
      "flex_flow": null,
      "grid_area": null,
      "grid_auto_columns": null,
      "grid_auto_flow": null,
      "grid_auto_rows": null,
      "grid_column": null,
      "grid_gap": null,
      "grid_row": null,
      "grid_template_areas": null,
      "grid_template_columns": null,
      "grid_template_rows": null,
      "height": null,
      "justify_content": null,
      "justify_items": null,
      "left": null,
      "margin": null,
      "max_height": null,
      "max_width": null,
      "min_height": null,
      "min_width": null,
      "object_fit": null,
      "object_position": null,
      "order": null,
      "overflow": null,
      "overflow_x": null,
      "overflow_y": null,
      "padding": null,
      "right": null,
      "top": null,
      "visibility": null,
      "width": null
     }
    },
    "904c2923e6634e24b75d563d14f32c43": {
     "model_module": "@jupyter-widgets/base",
     "model_module_version": "1.2.0",
     "model_name": "LayoutModel",
     "state": {
      "_model_module": "@jupyter-widgets/base",
      "_model_module_version": "1.2.0",
      "_model_name": "LayoutModel",
      "_view_count": null,
      "_view_module": "@jupyter-widgets/base",
      "_view_module_version": "1.2.0",
      "_view_name": "LayoutView",
      "align_content": null,
      "align_items": null,
      "align_self": null,
      "border": null,
      "bottom": null,
      "display": null,
      "flex": null,
      "flex_flow": null,
      "grid_area": null,
      "grid_auto_columns": null,
      "grid_auto_flow": null,
      "grid_auto_rows": null,
      "grid_column": null,
      "grid_gap": null,
      "grid_row": null,
      "grid_template_areas": null,
      "grid_template_columns": null,
      "grid_template_rows": null,
      "height": null,
      "justify_content": null,
      "justify_items": null,
      "left": null,
      "margin": null,
      "max_height": null,
      "max_width": null,
      "min_height": null,
      "min_width": null,
      "object_fit": null,
      "object_position": null,
      "order": null,
      "overflow": null,
      "overflow_x": null,
      "overflow_y": null,
      "padding": null,
      "right": null,
      "top": null,
      "visibility": "hidden",
      "width": null
     }
    },
    "a33d5219e20646759981d8d15e9a6ca9": {
     "model_module": "@jupyter-widgets/controls",
     "model_module_version": "1.5.0",
     "model_name": "DescriptionStyleModel",
     "state": {
      "_model_module": "@jupyter-widgets/controls",
      "_model_module_version": "1.5.0",
      "_model_name": "DescriptionStyleModel",
      "_view_count": null,
      "_view_module": "@jupyter-widgets/base",
      "_view_module_version": "1.2.0",
      "_view_name": "StyleView",
      "description_width": ""
     }
    },
    "b09a3f51768644979078adf5e2b7b47a": {
     "model_module": "@jupyter-widgets/controls",
     "model_module_version": "1.5.0",
     "model_name": "FloatProgressModel",
     "state": {
      "_dom_classes": [],
      "_model_module": "@jupyter-widgets/controls",
      "_model_module_version": "1.5.0",
      "_model_name": "FloatProgressModel",
      "_view_count": null,
      "_view_module": "@jupyter-widgets/controls",
      "_view_module_version": "1.5.0",
      "_view_name": "ProgressView",
      "bar_style": "",
      "description": "",
      "description_tooltip": null,
      "layout": "IPY_MODEL_2bda5170698d4f81adeed9a206f1e906",
      "max": 65,
      "min": 0,
      "orientation": "horizontal",
      "style": "IPY_MODEL_4550326e441847e487a7fb652bb8a127",
      "value": 65
     }
    },
    "bcc75b57124e4cdda8a4140a307673f8": {
     "model_module": "@jupyter-widgets/controls",
     "model_module_version": "1.5.0",
     "model_name": "HBoxModel",
     "state": {
      "_dom_classes": [],
      "_model_module": "@jupyter-widgets/controls",
      "_model_module_version": "1.5.0",
      "_model_name": "HBoxModel",
      "_view_count": null,
      "_view_module": "@jupyter-widgets/controls",
      "_view_module_version": "1.5.0",
      "_view_name": "HBoxView",
      "box_style": "",
      "children": [
       "IPY_MODEL_627ffe612fcf4163b22da00e7141ec37",
       "IPY_MODEL_b09a3f51768644979078adf5e2b7b47a",
       "IPY_MODEL_2c89518fce23489483225b3c11e66604"
      ],
      "layout": "IPY_MODEL_904c2923e6634e24b75d563d14f32c43"
     }
    },
    "e63932228e36422da4aa30ce9f18ead2": {
     "model_module": "@jupyter-widgets/controls",
     "model_module_version": "1.5.0",
     "model_name": "DescriptionStyleModel",
     "state": {
      "_model_module": "@jupyter-widgets/controls",
      "_model_module_version": "1.5.0",
      "_model_name": "DescriptionStyleModel",
      "_view_count": null,
      "_view_module": "@jupyter-widgets/base",
      "_view_module_version": "1.2.0",
      "_view_name": "StyleView",
      "description_width": ""
     }
    }
   }
  }
 },
 "nbformat": 4,
 "nbformat_minor": 5
}
