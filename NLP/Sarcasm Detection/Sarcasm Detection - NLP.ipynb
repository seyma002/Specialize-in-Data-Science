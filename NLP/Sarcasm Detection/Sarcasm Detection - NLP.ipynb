{
 "cells": [
  {
   "cell_type": "markdown",
   "id": "0457ee0e",
   "metadata": {},
   "source": [
    "## Sarcasm Detection - NLP"
   ]
  },
  {
   "cell_type": "markdown",
   "id": "2f8f4d7d",
   "metadata": {},
   "source": [
    "Sarcasm is one of the most complex and nuanced uses of language. It is a form of communication that often changes the meaning of something by saying the opposite of what it means. In addition to expressing humor and criticism while establishing a social bond between people, sarcasm is perceived based on cultural context, tone, and context. However, in the field of natural language processing (NLP), sarcasm detection is quite difficult due to the multi-layered nature of language.\n",
    "\n",
    "Traditional text analysis methods may be insufficient to capture subtle meanings such as sarcasm. For this reason, sarcasm detection has become an important topic in NLP research. Big data sources such as social media platforms, blogs, and online comments provide valuable ground for analyzing sarcastic expressions. When users' written expressions are examined with sentiment analysis and context-based methods, it allows the detection of sarcasm examples.\n",
    "\n",
    "The aim of this project is to use machine learning and deep learning techniques to automatically detect sarcasm in texts. Data obtained from users' written expressions will be used in model training to understand the context of the language, thus making the detection of sarcasm more effective."
   ]
  },
  {
   "cell_type": "markdown",
   "id": "cd26d9f6",
   "metadata": {},
   "source": [
    "<img src='sarcasm.jpg' width=550 >"
   ]
  },
  {
   "cell_type": "markdown",
   "id": "7f95e874",
   "metadata": {},
   "source": [
    "### Import Libraries"
   ]
  },
  {
   "cell_type": "code",
   "execution_count": 1,
   "id": "a097d799",
   "metadata": {},
   "outputs": [],
   "source": [
    "import nltk\n",
    "import warnings \n",
    "warnings.filterwarnings('ignore')\n",
    "\n",
    "import pandas as pd\n",
    "import seaborn as sns"
   ]
  },
  {
   "cell_type": "code",
   "execution_count": 2,
   "id": "a0fb77d0",
   "metadata": {},
   "outputs": [],
   "source": [
    "df=pd.read_json('Sarcasm.json', lines=True)\n",
    "#Read the file."
   ]
  },
  {
   "cell_type": "markdown",
   "id": "f4878d66",
   "metadata": {},
   "source": [
    "### EDA - Exploratory Data Analysis"
   ]
  },
  {
   "cell_type": "code",
   "execution_count": 3,
   "id": "c168b4a3",
   "metadata": {},
   "outputs": [
    {
     "data": {
      "text/html": [
       "<div>\n",
       "<style scoped>\n",
       "    .dataframe tbody tr th:only-of-type {\n",
       "        vertical-align: middle;\n",
       "    }\n",
       "\n",
       "    .dataframe tbody tr th {\n",
       "        vertical-align: top;\n",
       "    }\n",
       "\n",
       "    .dataframe thead th {\n",
       "        text-align: right;\n",
       "    }\n",
       "</style>\n",
       "<table border=\"1\" class=\"dataframe\">\n",
       "  <thead>\n",
       "    <tr style=\"text-align: right;\">\n",
       "      <th></th>\n",
       "      <th>article_link</th>\n",
       "      <th>headline</th>\n",
       "      <th>is_sarcastic</th>\n",
       "    </tr>\n",
       "  </thead>\n",
       "  <tbody>\n",
       "    <tr>\n",
       "      <th>0</th>\n",
       "      <td>https://www.huffingtonpost.com/entry/versace-b...</td>\n",
       "      <td>former versace store clerk sues over secret 'b...</td>\n",
       "      <td>0</td>\n",
       "    </tr>\n",
       "    <tr>\n",
       "      <th>1</th>\n",
       "      <td>https://www.huffingtonpost.com/entry/roseanne-...</td>\n",
       "      <td>the 'roseanne' revival catches up to our thorn...</td>\n",
       "      <td>0</td>\n",
       "    </tr>\n",
       "    <tr>\n",
       "      <th>2</th>\n",
       "      <td>https://local.theonion.com/mom-starting-to-fea...</td>\n",
       "      <td>mom starting to fear son's web series closest ...</td>\n",
       "      <td>1</td>\n",
       "    </tr>\n",
       "    <tr>\n",
       "      <th>3</th>\n",
       "      <td>https://politics.theonion.com/boehner-just-wan...</td>\n",
       "      <td>boehner just wants wife to listen, not come up...</td>\n",
       "      <td>1</td>\n",
       "    </tr>\n",
       "    <tr>\n",
       "      <th>4</th>\n",
       "      <td>https://www.huffingtonpost.com/entry/jk-rowlin...</td>\n",
       "      <td>j.k. rowling wishes snape happy birthday in th...</td>\n",
       "      <td>0</td>\n",
       "    </tr>\n",
       "  </tbody>\n",
       "</table>\n",
       "</div>"
      ],
      "text/plain": [
       "                                        article_link  \\\n",
       "0  https://www.huffingtonpost.com/entry/versace-b...   \n",
       "1  https://www.huffingtonpost.com/entry/roseanne-...   \n",
       "2  https://local.theonion.com/mom-starting-to-fea...   \n",
       "3  https://politics.theonion.com/boehner-just-wan...   \n",
       "4  https://www.huffingtonpost.com/entry/jk-rowlin...   \n",
       "\n",
       "                                            headline  is_sarcastic  \n",
       "0  former versace store clerk sues over secret 'b...             0  \n",
       "1  the 'roseanne' revival catches up to our thorn...             0  \n",
       "2  mom starting to fear son's web series closest ...             1  \n",
       "3  boehner just wants wife to listen, not come up...             1  \n",
       "4  j.k. rowling wishes snape happy birthday in th...             0  "
      ]
     },
     "execution_count": 3,
     "metadata": {},
     "output_type": "execute_result"
    }
   ],
   "source": [
    "df.head()"
   ]
  },
  {
   "cell_type": "code",
   "execution_count": 4,
   "id": "e717eac1",
   "metadata": {},
   "outputs": [
    {
     "name": "stdout",
     "output_type": "stream",
     "text": [
      "<class 'pandas.core.frame.DataFrame'>\n",
      "RangeIndex: 26709 entries, 0 to 26708\n",
      "Data columns (total 3 columns):\n",
      " #   Column        Non-Null Count  Dtype \n",
      "---  ------        --------------  ----- \n",
      " 0   article_link  26709 non-null  object\n",
      " 1   headline      26709 non-null  object\n",
      " 2   is_sarcastic  26709 non-null  int64 \n",
      "dtypes: int64(1), object(2)\n",
      "memory usage: 626.1+ KB\n"
     ]
    }
   ],
   "source": [
    "df.info()"
   ]
  },
  {
   "cell_type": "code",
   "execution_count": 5,
   "id": "737714eb",
   "metadata": {},
   "outputs": [
    {
     "data": {
      "text/plain": [
       "(26709, 3)"
      ]
     },
     "execution_count": 5,
     "metadata": {},
     "output_type": "execute_result"
    }
   ],
   "source": [
    "df.shape"
   ]
  },
  {
   "cell_type": "code",
   "execution_count": 6,
   "id": "b6757e2a",
   "metadata": {},
   "outputs": [],
   "source": [
    "df=df[['headline','is_sarcastic']]\n",
    "#We get the required columns"
   ]
  },
  {
   "cell_type": "code",
   "execution_count": 7,
   "id": "f493fd25",
   "metadata": {},
   "outputs": [
    {
     "data": {
      "text/plain": [
       "headline        0\n",
       "is_sarcastic    0\n",
       "dtype: int64"
      ]
     },
     "execution_count": 7,
     "metadata": {},
     "output_type": "execute_result"
    }
   ],
   "source": [
    "df.isnull().sum()"
   ]
  },
  {
   "cell_type": "code",
   "execution_count": 9,
   "id": "0fd5e544",
   "metadata": {},
   "outputs": [],
   "source": [
    "df['headline']=df['headline'].str.lower()\n",
    "df['headline']=df['headline'].str.replace(\"[^\\w\\s]\" , \"\",regex=True)\n",
    "df['headline']=df['headline'].str.replace('[\\n]', '',regex=True)\n",
    "df['headline']=df['headline'].str.replace('\\d+','',regex=True)\n",
    "df['headline']=df['headline'].str.replace('\\r',' ')"
   ]
  },
  {
   "cell_type": "code",
   "execution_count": 10,
   "id": "8ae6e634",
   "metadata": {},
   "outputs": [
    {
     "data": {
      "text/plain": [
       "'former versace store clerk sues over secret black code for minority shoppers'"
      ]
     },
     "execution_count": 10,
     "metadata": {},
     "output_type": "execute_result"
    }
   ],
   "source": [
    "df['headline'][0]"
   ]
  },
  {
   "cell_type": "code",
   "execution_count": 11,
   "id": "1dce69d4",
   "metadata": {},
   "outputs": [
    {
     "data": {
      "text/plain": [
       "is_sarcastic\n",
       "0    14985\n",
       "1    11724\n",
       "Name: count, dtype: int64"
      ]
     },
     "execution_count": 11,
     "metadata": {},
     "output_type": "execute_result"
    }
   ],
   "source": [
    "df['is_sarcastic'].value_counts()"
   ]
  },
  {
   "cell_type": "code",
   "execution_count": 12,
   "id": "2a30a5cf",
   "metadata": {},
   "outputs": [],
   "source": [
    "df['is_sarcastic']=df['is_sarcastic'].map({1:'Sarcasm', 0:'Not Sarcasm'})"
   ]
  },
  {
   "cell_type": "code",
   "execution_count": 13,
   "id": "f4c2f821",
   "metadata": {},
   "outputs": [
    {
     "data": {
      "image/png": "[encoded data removed]",
      "text/plain": [
       "<Figure size 640x480 with 1 Axes>"
      ]
     },
     "metadata": {},
     "output_type": "display_data"
    }
   ],
   "source": [
    "sns.countplot(x=df['is_sarcastic']);"
   ]
  },
  {
   "cell_type": "code",
   "execution_count": 14,
   "id": "dfca012a",
   "metadata": {},
   "outputs": [
    {
     "name": "stderr",
     "output_type": "stream",
     "text": [
      "[nltk_data] Downloading package wordnet to\n",
      "[nltk_data]     C:\\Users\\ASUS\\AppData\\Roaming\\nltk_data...\n",
      "[nltk_data]   Package wordnet is already up-to-date!\n"
     ]
    },
    {
     "data": {
      "text/plain": [
       "True"
      ]
     },
     "execution_count": 14,
     "metadata": {},
     "output_type": "execute_result"
    }
   ],
   "source": [
    "nltk.download('wordnet')"
   ]
  },
  {
   "cell_type": "markdown",
   "id": "2a28880c",
   "metadata": {},
   "source": [
    "### Separating Non-English Languages"
   ]
  },
  {
   "cell_type": "code",
   "execution_count": 15,
   "id": "2fc5ac60",
   "metadata": {},
   "outputs": [],
   "source": [
    "#pip install langdetect"
   ]
  },
  {
   "cell_type": "code",
   "execution_count": 16,
   "id": "b4084ddd",
   "metadata": {},
   "outputs": [],
   "source": [
    "from langdetect import detect"
   ]
  },
  {
   "cell_type": "code",
   "execution_count": 17,
   "id": "8f2accdc",
   "metadata": {},
   "outputs": [],
   "source": [
    "df['lang']=df['headline'].apply(lambda x: detect(x))"
   ]
  },
  {
   "cell_type": "code",
   "execution_count": 18,
   "id": "f3271df8",
   "metadata": {},
   "outputs": [
    {
     "data": {
      "text/plain": [
       "lang\n",
       "en    25400\n",
       "fr      192\n",
       "af      149\n",
       "da      133\n",
       "it      119\n",
       "no      115\n",
       "ca      113\n",
       "nl      109\n",
       "es       59\n",
       "sv       49\n",
       "ro       44\n",
       "et       31\n",
       "cy       29\n",
       "pt       27\n",
       "id       25\n",
       "tl       24\n",
       "so       13\n",
       "de       13\n",
       "lv       12\n",
       "fi       10\n",
       "sk        8\n",
       "hr        7\n",
       "pl        6\n",
       "sl        6\n",
       "sq        5\n",
       "lt        4\n",
       "cs        3\n",
       "hu        2\n",
       "tr        1\n",
       "sw        1\n",
       "Name: count, dtype: int64"
      ]
     },
     "execution_count": 18,
     "metadata": {},
     "output_type": "execute_result"
    }
   ],
   "source": [
    "df['lang'].value_counts()"
   ]
  },
  {
   "cell_type": "code",
   "execution_count": 19,
   "id": "6e9d4370",
   "metadata": {},
   "outputs": [],
   "source": [
    "df=df[df['lang'] == 'en']"
   ]
  },
  {
   "cell_type": "code",
   "execution_count": 20,
   "id": "8d0ed40a",
   "metadata": {},
   "outputs": [
    {
     "data": {
      "text/plain": [
       "array(['en'], dtype=object)"
      ]
     },
     "execution_count": 20,
     "metadata": {},
     "output_type": "execute_result"
    }
   ],
   "source": [
    "df['lang'].unique()"
   ]
  },
  {
   "cell_type": "code",
   "execution_count": 21,
   "id": "3308ab45",
   "metadata": {},
   "outputs": [
    {
     "data": {
      "text/html": [
       "<div>\n",
       "<style scoped>\n",
       "    .dataframe tbody tr th:only-of-type {\n",
       "        vertical-align: middle;\n",
       "    }\n",
       "\n",
       "    .dataframe tbody tr th {\n",
       "        vertical-align: top;\n",
       "    }\n",
       "\n",
       "    .dataframe thead th {\n",
       "        text-align: right;\n",
       "    }\n",
       "</style>\n",
       "<table border=\"1\" class=\"dataframe\">\n",
       "  <thead>\n",
       "    <tr style=\"text-align: right;\">\n",
       "      <th></th>\n",
       "      <th>headline</th>\n",
       "      <th>is_sarcastic</th>\n",
       "      <th>lang</th>\n",
       "    </tr>\n",
       "  </thead>\n",
       "  <tbody>\n",
       "    <tr>\n",
       "      <th>0</th>\n",
       "      <td>former versace store clerk sues over secret bl...</td>\n",
       "      <td>Not Sarcasm</td>\n",
       "      <td>en</td>\n",
       "    </tr>\n",
       "    <tr>\n",
       "      <th>1</th>\n",
       "      <td>the roseanne revival catches up to our thorny ...</td>\n",
       "      <td>Not Sarcasm</td>\n",
       "      <td>en</td>\n",
       "    </tr>\n",
       "    <tr>\n",
       "      <th>2</th>\n",
       "      <td>mom starting to fear sons web series closest t...</td>\n",
       "      <td>Sarcasm</td>\n",
       "      <td>en</td>\n",
       "    </tr>\n",
       "    <tr>\n",
       "      <th>3</th>\n",
       "      <td>boehner just wants wife to listen not come up ...</td>\n",
       "      <td>Sarcasm</td>\n",
       "      <td>en</td>\n",
       "    </tr>\n",
       "    <tr>\n",
       "      <th>4</th>\n",
       "      <td>jk rowling wishes snape happy birthday in the ...</td>\n",
       "      <td>Not Sarcasm</td>\n",
       "      <td>en</td>\n",
       "    </tr>\n",
       "  </tbody>\n",
       "</table>\n",
       "</div>"
      ],
      "text/plain": [
       "                                            headline is_sarcastic lang\n",
       "0  former versace store clerk sues over secret bl...  Not Sarcasm   en\n",
       "1  the roseanne revival catches up to our thorny ...  Not Sarcasm   en\n",
       "2  mom starting to fear sons web series closest t...      Sarcasm   en\n",
       "3  boehner just wants wife to listen not come up ...      Sarcasm   en\n",
       "4  jk rowling wishes snape happy birthday in the ...  Not Sarcasm   en"
      ]
     },
     "execution_count": 21,
     "metadata": {},
     "output_type": "execute_result"
    }
   ],
   "source": [
    "df.head()"
   ]
  },
  {
   "cell_type": "markdown",
   "id": "404e9cfe",
   "metadata": {},
   "source": [
    "### WordCloud"
   ]
  },
  {
   "cell_type": "code",
   "execution_count": 22,
   "id": "ea3642c3",
   "metadata": {},
   "outputs": [],
   "source": [
    "from wordcloud import WordCloud\n",
    "from wordcloud import STOPWORDS\n",
    "from PIL import Image \n",
    "import numpy as np\n",
    "import matplotlib.pyplot as plt"
   ]
  },
  {
   "cell_type": "code",
   "execution_count": 23,
   "id": "c94993a6",
   "metadata": {},
   "outputs": [],
   "source": [
    "def wc(data,bgcolor):\n",
    "    plt.figure(figsize=(8,8))\n",
    "    mask=np.array(Image.open('cloud.png'))\n",
    "    wc=WordCloud(background_color=bgcolor,stopwords=STOPWORDS,mask=mask)\n",
    "    wc.generate(' '.join(data))\n",
    "    plt.imshow(wc)\n",
    "    plt.axis('off')"
   ]
  },
  {
   "cell_type": "code",
   "execution_count": 24,
   "id": "0ebbfb82",
   "metadata": {},
   "outputs": [
    {
     "data": {
      "image/png": "[encoded data removed]",
      "text/plain": [
       "<Figure size 800x800 with 1 Axes>"
      ]
     },
     "metadata": {},
     "output_type": "display_data"
    }
   ],
   "source": [
    "wc(df['headline'],'white')"
   ]
  },
  {
   "cell_type": "markdown",
   "id": "f19332c7",
   "metadata": {},
   "source": [
    "### Polarity-Subjectivity"
   ]
  },
  {
   "cell_type": "code",
   "execution_count": 25,
   "id": "d1a1248b",
   "metadata": {},
   "outputs": [],
   "source": [
    "from textblob import TextBlob"
   ]
  },
  {
   "cell_type": "code",
   "execution_count": 26,
   "id": "c0da2a26",
   "metadata": {},
   "outputs": [],
   "source": [
    "df['polarity'] = df['headline'].apply(lambda x: TextBlob(x).sentiment.polarity)\n",
    "df['subjectivity']= df['headline'].apply(lambda x: TextBlob(x).sentiment.subjectivity)"
   ]
  },
  {
   "cell_type": "code",
   "execution_count": 27,
   "id": "273c31e3",
   "metadata": {},
   "outputs": [
    {
     "data": {
      "text/html": [
       "<div>\n",
       "<style scoped>\n",
       "    .dataframe tbody tr th:only-of-type {\n",
       "        vertical-align: middle;\n",
       "    }\n",
       "\n",
       "    .dataframe tbody tr th {\n",
       "        vertical-align: top;\n",
       "    }\n",
       "\n",
       "    .dataframe thead th {\n",
       "        text-align: right;\n",
       "    }\n",
       "</style>\n",
       "<table border=\"1\" class=\"dataframe\">\n",
       "  <thead>\n",
       "    <tr style=\"text-align: right;\">\n",
       "      <th></th>\n",
       "      <th>headline</th>\n",
       "      <th>is_sarcastic</th>\n",
       "      <th>lang</th>\n",
       "      <th>polarity</th>\n",
       "      <th>subjectivity</th>\n",
       "    </tr>\n",
       "  </thead>\n",
       "  <tbody>\n",
       "    <tr>\n",
       "      <th>0</th>\n",
       "      <td>former versace store clerk sues over secret bl...</td>\n",
       "      <td>Not Sarcasm</td>\n",
       "      <td>en</td>\n",
       "      <td>-0.188889</td>\n",
       "      <td>0.377778</td>\n",
       "    </tr>\n",
       "    <tr>\n",
       "      <th>1</th>\n",
       "      <td>the roseanne revival catches up to our thorny ...</td>\n",
       "      <td>Not Sarcasm</td>\n",
       "      <td>en</td>\n",
       "      <td>0.033333</td>\n",
       "      <td>0.400000</td>\n",
       "    </tr>\n",
       "    <tr>\n",
       "      <th>2</th>\n",
       "      <td>mom starting to fear sons web series closest t...</td>\n",
       "      <td>Sarcasm</td>\n",
       "      <td>en</td>\n",
       "      <td>0.000000</td>\n",
       "      <td>0.100000</td>\n",
       "    </tr>\n",
       "    <tr>\n",
       "      <th>3</th>\n",
       "      <td>boehner just wants wife to listen not come up ...</td>\n",
       "      <td>Sarcasm</td>\n",
       "      <td>en</td>\n",
       "      <td>0.200000</td>\n",
       "      <td>0.100000</td>\n",
       "    </tr>\n",
       "    <tr>\n",
       "      <th>4</th>\n",
       "      <td>jk rowling wishes snape happy birthday in the ...</td>\n",
       "      <td>Not Sarcasm</td>\n",
       "      <td>en</td>\n",
       "      <td>0.600000</td>\n",
       "      <td>0.833333</td>\n",
       "    </tr>\n",
       "  </tbody>\n",
       "</table>\n",
       "</div>"
      ],
      "text/plain": [
       "                                            headline is_sarcastic lang  \\\n",
       "0  former versace store clerk sues over secret bl...  Not Sarcasm   en   \n",
       "1  the roseanne revival catches up to our thorny ...  Not Sarcasm   en   \n",
       "2  mom starting to fear sons web series closest t...      Sarcasm   en   \n",
       "3  boehner just wants wife to listen not come up ...      Sarcasm   en   \n",
       "4  jk rowling wishes snape happy birthday in the ...  Not Sarcasm   en   \n",
       "\n",
       "   polarity  subjectivity  \n",
       "0 -0.188889      0.377778  \n",
       "1  0.033333      0.400000  \n",
       "2  0.000000      0.100000  \n",
       "3  0.200000      0.100000  \n",
       "4  0.600000      0.833333  "
      ]
     },
     "execution_count": 27,
     "metadata": {},
     "output_type": "execute_result"
    }
   ],
   "source": [
    "df.head()"
   ]
  },
  {
   "cell_type": "markdown",
   "id": "574708fa",
   "metadata": {},
   "source": [
    "### Removing Stop Words and Vectorizing"
   ]
  },
  {
   "cell_type": "code",
   "execution_count": 28,
   "id": "45c706ab",
   "metadata": {},
   "outputs": [],
   "source": [
    "from nltk.stem import PorterStemmer\n",
    "pr=PorterStemmer()"
   ]
  },
  {
   "cell_type": "code",
   "execution_count": 30,
   "id": "eba418b7",
   "metadata": {},
   "outputs": [],
   "source": [
    "from sklearn.feature_extraction.text import CountVectorizer,TfidfVectorizer"
   ]
  },
  {
   "cell_type": "code",
   "execution_count": 29,
   "id": "af73f74f",
   "metadata": {},
   "outputs": [],
   "source": [
    "def lemmafn(text):\n",
    "    words=TextBlob(text).words\n",
    "    return [pr.stem(word) for word in words]"
   ]
  },
  {
   "cell_type": "code",
   "execution_count": 31,
   "id": "82cf3d70",
   "metadata": {},
   "outputs": [],
   "source": [
    "vect=CountVectorizer(stop_words='english',ngram_range=(1,2),max_features=10000,analyzer=lemmafn)"
   ]
  },
  {
   "cell_type": "markdown",
   "id": "883e2d89",
   "metadata": {},
   "source": [
    "### Modelling"
   ]
  },
  {
   "cell_type": "code",
   "execution_count": 32,
   "id": "e43589c2",
   "metadata": {},
   "outputs": [],
   "source": [
    "from sklearn.naive_bayes import BernoulliNB\n",
    "from sklearn.model_selection import train_test_split\n",
    "from sklearn.metrics import accuracy_score, confusion_matrix, classification_report"
   ]
  },
  {
   "cell_type": "code",
   "execution_count": 33,
   "id": "1c176508",
   "metadata": {},
   "outputs": [],
   "source": [
    "x=df['headline']\n",
    "y=df['is_sarcastic']"
   ]
  },
  {
   "cell_type": "code",
   "execution_count": 34,
   "id": "1579595a",
   "metadata": {},
   "outputs": [],
   "source": [
    "x=vect.fit_transform(x)"
   ]
  },
  {
   "cell_type": "code",
   "execution_count": 35,
   "id": "6b9f4cfe",
   "metadata": {},
   "outputs": [],
   "source": [
    "x_train,x_test,y_train,y_test= train_test_split(x,y, random_state=42,test_size=.20)"
   ]
  },
  {
   "cell_type": "code",
   "execution_count": 36,
   "id": "0a302971",
   "metadata": {},
   "outputs": [],
   "source": [
    "b=BernoulliNB()\n",
    "model=b.fit(x_train,y_train)"
   ]
  },
  {
   "cell_type": "code",
   "execution_count": 37,
   "id": "486bbe6e",
   "metadata": {},
   "outputs": [
    {
     "data": {
      "text/plain": [
       "0.8452755905511811"
      ]
     },
     "execution_count": 37,
     "metadata": {},
     "output_type": "execute_result"
    }
   ],
   "source": [
    "bpred=b.predict(x_test)\n",
    "accuracy_score(bpred,y_test)"
   ]
  },
  {
   "cell_type": "code",
   "execution_count": 38,
   "id": "915bad5e",
   "metadata": {},
   "outputs": [
    {
     "name": "stdout",
     "output_type": "stream",
     "text": [
      "              precision    recall  f1-score   support\n",
      "\n",
      " Not Sarcasm       0.88      0.85      0.87      2977\n",
      "     Sarcasm       0.80      0.84      0.82      2103\n",
      "\n",
      "    accuracy                           0.85      5080\n",
      "   macro avg       0.84      0.84      0.84      5080\n",
      "weighted avg       0.85      0.85      0.85      5080\n",
      "\n"
     ]
    }
   ],
   "source": [
    "print(classification_report(bpred, y_test))"
   ]
  },
  {
   "cell_type": "code",
   "execution_count": 39,
   "id": "8c6bda2a",
   "metadata": {},
   "outputs": [
    {
     "data": {
      "text/plain": [
       "array([[2524,  453],\n",
       "       [ 333, 1770]], dtype=int64)"
      ]
     },
     "execution_count": 39,
     "metadata": {},
     "output_type": "execute_result"
    }
   ],
   "source": [
    "confusion_matrix(bpred, y_test)"
   ]
  },
  {
   "cell_type": "code",
   "execution_count": 40,
   "id": "27dfdda6",
   "metadata": {},
   "outputs": [
    {
     "data": {
      "image/png": "[encoded data removed]",
      "text/plain": [
       "<Figure size 640x480 with 2 Axes>"
      ]
     },
     "metadata": {},
     "output_type": "display_data"
    }
   ],
   "source": [
    "cm = confusion_matrix(bpred, y_test)\n",
    "normalized_cm = cm / cm.sum()\n",
    "sns.heatmap(normalized_cm, annot=True, cmap='Greens');"
   ]
  },
  {
   "cell_type": "code",
   "execution_count": 41,
   "id": "41da8180",
   "metadata": {},
   "outputs": [],
   "source": [
    "import pandas as pd\n",
    "import numpy as np\n",
    "\n",
    "from sklearn.linear_model import LogisticRegression\n",
    "from sklearn.naive_bayes import  BernoulliNB, MultinomialNB\n",
    "from sklearn.neighbors import KNeighborsClassifier\n",
    "from sklearn.tree import DecisionTreeClassifier\n",
    "from sklearn.ensemble import RandomForestClassifier, AdaBoostClassifier, GradientBoostingClassifier\n",
    "from sklearn.svm import SVC\n",
    "from sklearn.neural_network import MLPClassifier\n",
    "\n",
    "from sklearn.model_selection import train_test_split\n",
    "from sklearn.metrics import accuracy_score, precision_score, recall_score, f1_score\n",
    "\n",
    "def algo_test(x, y):\n",
    "    \n",
    "    lr = LogisticRegression(max_iter=1000)\n",
    "    b = BernoulliNB()\n",
    "    nb = MultinomialNB()\n",
    "    knn = KNeighborsClassifier()\n",
    "    dt = DecisionTreeClassifier()\n",
    "    rf = RandomForestClassifier()\n",
    "    abc = AdaBoostClassifier()\n",
    "    gbc = GradientBoostingClassifier()\n",
    "    svc = SVC()\n",
    "    mlp = MLPClassifier(max_iter=1000)\n",
    "\n",
    "    algos = [lr,b, nb, knn, dt, rf, abc, gbc, svc, mlp]\n",
    "    algo_names = ['Logistic Regression', 'BernoulliNB', 'MultinomialNB', 'K-Nearest Neighbors',\n",
    "                  'Decision Tree', 'Random Forest', 'AdaBoost', 'Gradient Boosting', 'SVM', 'MLP Classifier']\n",
    "\n",
    "    x_train, x_test, y_train, y_test = train_test_split(x, y, test_size=0.2, random_state=42)\n",
    "\n",
    "    accuracy = []\n",
    "    precision = []\n",
    "    recall = []\n",
    "    f1 = []\n",
    "\n",
    "    \n",
    "    result = pd.DataFrame(columns=['Accuracy', 'Precision', 'Recall', 'F1-score'], index=algo_names)\n",
    "    \n",
    "    for algo in algos:\n",
    "        algo.fit(x_train, y_train)\n",
    "        y_pred = algo.predict(x_test)\n",
    "        accuracy.append(accuracy_score(y_test, y_pred))\n",
    "        precision.append(precision_score(y_test, y_pred, average='weighted'))\n",
    "        recall.append(recall_score(y_test, y_pred, average='weighted'))\n",
    "        f1.append(f1_score(y_test, y_pred, average='weighted'))\n",
    "        \n",
    "    result['Accuracy'] = accuracy\n",
    "    result['Precision'] = precision\n",
    "    result['Recall'] = recall\n",
    "    result['F1-score'] = f1\n",
    "    \n",
    "    \n",
    "    rtable = result.sort_values('Accuracy', ascending=False)\n",
    "    return rtable\n"
   ]
  },
  {
   "cell_type": "code",
   "execution_count": 42,
   "id": "b5a4f8e1",
   "metadata": {},
   "outputs": [
    {
     "data": {
      "text/html": [
       "<div>\n",
       "<style scoped>\n",
       "    .dataframe tbody tr th:only-of-type {\n",
       "        vertical-align: middle;\n",
       "    }\n",
       "\n",
       "    .dataframe tbody tr th {\n",
       "        vertical-align: top;\n",
       "    }\n",
       "\n",
       "    .dataframe thead th {\n",
       "        text-align: right;\n",
       "    }\n",
       "</style>\n",
       "<table border=\"1\" class=\"dataframe\">\n",
       "  <thead>\n",
       "    <tr style=\"text-align: right;\">\n",
       "      <th></th>\n",
       "      <th>Accuracy</th>\n",
       "      <th>Precision</th>\n",
       "      <th>Recall</th>\n",
       "      <th>F1-score</th>\n",
       "    </tr>\n",
       "  </thead>\n",
       "  <tbody>\n",
       "    <tr>\n",
       "      <th>SVM</th>\n",
       "      <td>0.848622</td>\n",
       "      <td>0.849312</td>\n",
       "      <td>0.848622</td>\n",
       "      <td>0.848836</td>\n",
       "    </tr>\n",
       "    <tr>\n",
       "      <th>MultinomialNB</th>\n",
       "      <td>0.846063</td>\n",
       "      <td>0.845815</td>\n",
       "      <td>0.846063</td>\n",
       "      <td>0.845656</td>\n",
       "    </tr>\n",
       "    <tr>\n",
       "      <th>BernoulliNB</th>\n",
       "      <td>0.845276</td>\n",
       "      <td>0.845130</td>\n",
       "      <td>0.845276</td>\n",
       "      <td>0.844721</td>\n",
       "    </tr>\n",
       "    <tr>\n",
       "      <th>Logistic Regression</th>\n",
       "      <td>0.843898</td>\n",
       "      <td>0.843631</td>\n",
       "      <td>0.843898</td>\n",
       "      <td>0.843664</td>\n",
       "    </tr>\n",
       "    <tr>\n",
       "      <th>Random Forest</th>\n",
       "      <td>0.815354</td>\n",
       "      <td>0.814922</td>\n",
       "      <td>0.815354</td>\n",
       "      <td>0.814854</td>\n",
       "    </tr>\n",
       "    <tr>\n",
       "      <th>MLP Classifier</th>\n",
       "      <td>0.810039</td>\n",
       "      <td>0.809710</td>\n",
       "      <td>0.810039</td>\n",
       "      <td>0.809810</td>\n",
       "    </tr>\n",
       "    <tr>\n",
       "      <th>Gradient Boosting</th>\n",
       "      <td>0.761024</td>\n",
       "      <td>0.777959</td>\n",
       "      <td>0.761024</td>\n",
       "      <td>0.761588</td>\n",
       "    </tr>\n",
       "    <tr>\n",
       "      <th>Decision Tree</th>\n",
       "      <td>0.756890</td>\n",
       "      <td>0.756201</td>\n",
       "      <td>0.756890</td>\n",
       "      <td>0.756379</td>\n",
       "    </tr>\n",
       "    <tr>\n",
       "      <th>AdaBoost</th>\n",
       "      <td>0.751378</td>\n",
       "      <td>0.751896</td>\n",
       "      <td>0.751378</td>\n",
       "      <td>0.747944</td>\n",
       "    </tr>\n",
       "    <tr>\n",
       "      <th>K-Nearest Neighbors</th>\n",
       "      <td>0.630315</td>\n",
       "      <td>0.654157</td>\n",
       "      <td>0.630315</td>\n",
       "      <td>0.583341</td>\n",
       "    </tr>\n",
       "  </tbody>\n",
       "</table>\n",
       "</div>"
      ],
      "text/plain": [
       "                     Accuracy  Precision    Recall  F1-score\n",
       "SVM                  0.848622   0.849312  0.848622  0.848836\n",
       "MultinomialNB        0.846063   0.845815  0.846063  0.845656\n",
       "BernoulliNB          0.845276   0.845130  0.845276  0.844721\n",
       "Logistic Regression  0.843898   0.843631  0.843898  0.843664\n",
       "Random Forest        0.815354   0.814922  0.815354  0.814854\n",
       "MLP Classifier       0.810039   0.809710  0.810039  0.809810\n",
       "Gradient Boosting    0.761024   0.777959  0.761024  0.761588\n",
       "Decision Tree        0.756890   0.756201  0.756890  0.756379\n",
       "AdaBoost             0.751378   0.751896  0.751378  0.747944\n",
       "K-Nearest Neighbors  0.630315   0.654157  0.630315  0.583341"
      ]
     },
     "execution_count": 42,
     "metadata": {},
     "output_type": "execute_result"
    }
   ],
   "source": [
    "algo_test(x,y)"
   ]
  },
  {
   "cell_type": "markdown",
   "id": "b24298c1",
   "metadata": {},
   "source": [
    "### AutoML with PyCaret"
   ]
  },
  {
   "cell_type": "code",
   "execution_count": 43,
   "id": "76e1d1f2",
   "metadata": {},
   "outputs": [],
   "source": [
    "x=df['headline']\n",
    "y=df['is_sarcastic']"
   ]
  },
  {
   "cell_type": "code",
   "execution_count": 44,
   "id": "b993b0d9",
   "metadata": {},
   "outputs": [],
   "source": [
    "from pycaret.classification import*"
   ]
  },
  {
   "cell_type": "code",
   "execution_count": 45,
   "id": "0980eb14",
   "metadata": {},
   "outputs": [
    {
     "data": {
      "text/html": [
       "<style type=\"text/css\">\n",
       "#T_b848b_row10_col1 {\n",
       "  background-color: lightgreen;\n",
       "}\n",
       "</style>\n",
       "<table id=\"T_b848b\">\n",
       "  <thead>\n",
       "    <tr>\n",
       "      <th class=\"blank level0\" >&nbsp;</th>\n",
       "      <th id=\"T_b848b_level0_col0\" class=\"col_heading level0 col0\" >Description</th>\n",
       "      <th id=\"T_b848b_level0_col1\" class=\"col_heading level0 col1\" >Value</th>\n",
       "    </tr>\n",
       "  </thead>\n",
       "  <tbody>\n",
       "    <tr>\n",
       "      <th id=\"T_b848b_level0_row0\" class=\"row_heading level0 row0\" >0</th>\n",
       "      <td id=\"T_b848b_row0_col0\" class=\"data row0 col0\" >Session id</td>\n",
       "      <td id=\"T_b848b_row0_col1\" class=\"data row0 col1\" >996</td>\n",
       "    </tr>\n",
       "    <tr>\n",
       "      <th id=\"T_b848b_level0_row1\" class=\"row_heading level0 row1\" >1</th>\n",
       "      <td id=\"T_b848b_row1_col0\" class=\"data row1 col0\" >Target</td>\n",
       "      <td id=\"T_b848b_row1_col1\" class=\"data row1 col1\" >is_sarcastic</td>\n",
       "    </tr>\n",
       "    <tr>\n",
       "      <th id=\"T_b848b_level0_row2\" class=\"row_heading level0 row2\" >2</th>\n",
       "      <td id=\"T_b848b_row2_col0\" class=\"data row2 col0\" >Target type</td>\n",
       "      <td id=\"T_b848b_row2_col1\" class=\"data row2 col1\" >Binary</td>\n",
       "    </tr>\n",
       "    <tr>\n",
       "      <th id=\"T_b848b_level0_row3\" class=\"row_heading level0 row3\" >3</th>\n",
       "      <td id=\"T_b848b_row3_col0\" class=\"data row3 col0\" >Target mapping</td>\n",
       "      <td id=\"T_b848b_row3_col1\" class=\"data row3 col1\" >Not Sarcasm: 0, Sarcasm: 1</td>\n",
       "    </tr>\n",
       "    <tr>\n",
       "      <th id=\"T_b848b_level0_row4\" class=\"row_heading level0 row4\" >4</th>\n",
       "      <td id=\"T_b848b_row4_col0\" class=\"data row4 col0\" >Original data shape</td>\n",
       "      <td id=\"T_b848b_row4_col1\" class=\"data row4 col1\" >(25400, 5)</td>\n",
       "    </tr>\n",
       "    <tr>\n",
       "      <th id=\"T_b848b_level0_row5\" class=\"row_heading level0 row5\" >5</th>\n",
       "      <td id=\"T_b848b_row5_col0\" class=\"data row5 col0\" >Transformed data shape</td>\n",
       "      <td id=\"T_b848b_row5_col1\" class=\"data row5 col1\" >(25400, 5)</td>\n",
       "    </tr>\n",
       "    <tr>\n",
       "      <th id=\"T_b848b_level0_row6\" class=\"row_heading level0 row6\" >6</th>\n",
       "      <td id=\"T_b848b_row6_col0\" class=\"data row6 col0\" >Transformed train set shape</td>\n",
       "      <td id=\"T_b848b_row6_col1\" class=\"data row6 col1\" >(17780, 5)</td>\n",
       "    </tr>\n",
       "    <tr>\n",
       "      <th id=\"T_b848b_level0_row7\" class=\"row_heading level0 row7\" >7</th>\n",
       "      <td id=\"T_b848b_row7_col0\" class=\"data row7 col0\" >Transformed test set shape</td>\n",
       "      <td id=\"T_b848b_row7_col1\" class=\"data row7 col1\" >(7620, 5)</td>\n",
       "    </tr>\n",
       "    <tr>\n",
       "      <th id=\"T_b848b_level0_row8\" class=\"row_heading level0 row8\" >8</th>\n",
       "      <td id=\"T_b848b_row8_col0\" class=\"data row8 col0\" >Numeric features</td>\n",
       "      <td id=\"T_b848b_row8_col1\" class=\"data row8 col1\" >2</td>\n",
       "    </tr>\n",
       "    <tr>\n",
       "      <th id=\"T_b848b_level0_row9\" class=\"row_heading level0 row9\" >9</th>\n",
       "      <td id=\"T_b848b_row9_col0\" class=\"data row9 col0\" >Categorical features</td>\n",
       "      <td id=\"T_b848b_row9_col1\" class=\"data row9 col1\" >2</td>\n",
       "    </tr>\n",
       "    <tr>\n",
       "      <th id=\"T_b848b_level0_row10\" class=\"row_heading level0 row10\" >10</th>\n",
       "      <td id=\"T_b848b_row10_col0\" class=\"data row10 col0\" >Preprocess</td>\n",
       "      <td id=\"T_b848b_row10_col1\" class=\"data row10 col1\" >True</td>\n",
       "    </tr>\n",
       "    <tr>\n",
       "      <th id=\"T_b848b_level0_row11\" class=\"row_heading level0 row11\" >11</th>\n",
       "      <td id=\"T_b848b_row11_col0\" class=\"data row11 col0\" >Imputation type</td>\n",
       "      <td id=\"T_b848b_row11_col1\" class=\"data row11 col1\" >simple</td>\n",
       "    </tr>\n",
       "    <tr>\n",
       "      <th id=\"T_b848b_level0_row12\" class=\"row_heading level0 row12\" >12</th>\n",
       "      <td id=\"T_b848b_row12_col0\" class=\"data row12 col0\" >Numeric imputation</td>\n",
       "      <td id=\"T_b848b_row12_col1\" class=\"data row12 col1\" >mean</td>\n",
       "    </tr>\n",
       "    <tr>\n",
       "      <th id=\"T_b848b_level0_row13\" class=\"row_heading level0 row13\" >13</th>\n",
       "      <td id=\"T_b848b_row13_col0\" class=\"data row13 col0\" >Categorical imputation</td>\n",
       "      <td id=\"T_b848b_row13_col1\" class=\"data row13 col1\" >mode</td>\n",
       "    </tr>\n",
       "    <tr>\n",
       "      <th id=\"T_b848b_level0_row14\" class=\"row_heading level0 row14\" >14</th>\n",
       "      <td id=\"T_b848b_row14_col0\" class=\"data row14 col0\" >Maximum one-hot encoding</td>\n",
       "      <td id=\"T_b848b_row14_col1\" class=\"data row14 col1\" >25</td>\n",
       "    </tr>\n",
       "    <tr>\n",
       "      <th id=\"T_b848b_level0_row15\" class=\"row_heading level0 row15\" >15</th>\n",
       "      <td id=\"T_b848b_row15_col0\" class=\"data row15 col0\" >Encoding method</td>\n",
       "      <td id=\"T_b848b_row15_col1\" class=\"data row15 col1\" >None</td>\n",
       "    </tr>\n",
       "    <tr>\n",
       "      <th id=\"T_b848b_level0_row16\" class=\"row_heading level0 row16\" >16</th>\n",
       "      <td id=\"T_b848b_row16_col0\" class=\"data row16 col0\" >Fold Generator</td>\n",
       "      <td id=\"T_b848b_row16_col1\" class=\"data row16 col1\" >StratifiedKFold</td>\n",
       "    </tr>\n",
       "    <tr>\n",
       "      <th id=\"T_b848b_level0_row17\" class=\"row_heading level0 row17\" >17</th>\n",
       "      <td id=\"T_b848b_row17_col0\" class=\"data row17 col0\" >Fold Number</td>\n",
       "      <td id=\"T_b848b_row17_col1\" class=\"data row17 col1\" >10</td>\n",
       "    </tr>\n",
       "    <tr>\n",
       "      <th id=\"T_b848b_level0_row18\" class=\"row_heading level0 row18\" >18</th>\n",
       "      <td id=\"T_b848b_row18_col0\" class=\"data row18 col0\" >CPU Jobs</td>\n",
       "      <td id=\"T_b848b_row18_col1\" class=\"data row18 col1\" >-1</td>\n",
       "    </tr>\n",
       "    <tr>\n",
       "      <th id=\"T_b848b_level0_row19\" class=\"row_heading level0 row19\" >19</th>\n",
       "      <td id=\"T_b848b_row19_col0\" class=\"data row19 col0\" >Use GPU</td>\n",
       "      <td id=\"T_b848b_row19_col1\" class=\"data row19 col1\" >False</td>\n",
       "    </tr>\n",
       "    <tr>\n",
       "      <th id=\"T_b848b_level0_row20\" class=\"row_heading level0 row20\" >20</th>\n",
       "      <td id=\"T_b848b_row20_col0\" class=\"data row20 col0\" >Log Experiment</td>\n",
       "      <td id=\"T_b848b_row20_col1\" class=\"data row20 col1\" >False</td>\n",
       "    </tr>\n",
       "    <tr>\n",
       "      <th id=\"T_b848b_level0_row21\" class=\"row_heading level0 row21\" >21</th>\n",
       "      <td id=\"T_b848b_row21_col0\" class=\"data row21 col0\" >Experiment Name</td>\n",
       "      <td id=\"T_b848b_row21_col1\" class=\"data row21 col1\" >clf-default-name</td>\n",
       "    </tr>\n",
       "    <tr>\n",
       "      <th id=\"T_b848b_level0_row22\" class=\"row_heading level0 row22\" >22</th>\n",
       "      <td id=\"T_b848b_row22_col0\" class=\"data row22 col0\" >USI</td>\n",
       "      <td id=\"T_b848b_row22_col1\" class=\"data row22 col1\" >2073</td>\n",
       "    </tr>\n",
       "  </tbody>\n",
       "</table>\n"
      ],
      "text/plain": [
       "<pandas.io.formats.style.Styler at 0x165c7f06a90>"
      ]
     },
     "metadata": {},
     "output_type": "display_data"
    }
   ],
   "source": [
    "a=setup(data=df,target=\"is_sarcastic\")"
   ]
  },
  {
   "cell_type": "code",
   "execution_count": 46,
   "id": "217dd1e3",
   "metadata": {},
   "outputs": [
    {
     "data": {
      "text/html": [],
      "text/plain": [
       "<IPython.core.display.HTML object>"
      ]
     },
     "metadata": {},
     "output_type": "display_data"
    },
    {
     "data": {
      "text/html": [
       "<style type=\"text/css\">\n",
       "#T_3f88b th {\n",
       "  text-align: left;\n",
       "}\n",
       "#T_3f88b_row0_col0, #T_3f88b_row0_col2, #T_3f88b_row0_col4, #T_3f88b_row0_col5, #T_3f88b_row0_col6, #T_3f88b_row1_col0, #T_3f88b_row1_col1, #T_3f88b_row1_col2, #T_3f88b_row1_col3, #T_3f88b_row1_col5, #T_3f88b_row1_col6, #T_3f88b_row1_col7, #T_3f88b_row2_col0, #T_3f88b_row2_col1, #T_3f88b_row2_col2, #T_3f88b_row2_col3, #T_3f88b_row2_col5, #T_3f88b_row2_col6, #T_3f88b_row2_col7, #T_3f88b_row3_col0, #T_3f88b_row3_col1, #T_3f88b_row3_col2, #T_3f88b_row3_col3, #T_3f88b_row3_col5, #T_3f88b_row3_col6, #T_3f88b_row3_col7, #T_3f88b_row4_col0, #T_3f88b_row4_col1, #T_3f88b_row4_col2, #T_3f88b_row4_col3, #T_3f88b_row4_col5, #T_3f88b_row4_col6, #T_3f88b_row4_col7, #T_3f88b_row5_col0, #T_3f88b_row5_col1, #T_3f88b_row5_col3, #T_3f88b_row5_col5, #T_3f88b_row5_col6, #T_3f88b_row5_col7, #T_3f88b_row6_col0, #T_3f88b_row6_col1, #T_3f88b_row6_col2, #T_3f88b_row6_col3, #T_3f88b_row6_col5, #T_3f88b_row6_col6, #T_3f88b_row6_col7, #T_3f88b_row7_col0, #T_3f88b_row7_col1, #T_3f88b_row7_col2, #T_3f88b_row7_col3, #T_3f88b_row7_col5, #T_3f88b_row7_col6, #T_3f88b_row7_col7, #T_3f88b_row8_col0, #T_3f88b_row8_col1, #T_3f88b_row8_col2, #T_3f88b_row8_col3, #T_3f88b_row8_col5, #T_3f88b_row8_col6, #T_3f88b_row8_col7, #T_3f88b_row9_col0, #T_3f88b_row9_col1, #T_3f88b_row9_col2, #T_3f88b_row9_col3, #T_3f88b_row9_col5, #T_3f88b_row9_col6, #T_3f88b_row9_col7, #T_3f88b_row10_col0, #T_3f88b_row10_col1, #T_3f88b_row10_col2, #T_3f88b_row10_col3, #T_3f88b_row10_col4, #T_3f88b_row10_col5, #T_3f88b_row10_col6, #T_3f88b_row10_col7, #T_3f88b_row11_col0, #T_3f88b_row11_col1, #T_3f88b_row11_col2, #T_3f88b_row11_col3, #T_3f88b_row11_col5, #T_3f88b_row11_col6, #T_3f88b_row11_col7, #T_3f88b_row12_col0, #T_3f88b_row12_col1, #T_3f88b_row12_col2, #T_3f88b_row12_col3, #T_3f88b_row12_col5, #T_3f88b_row12_col6, #T_3f88b_row12_col7, #T_3f88b_row13_col0, #T_3f88b_row13_col1, #T_3f88b_row13_col2, #T_3f88b_row13_col3, #T_3f88b_row13_col4, #T_3f88b_row13_col5, #T_3f88b_row13_col6, #T_3f88b_row13_col7, #T_3f88b_row14_col0, #T_3f88b_row14_col1, #T_3f88b_row14_col2, #T_3f88b_row14_col3, #T_3f88b_row14_col4, #T_3f88b_row14_col7 {\n",
       "  text-align: left;\n",
       "}\n",
       "#T_3f88b_row0_col1, #T_3f88b_row0_col3, #T_3f88b_row0_col7, #T_3f88b_row1_col4, #T_3f88b_row2_col4, #T_3f88b_row3_col4, #T_3f88b_row4_col4, #T_3f88b_row5_col2, #T_3f88b_row5_col4, #T_3f88b_row6_col4, #T_3f88b_row7_col4, #T_3f88b_row8_col4, #T_3f88b_row9_col4, #T_3f88b_row11_col4, #T_3f88b_row12_col4, #T_3f88b_row14_col5, #T_3f88b_row14_col6 {\n",
       "  text-align: left;\n",
       "  background-color: yellow;\n",
       "}\n",
       "#T_3f88b_row0_col8, #T_3f88b_row1_col8, #T_3f88b_row2_col8, #T_3f88b_row3_col8, #T_3f88b_row4_col8, #T_3f88b_row5_col8, #T_3f88b_row6_col8, #T_3f88b_row7_col8, #T_3f88b_row8_col8, #T_3f88b_row9_col8, #T_3f88b_row10_col8, #T_3f88b_row11_col8, #T_3f88b_row12_col8, #T_3f88b_row14_col8 {\n",
       "  text-align: left;\n",
       "  background-color: lightgrey;\n",
       "}\n",
       "#T_3f88b_row13_col8 {\n",
       "  text-align: left;\n",
       "  background-color: yellow;\n",
       "  background-color: lightgrey;\n",
       "}\n",
       "</style>\n",
       "<table id=\"T_3f88b\">\n",
       "  <thead>\n",
       "    <tr>\n",
       "      <th class=\"blank level0\" >&nbsp;</th>\n",
       "      <th id=\"T_3f88b_level0_col0\" class=\"col_heading level0 col0\" >Model</th>\n",
       "      <th id=\"T_3f88b_level0_col1\" class=\"col_heading level0 col1\" >Accuracy</th>\n",
       "      <th id=\"T_3f88b_level0_col2\" class=\"col_heading level0 col2\" >AUC</th>\n",
       "      <th id=\"T_3f88b_level0_col3\" class=\"col_heading level0 col3\" >Recall</th>\n",
       "      <th id=\"T_3f88b_level0_col4\" class=\"col_heading level0 col4\" >Prec.</th>\n",
       "      <th id=\"T_3f88b_level0_col5\" class=\"col_heading level0 col5\" >F1</th>\n",
       "      <th id=\"T_3f88b_level0_col6\" class=\"col_heading level0 col6\" >Kappa</th>\n",
       "      <th id=\"T_3f88b_level0_col7\" class=\"col_heading level0 col7\" >MCC</th>\n",
       "      <th id=\"T_3f88b_level0_col8\" class=\"col_heading level0 col8\" >TT (Sec)</th>\n",
       "    </tr>\n",
       "  </thead>\n",
       "  <tbody>\n",
       "    <tr>\n",
       "      <th id=\"T_3f88b_level0_row0\" class=\"row_heading level0 row0\" >knn</th>\n",
       "      <td id=\"T_3f88b_row0_col0\" class=\"data row0 col0\" >K Neighbors Classifier</td>\n",
       "      <td id=\"T_3f88b_row0_col1\" class=\"data row0 col1\" >0.5679</td>\n",
       "      <td id=\"T_3f88b_row0_col2\" class=\"data row0 col2\" >0.5089</td>\n",
       "      <td id=\"T_3f88b_row0_col3\" class=\"data row0 col3\" >0.5679</td>\n",
       "      <td id=\"T_3f88b_row0_col4\" class=\"data row0 col4\" >0.6919</td>\n",
       "      <td id=\"T_3f88b_row0_col5\" class=\"data row0 col5\" >0.4190</td>\n",
       "      <td id=\"T_3f88b_row0_col6\" class=\"data row0 col6\" >0.0142</td>\n",
       "      <td id=\"T_3f88b_row0_col7\" class=\"data row0 col7\" >0.0727</td>\n",
       "      <td id=\"T_3f88b_row0_col8\" class=\"data row0 col8\" >0.9030</td>\n",
       "    </tr>\n",
       "    <tr>\n",
       "      <th id=\"T_3f88b_level0_row1\" class=\"row_heading level0 row1\" >lr</th>\n",
       "      <td id=\"T_3f88b_row1_col0\" class=\"data row1 col0\" >Logistic Regression</td>\n",
       "      <td id=\"T_3f88b_row1_col1\" class=\"data row1 col1\" >0.5659</td>\n",
       "      <td id=\"T_3f88b_row1_col2\" class=\"data row1 col2\" >0.5664</td>\n",
       "      <td id=\"T_3f88b_row1_col3\" class=\"data row1 col3\" >0.5659</td>\n",
       "      <td id=\"T_3f88b_row1_col4\" class=\"data row1 col4\" >0.7549</td>\n",
       "      <td id=\"T_3f88b_row1_col5\" class=\"data row1 col5\" >0.4124</td>\n",
       "      <td id=\"T_3f88b_row1_col6\" class=\"data row1 col6\" >0.0082</td>\n",
       "      <td id=\"T_3f88b_row1_col7\" class=\"data row1 col7\" >0.0632</td>\n",
       "      <td id=\"T_3f88b_row1_col8\" class=\"data row1 col8\" >0.5750</td>\n",
       "    </tr>\n",
       "    <tr>\n",
       "      <th id=\"T_3f88b_level0_row2\" class=\"row_heading level0 row2\" >nb</th>\n",
       "      <td id=\"T_3f88b_row2_col0\" class=\"data row2 col0\" >Naive Bayes</td>\n",
       "      <td id=\"T_3f88b_row2_col1\" class=\"data row2 col1\" >0.5659</td>\n",
       "      <td id=\"T_3f88b_row2_col2\" class=\"data row2 col2\" >0.5037</td>\n",
       "      <td id=\"T_3f88b_row2_col3\" class=\"data row2 col3\" >0.5659</td>\n",
       "      <td id=\"T_3f88b_row2_col4\" class=\"data row2 col4\" >0.7549</td>\n",
       "      <td id=\"T_3f88b_row2_col5\" class=\"data row2 col5\" >0.4124</td>\n",
       "      <td id=\"T_3f88b_row2_col6\" class=\"data row2 col6\" >0.0082</td>\n",
       "      <td id=\"T_3f88b_row2_col7\" class=\"data row2 col7\" >0.0632</td>\n",
       "      <td id=\"T_3f88b_row2_col8\" class=\"data row2 col8\" >0.0690</td>\n",
       "    </tr>\n",
       "    <tr>\n",
       "      <th id=\"T_3f88b_level0_row3\" class=\"row_heading level0 row3\" >dt</th>\n",
       "      <td id=\"T_3f88b_row3_col0\" class=\"data row3 col0\" >Decision Tree Classifier</td>\n",
       "      <td id=\"T_3f88b_row3_col1\" class=\"data row3 col1\" >0.5659</td>\n",
       "      <td id=\"T_3f88b_row3_col2\" class=\"data row3 col2\" >0.5037</td>\n",
       "      <td id=\"T_3f88b_row3_col3\" class=\"data row3 col3\" >0.5659</td>\n",
       "      <td id=\"T_3f88b_row3_col4\" class=\"data row3 col4\" >0.7549</td>\n",
       "      <td id=\"T_3f88b_row3_col5\" class=\"data row3 col5\" >0.4124</td>\n",
       "      <td id=\"T_3f88b_row3_col6\" class=\"data row3 col6\" >0.0082</td>\n",
       "      <td id=\"T_3f88b_row3_col7\" class=\"data row3 col7\" >0.0632</td>\n",
       "      <td id=\"T_3f88b_row3_col8\" class=\"data row3 col8\" >0.0680</td>\n",
       "    </tr>\n",
       "    <tr>\n",
       "      <th id=\"T_3f88b_level0_row4\" class=\"row_heading level0 row4\" >svm</th>\n",
       "      <td id=\"T_3f88b_row4_col0\" class=\"data row4 col0\" >SVM - Linear Kernel</td>\n",
       "      <td id=\"T_3f88b_row4_col1\" class=\"data row4 col1\" >0.5659</td>\n",
       "      <td id=\"T_3f88b_row4_col2\" class=\"data row4 col2\" >0.5230</td>\n",
       "      <td id=\"T_3f88b_row4_col3\" class=\"data row4 col3\" >0.5659</td>\n",
       "      <td id=\"T_3f88b_row4_col4\" class=\"data row4 col4\" >0.7549</td>\n",
       "      <td id=\"T_3f88b_row4_col5\" class=\"data row4 col5\" >0.4124</td>\n",
       "      <td id=\"T_3f88b_row4_col6\" class=\"data row4 col6\" >0.0082</td>\n",
       "      <td id=\"T_3f88b_row4_col7\" class=\"data row4 col7\" >0.0632</td>\n",
       "      <td id=\"T_3f88b_row4_col8\" class=\"data row4 col8\" >0.0680</td>\n",
       "    </tr>\n",
       "    <tr>\n",
       "      <th id=\"T_3f88b_level0_row5\" class=\"row_heading level0 row5\" >ridge</th>\n",
       "      <td id=\"T_3f88b_row5_col0\" class=\"data row5 col0\" >Ridge Classifier</td>\n",
       "      <td id=\"T_3f88b_row5_col1\" class=\"data row5 col1\" >0.5659</td>\n",
       "      <td id=\"T_3f88b_row5_col2\" class=\"data row5 col2\" >0.5677</td>\n",
       "      <td id=\"T_3f88b_row5_col3\" class=\"data row5 col3\" >0.5659</td>\n",
       "      <td id=\"T_3f88b_row5_col4\" class=\"data row5 col4\" >0.7549</td>\n",
       "      <td id=\"T_3f88b_row5_col5\" class=\"data row5 col5\" >0.4124</td>\n",
       "      <td id=\"T_3f88b_row5_col6\" class=\"data row5 col6\" >0.0082</td>\n",
       "      <td id=\"T_3f88b_row5_col7\" class=\"data row5 col7\" >0.0632</td>\n",
       "      <td id=\"T_3f88b_row5_col8\" class=\"data row5 col8\" >0.0740</td>\n",
       "    </tr>\n",
       "    <tr>\n",
       "      <th id=\"T_3f88b_level0_row6\" class=\"row_heading level0 row6\" >rf</th>\n",
       "      <td id=\"T_3f88b_row6_col0\" class=\"data row6 col0\" >Random Forest Classifier</td>\n",
       "      <td id=\"T_3f88b_row6_col1\" class=\"data row6 col1\" >0.5659</td>\n",
       "      <td id=\"T_3f88b_row6_col2\" class=\"data row6 col2\" >0.5047</td>\n",
       "      <td id=\"T_3f88b_row6_col3\" class=\"data row6 col3\" >0.5659</td>\n",
       "      <td id=\"T_3f88b_row6_col4\" class=\"data row6 col4\" >0.7549</td>\n",
       "      <td id=\"T_3f88b_row6_col5\" class=\"data row6 col5\" >0.4124</td>\n",
       "      <td id=\"T_3f88b_row6_col6\" class=\"data row6 col6\" >0.0082</td>\n",
       "      <td id=\"T_3f88b_row6_col7\" class=\"data row6 col7\" >0.0632</td>\n",
       "      <td id=\"T_3f88b_row6_col8\" class=\"data row6 col8\" >0.1790</td>\n",
       "    </tr>\n",
       "    <tr>\n",
       "      <th id=\"T_3f88b_level0_row7\" class=\"row_heading level0 row7\" >ada</th>\n",
       "      <td id=\"T_3f88b_row7_col0\" class=\"data row7 col0\" >Ada Boost Classifier</td>\n",
       "      <td id=\"T_3f88b_row7_col1\" class=\"data row7 col1\" >0.5659</td>\n",
       "      <td id=\"T_3f88b_row7_col2\" class=\"data row7 col2\" >0.5037</td>\n",
       "      <td id=\"T_3f88b_row7_col3\" class=\"data row7 col3\" >0.5659</td>\n",
       "      <td id=\"T_3f88b_row7_col4\" class=\"data row7 col4\" >0.7549</td>\n",
       "      <td id=\"T_3f88b_row7_col5\" class=\"data row7 col5\" >0.4124</td>\n",
       "      <td id=\"T_3f88b_row7_col6\" class=\"data row7 col6\" >0.0082</td>\n",
       "      <td id=\"T_3f88b_row7_col7\" class=\"data row7 col7\" >0.0632</td>\n",
       "      <td id=\"T_3f88b_row7_col8\" class=\"data row7 col8\" >0.0690</td>\n",
       "    </tr>\n",
       "    <tr>\n",
       "      <th id=\"T_3f88b_level0_row8\" class=\"row_heading level0 row8\" >gbc</th>\n",
       "      <td id=\"T_3f88b_row8_col0\" class=\"data row8 col0\" >Gradient Boosting Classifier</td>\n",
       "      <td id=\"T_3f88b_row8_col1\" class=\"data row8 col1\" >0.5659</td>\n",
       "      <td id=\"T_3f88b_row8_col2\" class=\"data row8 col2\" >0.4937</td>\n",
       "      <td id=\"T_3f88b_row8_col3\" class=\"data row8 col3\" >0.5659</td>\n",
       "      <td id=\"T_3f88b_row8_col4\" class=\"data row8 col4\" >0.7549</td>\n",
       "      <td id=\"T_3f88b_row8_col5\" class=\"data row8 col5\" >0.4124</td>\n",
       "      <td id=\"T_3f88b_row8_col6\" class=\"data row8 col6\" >0.0082</td>\n",
       "      <td id=\"T_3f88b_row8_col7\" class=\"data row8 col7\" >0.0632</td>\n",
       "      <td id=\"T_3f88b_row8_col8\" class=\"data row8 col8\" >0.1480</td>\n",
       "    </tr>\n",
       "    <tr>\n",
       "      <th id=\"T_3f88b_level0_row9\" class=\"row_heading level0 row9\" >lda</th>\n",
       "      <td id=\"T_3f88b_row9_col0\" class=\"data row9 col0\" >Linear Discriminant Analysis</td>\n",
       "      <td id=\"T_3f88b_row9_col1\" class=\"data row9 col1\" >0.5659</td>\n",
       "      <td id=\"T_3f88b_row9_col2\" class=\"data row9 col2\" >0.4574</td>\n",
       "      <td id=\"T_3f88b_row9_col3\" class=\"data row9 col3\" >0.5659</td>\n",
       "      <td id=\"T_3f88b_row9_col4\" class=\"data row9 col4\" >0.7549</td>\n",
       "      <td id=\"T_3f88b_row9_col5\" class=\"data row9 col5\" >0.4124</td>\n",
       "      <td id=\"T_3f88b_row9_col6\" class=\"data row9 col6\" >0.0082</td>\n",
       "      <td id=\"T_3f88b_row9_col7\" class=\"data row9 col7\" >0.0632</td>\n",
       "      <td id=\"T_3f88b_row9_col8\" class=\"data row9 col8\" >0.0760</td>\n",
       "    </tr>\n",
       "    <tr>\n",
       "      <th id=\"T_3f88b_level0_row10\" class=\"row_heading level0 row10\" >et</th>\n",
       "      <td id=\"T_3f88b_row10_col0\" class=\"data row10 col0\" >Extra Trees Classifier</td>\n",
       "      <td id=\"T_3f88b_row10_col1\" class=\"data row10 col1\" >0.5659</td>\n",
       "      <td id=\"T_3f88b_row10_col2\" class=\"data row10 col2\" >0.5067</td>\n",
       "      <td id=\"T_3f88b_row10_col3\" class=\"data row10 col3\" >0.5659</td>\n",
       "      <td id=\"T_3f88b_row10_col4\" class=\"data row10 col4\" >0.7241</td>\n",
       "      <td id=\"T_3f88b_row10_col5\" class=\"data row10 col5\" >0.4137</td>\n",
       "      <td id=\"T_3f88b_row10_col6\" class=\"data row10 col6\" >0.0088</td>\n",
       "      <td id=\"T_3f88b_row10_col7\" class=\"data row10 col7\" >0.0595</td>\n",
       "      <td id=\"T_3f88b_row10_col8\" class=\"data row10 col8\" >0.1410</td>\n",
       "    </tr>\n",
       "    <tr>\n",
       "      <th id=\"T_3f88b_level0_row11\" class=\"row_heading level0 row11\" >xgboost</th>\n",
       "      <td id=\"T_3f88b_row11_col0\" class=\"data row11 col0\" >Extreme Gradient Boosting</td>\n",
       "      <td id=\"T_3f88b_row11_col1\" class=\"data row11 col1\" >0.5659</td>\n",
       "      <td id=\"T_3f88b_row11_col2\" class=\"data row11 col2\" >0.5037</td>\n",
       "      <td id=\"T_3f88b_row11_col3\" class=\"data row11 col3\" >0.5659</td>\n",
       "      <td id=\"T_3f88b_row11_col4\" class=\"data row11 col4\" >0.7549</td>\n",
       "      <td id=\"T_3f88b_row11_col5\" class=\"data row11 col5\" >0.4124</td>\n",
       "      <td id=\"T_3f88b_row11_col6\" class=\"data row11 col6\" >0.0082</td>\n",
       "      <td id=\"T_3f88b_row11_col7\" class=\"data row11 col7\" >0.0632</td>\n",
       "      <td id=\"T_3f88b_row11_col8\" class=\"data row11 col8\" >0.2470</td>\n",
       "    </tr>\n",
       "    <tr>\n",
       "      <th id=\"T_3f88b_level0_row12\" class=\"row_heading level0 row12\" >lightgbm</th>\n",
       "      <td id=\"T_3f88b_row12_col0\" class=\"data row12 col0\" >Light Gradient Boosting Machine</td>\n",
       "      <td id=\"T_3f88b_row12_col1\" class=\"data row12 col1\" >0.5659</td>\n",
       "      <td id=\"T_3f88b_row12_col2\" class=\"data row12 col2\" >0.5149</td>\n",
       "      <td id=\"T_3f88b_row12_col3\" class=\"data row12 col3\" >0.5659</td>\n",
       "      <td id=\"T_3f88b_row12_col4\" class=\"data row12 col4\" >0.7549</td>\n",
       "      <td id=\"T_3f88b_row12_col5\" class=\"data row12 col5\" >0.4124</td>\n",
       "      <td id=\"T_3f88b_row12_col6\" class=\"data row12 col6\" >0.0082</td>\n",
       "      <td id=\"T_3f88b_row12_col7\" class=\"data row12 col7\" >0.0632</td>\n",
       "      <td id=\"T_3f88b_row12_col8\" class=\"data row12 col8\" >0.1600</td>\n",
       "    </tr>\n",
       "    <tr>\n",
       "      <th id=\"T_3f88b_level0_row13\" class=\"row_heading level0 row13\" >dummy</th>\n",
       "      <td id=\"T_3f88b_row13_col0\" class=\"data row13 col0\" >Dummy Classifier</td>\n",
       "      <td id=\"T_3f88b_row13_col1\" class=\"data row13 col1\" >0.5627</td>\n",
       "      <td id=\"T_3f88b_row13_col2\" class=\"data row13 col2\" >0.5000</td>\n",
       "      <td id=\"T_3f88b_row13_col3\" class=\"data row13 col3\" >0.5627</td>\n",
       "      <td id=\"T_3f88b_row13_col4\" class=\"data row13 col4\" >0.3166</td>\n",
       "      <td id=\"T_3f88b_row13_col5\" class=\"data row13 col5\" >0.4052</td>\n",
       "      <td id=\"T_3f88b_row13_col6\" class=\"data row13 col6\" >0.0000</td>\n",
       "      <td id=\"T_3f88b_row13_col7\" class=\"data row13 col7\" >0.0000</td>\n",
       "      <td id=\"T_3f88b_row13_col8\" class=\"data row13 col8\" >0.0650</td>\n",
       "    </tr>\n",
       "    <tr>\n",
       "      <th id=\"T_3f88b_level0_row14\" class=\"row_heading level0 row14\" >qda</th>\n",
       "      <td id=\"T_3f88b_row14_col0\" class=\"data row14 col0\" >Quadratic Discriminant Analysis</td>\n",
       "      <td id=\"T_3f88b_row14_col1\" class=\"data row14 col1\" >0.5475</td>\n",
       "      <td id=\"T_3f88b_row14_col2\" class=\"data row14 col2\" >0.5320</td>\n",
       "      <td id=\"T_3f88b_row14_col3\" class=\"data row14 col3\" >0.5475</td>\n",
       "      <td id=\"T_3f88b_row14_col4\" class=\"data row14 col4\" >0.5040</td>\n",
       "      <td id=\"T_3f88b_row14_col5\" class=\"data row14 col5\" >0.4665</td>\n",
       "      <td id=\"T_3f88b_row14_col6\" class=\"data row14 col6\" >0.0151</td>\n",
       "      <td id=\"T_3f88b_row14_col7\" class=\"data row14 col7\" >0.0209</td>\n",
       "      <td id=\"T_3f88b_row14_col8\" class=\"data row14 col8\" >0.0680</td>\n",
       "    </tr>\n",
       "  </tbody>\n",
       "</table>\n"
      ],
      "text/plain": [
       "<pandas.io.formats.style.Styler at 0x165ccad9450>"
      ]
     },
     "metadata": {},
     "output_type": "display_data"
    },
    {
     "data": {
      "application/vnd.jupyter.widget-view+json": {
       "model_id": "",
       "version_major": 2,
       "version_minor": 0
      },
      "text/plain": [
       "Processing:   0%|          | 0/65 [00:00<?, ?it/s]"
      ]
     },
     "metadata": {},
     "output_type": "display_data"
    }
   ],
   "source": [
    "best_model=compare_models()"
   ]
  },
  {
   "cell_type": "code",
   "execution_count": 48,
   "id": "57ac58fa",
   "metadata": {},
   "outputs": [
    {
     "name": "stdout",
     "output_type": "stream",
     "text": [
      "Enter a Text: Cows lose their jobs as milk prices drop\n",
      "['Sarcasm']\n"
     ]
    }
   ],
   "source": [
    "user = input(\"Enter a Text: \")\n",
    "data = vect.transform([user]).toarray()\n",
    "output = model.predict(data)\n",
    "print(output)"
   ]
  },
  {
   "cell_type": "markdown",
   "id": "1f22640d",
   "metadata": {},
   "source": [
    "### Summary"
   ]
  },
  {
   "cell_type": "markdown",
   "id": "cf162b59",
   "metadata": {},
   "source": [
    "Sarcasm is a complex and multi-layered use of language, often changing the meaning of something by saying the opposite of what it means. Social media and online content provide valuable data sources for analyzing sarcastic expressions. In this project, we used Natural Language Processing (NLP) techniques to automatically detect sarcasm in text. We took the necessary columns, organized our data, and trained our model. We achieved an 84 percent success rate. Thus, we can detect whether sarcasm is present in the given text."
   ]
  }
 ],
 "metadata": {
  "kernelspec": {
   "display_name": "Python 3 (ipykernel)",
   "language": "python",
   "name": "python3"
  },
  "language_info": {
   "codemirror_mode": {
    "name": "ipython",
    "version": 3
   },
   "file_extension": ".py",
   "mimetype": "text/x-python",
   "name": "python",
   "nbconvert_exporter": "python",
   "pygments_lexer": "ipython3",
   "version": "3.11.7"
  }
 },
 "nbformat": 4,
 "nbformat_minor": 5
}
